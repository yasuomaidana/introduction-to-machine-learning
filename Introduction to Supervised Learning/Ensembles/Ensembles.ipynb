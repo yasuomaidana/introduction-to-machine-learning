{
 "cells": [
  {
   "attachments": {},
   "cell_type": "markdown",
   "metadata": {},
   "source": [
    "# Ensemble methods (adaBoost, random forests) "
   ]
  },
  {
   "cell_type": "code",
   "execution_count": 1,
   "metadata": {},
   "outputs": [],
   "source": [
    "import numpy as np\n",
    "import pandas as pd\n",
    "from sklearn.tree import DecisionTreeClassifier\n",
    "from sklearn.base import clone \n",
    "from sklearn import tree\n",
    "from sklearn.model_selection import train_test_split\n",
    "import matplotlib.pylab as plt \n",
    "%matplotlib inline "
   ]
  },
  {
   "attachments": {},
   "cell_type": "markdown",
   "metadata": {},
   "source": [
    "Run the helper code below to create a training and validation set of threes and eights from the MNIST dataset. There is also a helper function to display digits. "
   ]
  },
  {
   "cell_type": "code",
   "execution_count": 2,
   "metadata": {},
   "outputs": [],
   "source": [
    "class ThreesandEights:\n",
    "    \"\"\"\n",
    "    Class to store MNIST 3s and 8s data\n",
    "    \"\"\"\n",
    "\n",
    "    def __init__(self, location):\n",
    "\n",
    "        import pickle, gzip\n",
    "\n",
    "        # Load the dataset\n",
    "        f = gzip.open(location, 'rb')\n",
    "\n",
    "        # Split the data set \n",
    "        x_train, y_train, x_test, y_test = pickle.load(f)\n",
    "                \n",
    "        # Extract only 3's and 8's for training set \n",
    "        self.x_train = x_train[np.logical_or(y_train== 3, y_train == 8), :]\n",
    "        self.y_train = y_train[np.logical_or(y_train== 3, y_train == 8)]\n",
    "        self.y_train = np.array([1 if y == 8 else -1 for y in self.y_train])\n",
    "        \n",
    "        # Shuffle the training data \n",
    "        shuff = np.arange(self.x_train.shape[0])\n",
    "        np.random.shuffle(shuff)\n",
    "        self.x_train = self.x_train[shuff,:]\n",
    "        self.y_train = self.y_train[shuff]\n",
    "\n",
    "        # Extract only 3's and 8's for validation set \n",
    "        self.x_test = x_test[np.logical_or(y_test== 3, y_test == 8), :]\n",
    "        self.y_test = y_test[np.logical_or(y_test== 3, y_test == 8)]\n",
    "        self.y_test = np.array([1 if y == 8 else -1 for y in self.y_test])\n",
    "        \n",
    "        f.close()\n",
    "\n",
    "def view_digit(ex, label=None, feature=None):\n",
    "    \"\"\"\n",
    "    function to plot digit examples \n",
    "    \"\"\"\n",
    "    if label: print(\"true label: {:d}\".format(label))\n",
    "    img = ex.reshape(21,21)\n",
    "    col = np.dstack((img, img, img))\n",
    "    if feature is not None: col[feature[0]//21, feature[0]%21, :] = [1, 0, 0]\n",
    "    plt.imshow(col)\n",
    "    plt.xticks([]), plt.yticks([])\n",
    "    \n",
    "data = ThreesandEights(\"data/mnist21x21_3789.pklz\")"
   ]
  },
  {
   "cell_type": "code",
   "execution_count": 3,
   "metadata": {},
   "outputs": [
    {
     "name": "stdout",
     "output_type": "stream",
     "text": [
      "true label: 1\n"
     ]
    },
    {
     "data": {
      "image/png": "[encoded data removed]",
      "text/plain": [
       "<Figure size 640x480 with 1 Axes>"
      ]
     },
     "metadata": {},
     "output_type": "display_data"
    }
   ],
   "source": [
    "view_digit(data.x_train[0], data.y_train[0])"
   ]
  },
  {
   "attachments": {},
   "cell_type": "markdown",
   "metadata": {},
   "source": [
    "### Building an Adaboost Classifier to classify MNIST digits 3 and 8."
   ]
  },
  {
   "attachments": {},
   "cell_type": "markdown",
   "metadata": {},
   "source": [
    "Recall that the model we attempt to learn in AdaBoost is given by \n",
    "\n",
    "$$\n",
    "H({\\bf x}) = \\textrm{sign}\\left[\\displaystyle\\sum_{k=1}^K\\alpha_k h_k({\\bf x}) \\right]\n",
    "$$\n",
    "\n",
    "where $h_k({\\bf x})$ is the $k^\\textrm{th}$ weak learner and $\\alpha_k$ is it's associated ensemble coefficient. "
   ]
  },
  {
   "attachments": {},
   "cell_type": "markdown",
   "metadata": {},
   "source": [
    "In the `AdaBoost` class below, implement the `fit` method to learn the sequence of weak learners $\\left\\{h_k({\\bf x})\\right\\}_{k=1}^K$ and corresponding coefficients $\\left\\{ \\alpha_k\\right\\}_{k=1}^K$. Note that you may use sklearn's implementation of DecisionTreeClassifier as your weak learner which allows you to pass as an optional parameter the weights associated with each training example.  An example of instantiating and training a single learner is given in the comments of the `fit` method.  \n",
    "\n",
    "Recall that the AdaBoost algorithm is as follows: \n",
    "\n",
    "`for k=1 to K:`\n",
    "\n",
    "$~~~~~~~$ `    a) Fit kth weak learner to training data with weights w`\n",
    "\n",
    "$~~~~~~~$ `    b) Computed weighted error errk for the kth weak learner (Check Adaboost slides for formula).`\n",
    "\n",
    "$~~~~~~~$ `    c) compute vote weight alpha[k] = 0.5 ln ((1-errk)/errk))`\n",
    "\n",
    "$~~~~~~~$ `    d) update training example weights w[i] *= exp[-alpha[k] y[i] h[k](x[i])]`\n",
    "\n",
    "$~~~~~~~$ `    e) normalize training weights so they sum to 1`\n",
    "<br><br>"
   ]
  },
  {
   "cell_type": "code",
   "execution_count": 4,
   "metadata": {},
   "outputs": [],
   "source": [
    "class AdaBoost:\n",
    "    def __init__(self, n_learners=20, base=DecisionTreeClassifier(max_depth=3), random_state=1234):\n",
    "        \"\"\"\n",
    "        Create a new adaboost classifier.\n",
    "        \n",
    "        Args:\n",
    "            N (int, optional): Number of weak learners in classifier.\n",
    "            base (BaseEstimator, optional): Your general weak learner \n",
    "            random_state (int, optional): set random generator.  needed for unit testing. \n",
    "\n",
    "        Attributes:\n",
    "            base (estimator): Your general weak learner \n",
    "            n_learners (int): Number of weak learners in classifier.\n",
    "            alpha (ndarray): Coefficients on weak learners. \n",
    "            learners (list): List of weak learner instances. \n",
    "        \"\"\"\n",
    "        \n",
    "        np.random.seed(42)\n",
    "        \n",
    "        self.n_learners = n_learners \n",
    "        self.base = base\n",
    "        self.alpha = np.zeros(self.n_learners)\n",
    "        self.learners = []\n",
    "        \n",
    "    def fit(self, X_train, y_train):\n",
    "        \"\"\"\n",
    "        Train AdaBoost classifier on data. Sets alphas and learners. \n",
    "        \n",
    "        Args:\n",
    "            X_train (ndarray): [n_samples x n_features] ndarray of training data   \n",
    "            y_train (ndarray): [n_samples] ndarray of data \n",
    "        \"\"\"\n",
    "\n",
    "        # =================================================================\n",
    "        # TODO \n",
    "\n",
    "        # Note: You can create and train a new instantiation \n",
    "        # of your sklearn decision tree as follows \n",
    "        # you don't have to use sklearn's fit function, \n",
    "        # but it is probably the easiest way \n",
    "\n",
    "        # w = np.ones(len(y_train))\n",
    "        # w /= np.sum(w) \n",
    "        # for loop\n",
    "        #   h = clone(self.base)\n",
    "        #   h.fit(X_train, y_train, sample_weight=w)\n",
    "        #   ...\n",
    "        #\n",
    "        #\n",
    "        #   ...\n",
    "        #   Save alpha and learner\n",
    "        \n",
    "        # =================================================================\n",
    "        \n",
    "        # your code here\n",
    "        w = np.ones(len(y_train))\n",
    "        w /= np.sum(w)\n",
    "        for i in range(self.n_learners):\n",
    "            h = clone(self.base)\n",
    "            h.fit(X_train,y_train,w)\n",
    "\n",
    "            yh = h.predict(X_train)\n",
    "            \n",
    "            e_b = self.error_rate(y_train,yh,w)\n",
    "\n",
    "            coef_b = 1/2 * np.log((1-e_b)/e_b)\n",
    "            \n",
    "            w = w * np.exp(-coef_b*y_train*yh)\n",
    "            #w /= np.sum(w)\n",
    "        \n",
    "            self.alpha[i] = coef_b\n",
    "            self.learners.append(h)\n",
    "        \n",
    "        return self  \n",
    "            \n",
    "    def error_rate(self, y_true, y_pred, weights):\n",
    "        # =================================================================\n",
    "        # TODO \n",
    "\n",
    "        # Implement the weighted error rate\n",
    "        # =================================================================\n",
    "        # your code here\n",
    "        y_true = np.array(y_true)\n",
    "        y_pred = np.array(y_pred)\n",
    "        not_equal_index = np.where(y_true != y_pred)\n",
    "        \n",
    "        return np.sum(weights[not_equal_index])/np.sum(weights)\n",
    "        \n",
    "        \n",
    "    def predict(self, X):\n",
    "        \"\"\"\n",
    "        Adaboost prediction for new data X.\n",
    "        \n",
    "        Args:\n",
    "            X (ndarray): [n_samples x n_features] ndarray of data \n",
    "            \n",
    "        Returns: \n",
    "            yhat (ndarray): [n_samples] ndarray of predicted labels {-1,1}\n",
    "        \"\"\"\n",
    "\n",
    "        # =================================================================\n",
    "        # TODO\n",
    "        # =================================================================\n",
    "        yhat = np.zeros(X.shape[0])\n",
    "        \n",
    "        # your code here\n",
    "        for alpha, hypothesis in zip(self.alpha, self.learners):\n",
    "            yhat += alpha*hypothesis.predict(X)\n",
    "        return np.sign(yhat)\n",
    "    \n",
    "    def score(self, X, y):\n",
    "        \"\"\"\n",
    "        Computes prediction accuracy of classifier.  \n",
    "        \n",
    "        Args:\n",
    "            X (ndarray): [n_samples x n_features] ndarray of data \n",
    "            y (ndarray): [n_samples] ndarray of true labels  \n",
    "            \n",
    "        Returns: \n",
    "            Prediction accuracy (between 0.0 and 1.0).\n",
    "        \"\"\"\n",
    "        \n",
    "        # your code here\n",
    "        yh = self.predict(X)\n",
    "        true_predicted = [1 if yp == yr else 0 for yp, yr in zip(yh,y)]\n",
    "        return sum(true_predicted)/len(y)\n",
    "        \n",
    "        \n",
    "    \n",
    "    def staged_score(self, X, y):\n",
    "        \"\"\"\n",
    "        Computes the ensemble score after each iteration of boosting \n",
    "        for monitoring purposes, such as to determine the score on a \n",
    "        test set after each boost.\n",
    "        \n",
    "        Args:\n",
    "            X (ndarray): [n_samples x n_features] ndarray of data \n",
    "            y (ndarray): [n_samples] ndarray of true labels  \n",
    "            \n",
    "        Returns: \n",
    "            scores (ndarary): [n_learners] ndarray of scores \n",
    "        \"\"\"\n",
    "\n",
    "        scores = []\n",
    "        \n",
    "        n = len(y)\n",
    "        yhat = np.zeros(X.shape[0])\n",
    "        # your code here\n",
    "        for alpha, hypothesis in zip(self.alpha, self.learners):\n",
    "            yhat += alpha*hypothesis.predict(X)\n",
    "            true_predicted = [1 if yp == yr else 0 for yp, yr in zip(np.sign(yhat),y)]\n",
    "            scores.append(sum(true_predicted)/n)\n",
    "        \n",
    "        return np.array(scores)        \n",
    "\n"
   ]
  },
  {
   "cell_type": "code",
   "execution_count": 5,
   "metadata": {},
   "outputs": [],
   "source": [
    "# Sample test for Adaboost error rate function. \n",
    "import pytest\n",
    "\n",
    "y_true = [-1, 1, 1, -1, 1, -1, -1]\n",
    "y_pred = [-1, 1, 1, 1, 1, -1, 1]\n",
    "w = np.ones(len(y_true))\n",
    "w /= np.sum(w)\n",
    "\n",
    "clf = AdaBoost() \n",
    "err_rate = clf.error_rate(y_true, y_pred, w)\n",
    "assert pytest.approx(err_rate, 0.01) == 0.2857, \"Check the error_rate function.\""
   ]
  },
  {
   "cell_type": "code",
   "execution_count": 6,
   "metadata": {},
   "outputs": [],
   "source": [
    "# Sample test for Adaboost fit function. \n",
    "\n",
    "sample_data = np.load('data/train.npz') \n",
    "sample_X = sample_data['X']\n",
    "sample_y = sample_data['y']\n",
    "test_model = AdaBoost(n_learners=5).fit(sample_X,sample_y)\n",
    "t_alpha = [1.94591015, 2.14179328, 2.48490665, 1.94679667, 2.22627839]\n",
    "assert pytest.approx(test_model.alpha, 0.01) == t_alpha, \"Check the fit function\""
   ]
  },
  {
   "attachments": {},
   "cell_type": "markdown",
   "metadata": {},
   "source": [
    "Use the fit function to fit the Adaboost classifier with 150 base decision tree stumps"
   ]
  },
  {
   "cell_type": "code",
   "execution_count": 7,
   "metadata": {},
   "outputs": [
    {
     "name": "stdout",
     "output_type": "stream",
     "text": [
      "2000\n"
     ]
    }
   ],
   "source": [
    "print(len(data.y_train))\n",
    "clf = AdaBoost(n_learners=150, base = DecisionTreeClassifier(max_depth=1)).fit(data.x_train,data.y_train)"
   ]
  },
  {
   "attachments": {},
   "cell_type": "markdown",
   "metadata": {},
   "source": [
    "After your `fit` method is working properly, implement the `predict` method to make predictions for unseen examples. You can test out the predictions in the cell below.   **Note**: Remember that AdaBoost assumes that your predictions are of the form $y \\in \\{-1, 1\\}$. \n",
    "\n",
    "Just print out your predictions on the training set in the cell below."
   ]
  },
  {
   "cell_type": "code",
   "execution_count": 8,
   "metadata": {},
   "outputs": [
    {
     "name": "stdout",
     "output_type": "stream",
     "text": [
      "2000\n",
      "[ 1.  1.  1. ... -1. -1.  1.]\n"
     ]
    }
   ],
   "source": [
    "train_predict = clf.predict(data.x_train)\n",
    "print(len(data.y_train))\n",
    "print(train_predict)"
   ]
  },
  {
   "attachments": {},
   "cell_type": "markdown",
   "metadata": {},
   "source": [
    "Once your `predict` function is written up, you need to test the scores on the function. To do this compute the scores on the prediction in the `score` function. Use the `score` function to then complete `staged_score` to collect the scores for every boosting iterations. Plot the misclassification error for train and test sets (misclassification error = 1- score)"
   ]
  },
  {
   "cell_type": "code",
   "execution_count": 24,
   "metadata": {},
   "outputs": [
    {
     "data": {
      "image/png": "[encoded data removed]",
      "text/plain": [
       "<Figure size 640x480 with 1 Axes>"
      ]
     },
     "metadata": {},
     "output_type": "display_data"
    }
   ],
   "source": [
    "import os \n",
    "if not os.path.exists(\"staged_scores.png\"):\n",
    "    train_staged_scores = clf.staged_score(data.x_train,data.y_train)\n",
    "    test_staged_scores = clf.staged_score(data.x_test,data.y_test)\n",
    "    plt.plot(1-train_staged_scores)\n",
    "    plt.plot(1-test_staged_scores)\n",
    "    plt.legend([\"test\",\"train\"])\n",
    "    plt.savefig(\"staged_scores.png\")"
   ]
  },
  {
   "attachments": {},
   "cell_type": "markdown",
   "metadata": {},
   "source": [
    "### Building an Random Forest Classifier to classify MNIST digits 3 and 8."
   ]
  },
  {
   "attachments": {},
   "cell_type": "markdown",
   "metadata": {},
   "source": [
    "Remember that training the random forest algorithms involves the following steps: \n",
    "\n",
    "`for k=1 to K:`\n",
    "\n",
    "$~~~~~~~$ `    a) build kth tree of depth d `\n",
    "\n",
    "$~~~~~~~$ `    b) Return the kth tree trained on the subset of dataset with the random feature splits`\n",
    "\n",
    "Predicting the classification result on new data involves returning the majority vote by all the trees in the random forest."
   ]
  },
  {
   "attachments": {},
   "cell_type": "markdown",
   "metadata": {},
   "source": [
    "Complete the `create_tree` function to build a new tree trained on a subset of data. Within this function a decision tree classifier is built and trained on the subset of data with the subset of features."
   ]
  },
  {
   "cell_type": "code",
   "execution_count": 21,
   "metadata": {},
   "outputs": [],
   "source": [
    "class RandomForest():\n",
    "    \n",
    "    def __init__(self, x, y, sample_sz, n_trees=200, n_features='sqrt', max_depth=10, min_samples_leaf=5):\n",
    "        \"\"\"\n",
    "        Create a new random forest classifier.\n",
    "        \n",
    "        Args:\n",
    "            x : Input Feature vector\n",
    "            y : Corresponding Labels\n",
    "            sample_sz : Sample size\n",
    "            n_trees : Number of trees to ensemble\n",
    "            n_features : Method to select subset of features \n",
    "            max_depth : Maximum depth of the trees in the ensemble\n",
    "            min_sample_leaf : Minimum number of samples per leaf \n",
    "        \"\"\"\n",
    "        np.random.seed(42)\n",
    "        if n_features == 'sqrt':\n",
    "            self.n_features = int(np.sqrt(x.shape[1]))\n",
    "        elif n_features == 'log2':\n",
    "            self.n_features = int(np.log2(x.shape[1]))\n",
    "        else:\n",
    "            self.n_features = n_features\n",
    "        print(self.n_features, \"sha: \",x.shape[1])  \n",
    "        self.features_set = []\n",
    "        self.x, self.y, self.sample_sz, self.max_depth, self.min_samples_leaf  = x, y, sample_sz, max_depth, min_samples_leaf\n",
    "        self.trees = [self.create_tree(i) for i in range(n_trees)]\n",
    "\n",
    "    def create_tree(self,i):\n",
    "        \"\"\"\n",
    "        create a single decision tree classifier\n",
    "        \"\"\"\n",
    "        \n",
    "        idxs = np.random.permutation(len(self.y))[:self.sample_sz]\n",
    "        idxs = np.asarray(idxs)\n",
    "\n",
    "        f_idxs = np.random.permutation(self.x.shape[1])[:self.n_features]\n",
    "        f_idxs = np.asarray(f_idxs)\n",
    "        \n",
    "        \n",
    "        if i==0:\n",
    "            self.features_set = np.array(f_idxs, ndmin=2)\n",
    "        else:\n",
    "            self.features_set = np.append(self.features_set, np.array(f_idxs,ndmin=2),axis=0)\n",
    "        \n",
    "        # TODO: build a decision tree classifier and train it with x and y that is a subset of data (use idxs and f_idxs)\n",
    "        \n",
    "        # your code here\n",
    "        \n",
    "        clf = DecisionTreeClassifier(max_depth=self.max_depth, min_samples_leaf=self.min_samples_leaf)        \n",
    "        x, y = self.x[idxs][:,f_idxs], self.y[idxs]\n",
    "        return clf.fit(x,y)\n",
    "       \n",
    "    def predict(self, x):\n",
    "        \n",
    "        # TODO: create a vector of predictions  and return\n",
    "        # You will have to return the predictions of the final ensembles based on the individual trees' predicitons\n",
    "        \n",
    "        \n",
    "        # your code here\n",
    "        y = 0\n",
    "        for features, tree in zip(self.features_set,self.trees):\n",
    "            y += tree.predict(x[features].reshape(1,-1))\n",
    "        y = np.float64(y)\n",
    "        y /= self.n_features\n",
    "        return 1 if y>0 else -1\n",
    "    \n",
    "    def score(self, X, y):\n",
    "        \n",
    "        # TODO: Compute the score using the predict function and true labels y\n",
    "        \n",
    "        # your code here\n",
    "        yh = [ self.predict(x) for x in X]\n",
    "        true_predicted = [1 if yp == yr else 0 for yp, yr in zip(yh,y)]\n",
    "        return sum(true_predicted)/len(y)"
   ]
  },
  {
   "attachments": {},
   "cell_type": "markdown",
   "metadata": {},
   "source": [
    "In this part you will have to complete three steps: \n",
    "\n",
    "1. Complete the `predict` function in RandomForest class so as to make predictions using just the features. \n",
    "2. Finally complete the RandomForest class by completing the `score`function to compute the random forest model's accuracy on any dataset. \n",
    "3. Build a random forest classifier and train it on the MNIST data to classify 3s and 8s in the cell below. Then see how the classifier performs on the test data by computing the misclassification error. (Remember: error = 1-score)"
   ]
  },
  {
   "cell_type": "code",
   "execution_count": 23,
   "metadata": {},
   "outputs": [
    {
     "name": "stdout",
     "output_type": "stream",
     "text": [
      "21 sha:  441\n",
      "21 sha:  441\n",
      "Misclassification error on test data : 0.076\n"
     ]
    }
   ],
   "source": [
    "randf = RandomForest(data.x_train, data.y_train, 100)\n",
    "pred_score = 1 - randf.score(data.x_test, data.y_test)\n",
    "\n",
    "print('Misclassification error on test data : %0.3f'%pred_score)"
   ]
  }
 ],
 "metadata": {
  "kernelspec": {
   "display_name": "venv",
   "language": "python",
   "name": "python3"
  },
  "language_info": {
   "codemirror_mode": {
    "name": "ipython",
    "version": 3
   },
   "file_extension": ".py",
   "mimetype": "text/x-python",
   "name": "python",
   "nbconvert_exporter": "python",
   "pygments_lexer": "ipython3",
   "version": "3.8.13"
  },
  "orig_nbformat": 4
 },
 "nbformat": 4,
 "nbformat_minor": 2
}
