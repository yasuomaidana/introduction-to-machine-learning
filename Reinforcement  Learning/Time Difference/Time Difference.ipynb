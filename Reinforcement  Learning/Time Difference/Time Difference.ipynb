{
 "cells": [
  {
   "cell_type": "markdown",
   "metadata": {},
   "source": [
    "Suppose we have current estimates for the values of two states: $V(A) = 1.0, V(B)=1.0$ in an episodic setting. We observe the following trajectory: A, 0, B, 1, B, 0, T where T is the terminal state. Apply $TD(0)$ with step size $\\alpha = 1$, and a discount factor, $\\gamma = 0.5$. What are the values estimates for state A and state B at the end of the episode?"
   ]
  },
  {
   "cell_type": "code",
   "execution_count": 3,
   "metadata": {},
   "outputs": [
    {
     "name": "stdout",
     "output_type": "stream",
     "text": [
      "Initial values {'A': 1, 'B': 1}\n",
      "Transition A, 0, B -> {'A': 0.5, 'B': 1}\n",
      "Transition B, 1, B -> {'A': 0.5, 'B': 1.5}\n",
      "Transition B, 0, T -> {'A': 0.5, 'B': 0.0}\n"
     ]
    }
   ],
   "source": [
    "def update_v(state:str, reward:float, next_state:str, values:dict, alpha = 1.0, gamma = 0.5):\n",
    "    if next_state is None:\n",
    "        values[state] = values[state] + alpha * (reward + gamma * 0 - values[state])\n",
    "        return values\n",
    "    values[state] = values[state] + alpha * (reward + gamma * values[next_state] - values[state])\n",
    "    return values\n",
    "V = {\"A\":1, \"B\":1}\n",
    "print(f\"Initial values {V}\")\n",
    "print(f'Transition A, 0, B -> {update_v(\"A\",0,\"B\",V)}')\n",
    "print(f'Transition B, 1, B -> {update_v(\"B\",1,\"B\",V)}')\n",
    "print(f'Transition B, 0, T -> {update_v(\"B\",0,None,V)}')"
   ]
  },
  {
   "cell_type": "code",
   "execution_count": 4,
   "metadata": {},
   "outputs": [
    {
     "name": "stdout",
     "output_type": "stream",
     "text": [
      "Initial values {'A': 1, 'B': 1}\n",
      "Transition A, 0, B -> {'A': 1.0, 'B': 1}\n",
      "Transition B, 1, B -> {'A': 1.0, 'B': 2.0}\n",
      "Transition B, 0, T -> {'A': 1.0, 'B': 0.0}\n"
     ]
    }
   ],
   "source": [
    "V = {\"A\":1, \"B\":1}\n",
    "print(f\"Initial values {V}\")\n",
    "print(f'Transition A, 0, B -> {update_v(\"A\",0,\"B\",V, gamma=1)}')\n",
    "print(f'Transition B, 1, B -> {update_v(\"B\",1,\"B\",V, gamma=1)}')\n",
    "print(f'Transition B, 0, T -> {update_v(\"B\",0,None,V, gamma=1)}')"
   ]
  }
 ],
 "metadata": {
  "kernelspec": {
   "display_name": "venv",
   "language": "python",
   "name": "python3"
  },
  "language_info": {
   "codemirror_mode": {
    "name": "ipython",
    "version": 3
   },
   "file_extension": ".py",
   "mimetype": "text/x-python",
   "name": "python",
   "nbconvert_exporter": "python",
   "pygments_lexer": "ipython3",
   "version": "3.11.0"
  },
  "orig_nbformat": 4
 },
 "nbformat": 4,
 "nbformat_minor": 2
}
