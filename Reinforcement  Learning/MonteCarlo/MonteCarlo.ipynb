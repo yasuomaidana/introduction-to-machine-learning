{
 "cells": [
  {
   "cell_type": "markdown",
   "metadata": {},
   "source": [
    "MC prediction, for estimating $V \\approx v_\\pi$\n",
    "\n",
    "Input: a policy $\\pi$ to be evaluated\n",
    "\n",
    "Initialize:\n",
    "\n",
    "&nbsp;&nbsp;$V(s) \\in \\mathbb{R}$, arbitrarily, for all $s \\in S$ <br>\n",
    "&nbsp;&nbsp;$Returns(s) \\leftarrow$ an empty list, for all $s \\in S$\n",
    "\n",
    "Loop forever (for each episode):\n",
    "&nbsp;&nbsp;Generate an episode following $\\pi: S_0, A_0, R_1, A_1, S_1, \\dots, S_{T-1}, A_{T-1}, R_T$ <br>\n",
    "&nbsp;&nbsp;&nbsp;$G\\leftarrow 0$<br>\n",
    "&nbsp;&nbsp;&nbsp;Loop for each step of episode, $t = T-1, T-2, \\dots, 0$:<br>\n",
    "&nbsp;&nbsp;&nbsp;&nbsp;&nbsp;$G\\leftarrow \\gamma G + R_{t+1}$<br>\n",
    "&nbsp;&nbsp;&nbsp;&nbsp;&nbsp;Append $G$ to $Returns(S_t)$<br>\n",
    "&nbsp;&nbsp;&nbsp;&nbsp;&nbsp;$V_(S_t)\\leftarrow average(Returns(S_t))$<br>"
   ]
  },
  {
   "cell_type": "code",
   "execution_count": 58,
   "metadata": {},
   "outputs": [
    {
     "name": "stdout",
     "output_type": "stream",
     "text": [
      "5: G_(5)=0, R_(5)=0 G_5->0.0\n",
      "4: G_(4)=0.0, R_(4)=2 G_4->2.0\n",
      "3: G_(3)=2.0, R_(3)=1 G_3->2.0\n",
      "2: G_(2)=2.0, R_(2)=7 G_2->8.0\n",
      "1: G_(1)=8.0, R_(1)=4 G_1->8.0\n",
      "0: G_(0)=8.0, R_(0)=3 G_0->7.0\n",
      "[7.0, 8.0, 8.0, 2.0, 2.0, 0.0]\n"
     ]
    }
   ],
   "source": [
    "from numpy import mean\n",
    "\n",
    "\n",
    "def mc_prediction(R:list, gamma = 0.5):\n",
    "    G = [0] * len(R)\n",
    "    g = 0\n",
    "    for t in range(len(R)-1 - 1,-2,-1):\n",
    "        print(f\"{t+1}: G_({t+1})={g}, R_({t+1})={R[t+1]}\", end=f\" G_{t+1}->\")\n",
    "        g = gamma * g + R[t+1]\n",
    "        print(f\"{g}\")\n",
    "        G[t+1] = g\n",
    "        \n",
    "    print(G)\n",
    "    \n",
    "    \n",
    "R = [3,4,7,1,2,0]\n",
    "mc_prediction(R)"
   ]
  },
  {
   "cell_type": "markdown",
   "metadata": {},
   "source": [
    "Incremental update <br>\n",
    "$NewEstimate \\leftarrow OldEstimate + StepSize[Target-OldEstimate]$"
   ]
  },
  {
   "cell_type": "code",
   "execution_count": 13,
   "metadata": {},
   "outputs": [],
   "source": []
  }
 ],
 "metadata": {
  "kernelspec": {
   "display_name": "venv",
   "language": "python",
   "name": "python3"
  },
  "language_info": {
   "codemirror_mode": {
    "name": "ipython",
    "version": 3
   },
   "file_extension": ".py",
   "mimetype": "text/x-python",
   "name": "python",
   "nbconvert_exporter": "python",
   "pygments_lexer": "ipython3",
   "version": "3.11.0"
  },
  "orig_nbformat": 4
 },
 "nbformat": 4,
 "nbformat_minor": 2
}
