{
 "cells": [
  {
   "cell_type": "code",
   "execution_count": 4,
   "metadata": {},
   "outputs": [],
   "source": [
    "import numpy as np"
   ]
  },
  {
   "cell_type": "markdown",
   "metadata": {},
   "source": [
    "Expected return of the sum of 12 dices faces using monte carlo method"
   ]
  },
  {
   "cell_type": "code",
   "execution_count": 5,
   "metadata": {},
   "outputs": [],
   "source": [
    "from itertools import combinations_with_replacement\n",
    "def expected_dice_faces_sum(samples:int, dices:int = 12)->float:\n",
    "    def dices_roll(dices)->int:\n",
    "        return np.sum(np.random.randint(1,6+1,size=dices))\n",
    "    expected = 0\n",
    "    row_i = 0\n",
    "    for i in range(samples):\n",
    "        i_sum = dices_roll(dices)\n",
    "        end_s = \" \" if (row_i < (dices-1)) else \"\\n\"\n",
    "        row_i += 1\n",
    "        expected += i_sum\n",
    "        print(i_sum,end=end_s)\n",
    "        if(row_i>(dices-1)):\n",
    "            row_i = 0\n",
    "    expected /= samples\n",
    "    print(f\"\\nMonte Carlo expected {expected}\")\n",
    "    return expected\n",
    "def truly_average(dices = 12)->float:\n",
    "    p = 1/6\n",
    "    dice_expected = np.linspace(1,6,6) * p * dices\n",
    "    return sum(dice_expected)"
   ]
  },
  {
   "cell_type": "code",
   "execution_count": 6,
   "metadata": {},
   "outputs": [
    {
     "name": "stdout",
     "output_type": "stream",
     "text": [
      "38 41 37 37 43 35 41 41 34 34 45 36\n",
      "43 43 41 45 34 46 35 38 41 44 34 40\n",
      "42 52 50 45 41 42 41 37 54 37 33 41\n",
      "46 38 43 48 35 38 41 49 42 24 47 39\n",
      "53 36 49 42 48 42 43 45 36 41 40 38\n",
      "\n",
      "Monte Carlo expected 41.06666666666667\n",
      "Truly expected 42.0\n"
     ]
    }
   ],
   "source": [
    "samples_size = 12*5\n",
    "monte_carlo_expected =expected_dice_faces_sum(samples_size)\n",
    "real_expected = truly_average(12)\n",
    "print(f\"Truly expected {real_expected}\")"
   ]
  }
 ],
 "metadata": {
  "kernelspec": {
   "display_name": "venv",
   "language": "python",
   "name": "python3"
  },
  "language_info": {
   "codemirror_mode": {
    "name": "ipython",
    "version": 3
   },
   "file_extension": ".py",
   "mimetype": "text/x-python",
   "name": "python",
   "nbconvert_exporter": "python",
   "pygments_lexer": "ipython3",
   "version": "3.11.0"
  },
  "orig_nbformat": 4
 },
 "nbformat": 4,
 "nbformat_minor": 2
}
