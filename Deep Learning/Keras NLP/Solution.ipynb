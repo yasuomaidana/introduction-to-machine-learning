{
 "cells": [
  {
   "cell_type": "code",
   "execution_count": 11,
   "metadata": {},
   "outputs": [],
   "source": [
    "import pickle\n",
    "import tensorflow as tf\n",
    "from keras.preprocessing.text import Tokenizer\n",
    "from keras.preprocessing.sequence import pad_sequences\n",
    "import pandas as pd\n",
    "import re\n",
    "import json"
   ]
  },
  {
   "cell_type": "code",
   "execution_count": 12,
   "metadata": {},
   "outputs": [
    {
     "name": "stdout",
     "output_type": "stream",
     "text": [
      "Maximum Sequence Length: 31\n",
      "Maximum Sequence Length Keyword: 1\n"
     ]
    }
   ],
   "source": [
    "# Load the saved tokenizers\n",
    "with open('text_tokenizer.pkl', 'rb') as file:\n",
    "    text_tokenizer = pickle.load(file)\n",
    "\n",
    "with open('keyword_tokenizer.pkl', 'rb') as file:\n",
    "    keyword_tokenizer = pickle.load(file)\n",
    "    \n",
    "# Load the dictionary from the JSON file\n",
    "with open('info.json', 'r') as file:\n",
    "    info_dict = json.load(file)\n",
    "\n",
    "# Access the information from the loaded dictionary\n",
    "max_sequence_length = info_dict[\"max_sequence_length\"]\n",
    "max_sequence_length_keyword = info_dict[\"max_sequence_length_keyword\"]\n",
    "\n",
    "# Use the information as needed\n",
    "print(\"Maximum Sequence Length:\", max_sequence_length)\n",
    "print(\"Maximum Sequence Length Keyword:\", max_sequence_length_keyword)"
   ]
  },
  {
   "cell_type": "markdown",
   "metadata": {},
   "source": [
    "Prepare data"
   ]
  },
  {
   "cell_type": "code",
   "execution_count": 13,
   "metadata": {},
   "outputs": [],
   "source": [
    "pattern = re.compile(r'http[s]?://(?:[a-zA-Z]|[0-9]|[$-_@.&+]|[!*\\\\(\\\\),]|(?:%[0-9a-fA-F][0-9a-fA-F]))+')\n",
    "def substitute_links(text):\n",
    "    \n",
    "    # Substitute links in the text with \"website: domain_name\"\n",
    "    substituted_text = re.sub(pattern, 'website: domain_name', text)\n",
    "\n",
    "    return substituted_text\n",
    "\n",
    "def clean_data(data:pd.DataFrame):\n",
    "    data.drop(columns=[\"location\"], inplace=True)\n",
    "    data.fillna(\"\",inplace=True)\n",
    "    data['text'] = data['text'].apply(substitute_links)\n",
    "    ids_ = data.pop(\"id\")\n",
    "    return ids_\n",
    "    \n",
    "def process_data(data:pd.DataFrame):\n",
    "    #Tokenize\n",
    "    text_sequences = text_tokenizer.texts_to_sequences(data[\"text\"])\n",
    "    keyword_sequences = keyword_tokenizer.texts_to_sequences(data[\"text\"])\n",
    "    \n",
    "    #Pad\n",
    "    text_sequences = pad_sequences(text_sequences, maxlen=max_sequence_length)\n",
    "    keyword_sequences = pad_sequences(keyword_sequences, maxlen=max_sequence_length_keyword)\n",
    "    return text_sequences, keyword_sequences"
   ]
  },
  {
   "cell_type": "code",
   "execution_count": 14,
   "metadata": {},
   "outputs": [],
   "source": [
    "test_data = pd.read_csv(\"data/test.csv\")\n",
    "ids = clean_data(test_data)"
   ]
  },
  {
   "cell_type": "code",
   "execution_count": 15,
   "metadata": {},
   "outputs": [
    {
     "name": "stdout",
     "output_type": "stream",
     "text": [
      "102/102 [==============================] - 1s 3ms/step\n"
     ]
    }
   ],
   "source": [
    "# Load the saved model\n",
    "model = tf.keras.models.load_model('TwitterDisasterModelv2.h5')\n",
    "\n",
    "# Preprocess the unlabeled data\n",
    "unlabeled_text_sequences, unlabeled_keyword_sequences = process_data(test_data)\n",
    "\n",
    "# Make predictions using the saved model\n",
    "predictions = model.predict((unlabeled_text_sequences, unlabeled_keyword_sequences))"
   ]
  },
  {
   "cell_type": "code",
   "execution_count": 31,
   "metadata": {},
   "outputs": [],
   "source": [
    "predictions = predictions.argmax(axis=1)\n"
   ]
  },
  {
   "cell_type": "code",
   "execution_count": 32,
   "metadata": {},
   "outputs": [
    {
     "data": {
      "text/plain": [
       "(3263,)"
      ]
     },
     "execution_count": 32,
     "metadata": {},
     "output_type": "execute_result"
    }
   ],
   "source": [
    "ids.to_numpy().shape"
   ]
  },
  {
   "cell_type": "code",
   "execution_count": 33,
   "metadata": {},
   "outputs": [
    {
     "data": {
      "text/plain": [
       "array([0, 0, 0, ..., 1, 1, 0], dtype=int64)"
      ]
     },
     "execution_count": 33,
     "metadata": {},
     "output_type": "execute_result"
    }
   ],
   "source": [
    "predictions"
   ]
  },
  {
   "cell_type": "code",
   "execution_count": 34,
   "metadata": {},
   "outputs": [],
   "source": [
    "df = pd.DataFrame({\"id\": ids, \"target\": predictions})"
   ]
  },
  {
   "cell_type": "code",
   "execution_count": 35,
   "metadata": {},
   "outputs": [],
   "source": [
    "df.to_csv('predictions.csv', index=False)"
   ]
  }
 ],
 "metadata": {
  "kernelspec": {
   "display_name": "venv",
   "language": "python",
   "name": "python3"
  },
  "language_info": {
   "codemirror_mode": {
    "name": "ipython",
    "version": 3
   },
   "file_extension": ".py",
   "mimetype": "text/x-python",
   "name": "python",
   "nbconvert_exporter": "python",
   "pygments_lexer": "ipython3",
   "version": "3.11.0"
  },
  "orig_nbformat": 4
 },
 "nbformat": 4,
 "nbformat_minor": 2
}
