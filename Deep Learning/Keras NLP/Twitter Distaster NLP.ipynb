{
 "cells": [
  {
   "cell_type": "code",
   "execution_count": 53,
   "metadata": {},
   "outputs": [],
   "source": [
    "import numpy as np\n",
    "import pandas as pd\n",
    "import tensorflow as tf\n",
    "import matplotlib.pyplot as plt\n",
    "\n",
    "from tensorflow import keras\n",
    "from keras import layers\n",
    "from keras.preprocessing.text import Tokenizer\n",
    "from keras.preprocessing.sequence import pad_sequences\n",
    "from keras.layers import *\n",
    "from keras.utils import plot_model"
   ]
  },
  {
   "cell_type": "markdown",
   "metadata": {},
   "source": [
    "## Loading data"
   ]
  },
  {
   "cell_type": "code",
   "execution_count": 54,
   "metadata": {},
   "outputs": [],
   "source": [
    "train_data = pd.read_csv(\"data/train.csv\")\n",
    "test_data = pd.read_csv(\"data/test.csv\")"
   ]
  },
  {
   "cell_type": "markdown",
   "metadata": {},
   "source": [
    "## Analyzing data"
   ]
  },
  {
   "cell_type": "code",
   "execution_count": 55,
   "metadata": {},
   "outputs": [
    {
     "data": {
      "text/html": [
       "<div>\n",
       "<style scoped>\n",
       "    .dataframe tbody tr th:only-of-type {\n",
       "        vertical-align: middle;\n",
       "    }\n",
       "\n",
       "    .dataframe tbody tr th {\n",
       "        vertical-align: top;\n",
       "    }\n",
       "\n",
       "    .dataframe thead th {\n",
       "        text-align: right;\n",
       "    }\n",
       "</style>\n",
       "<table border=\"1\" class=\"dataframe\">\n",
       "  <thead>\n",
       "    <tr style=\"text-align: right;\">\n",
       "      <th></th>\n",
       "      <th>id</th>\n",
       "      <th>keyword</th>\n",
       "      <th>location</th>\n",
       "      <th>text</th>\n",
       "      <th>target</th>\n",
       "    </tr>\n",
       "  </thead>\n",
       "  <tbody>\n",
       "    <tr>\n",
       "      <th>0</th>\n",
       "      <td>1</td>\n",
       "      <td>NaN</td>\n",
       "      <td>NaN</td>\n",
       "      <td>Our Deeds are the Reason of this #earthquake M...</td>\n",
       "      <td>1</td>\n",
       "    </tr>\n",
       "    <tr>\n",
       "      <th>1</th>\n",
       "      <td>4</td>\n",
       "      <td>NaN</td>\n",
       "      <td>NaN</td>\n",
       "      <td>Forest fire near La Ronge Sask. Canada</td>\n",
       "      <td>1</td>\n",
       "    </tr>\n",
       "    <tr>\n",
       "      <th>2</th>\n",
       "      <td>5</td>\n",
       "      <td>NaN</td>\n",
       "      <td>NaN</td>\n",
       "      <td>All residents asked to 'shelter in place' are ...</td>\n",
       "      <td>1</td>\n",
       "    </tr>\n",
       "  </tbody>\n",
       "</table>\n",
       "</div>"
      ],
      "text/plain": [
       "   id keyword location                                               text  \\\n",
       "0   1     NaN      NaN  Our Deeds are the Reason of this #earthquake M...   \n",
       "1   4     NaN      NaN             Forest fire near La Ronge Sask. Canada   \n",
       "2   5     NaN      NaN  All residents asked to 'shelter in place' are ...   \n",
       "\n",
       "   target  \n",
       "0       1  \n",
       "1       1  \n",
       "2       1  "
      ]
     },
     "execution_count": 55,
     "metadata": {},
     "output_type": "execute_result"
    }
   ],
   "source": [
    "train_data.head(3)"
   ]
  },
  {
   "cell_type": "code",
   "execution_count": 56,
   "metadata": {},
   "outputs": [
    {
     "data": {
      "text/plain": [
       "keyword\n",
       "fatalities    45\n",
       "deluge        42\n",
       "armageddon    42\n",
       "Name: count, dtype: int64"
      ]
     },
     "execution_count": 56,
     "metadata": {},
     "output_type": "execute_result"
    }
   ],
   "source": [
    "train_data[\"keyword\"].value_counts().head(3)"
   ]
  },
  {
   "cell_type": "code",
   "execution_count": 57,
   "metadata": {},
   "outputs": [
    {
     "data": {
      "text/plain": [
       "location\n",
       "USA              104\n",
       "New York          71\n",
       "United States     50\n",
       "Name: count, dtype: int64"
      ]
     },
     "execution_count": 57,
     "metadata": {},
     "output_type": "execute_result"
    }
   ],
   "source": [
    "train_data[\"location\"].value_counts().head(3)"
   ]
  },
  {
   "cell_type": "code",
   "execution_count": 58,
   "metadata": {},
   "outputs": [],
   "source": [
    "def clean_data(data:pd.DataFrame):\n",
    "    data.drop(columns=[\"location\", \"id\"], inplace=True)\n",
    "    data.fillna(\"\",inplace=True)    \n",
    "\n",
    "clean_data(train_data)\n",
    "clean_data(test_data)"
   ]
  },
  {
   "cell_type": "code",
   "execution_count": 59,
   "metadata": {},
   "outputs": [],
   "source": [
    "train_labels = train_data.pop(\"target\")"
   ]
  },
  {
   "cell_type": "code",
   "execution_count": 60,
   "metadata": {},
   "outputs": [
    {
     "data": {
      "text/html": [
       "<div>\n",
       "<style scoped>\n",
       "    .dataframe tbody tr th:only-of-type {\n",
       "        vertical-align: middle;\n",
       "    }\n",
       "\n",
       "    .dataframe tbody tr th {\n",
       "        vertical-align: top;\n",
       "    }\n",
       "\n",
       "    .dataframe thead th {\n",
       "        text-align: right;\n",
       "    }\n",
       "</style>\n",
       "<table border=\"1\" class=\"dataframe\">\n",
       "  <thead>\n",
       "    <tr style=\"text-align: right;\">\n",
       "      <th></th>\n",
       "      <th>keyword</th>\n",
       "      <th>text</th>\n",
       "    </tr>\n",
       "  </thead>\n",
       "  <tbody>\n",
       "    <tr>\n",
       "      <th>0</th>\n",
       "      <td></td>\n",
       "      <td>Our Deeds are the Reason of this #earthquake M...</td>\n",
       "    </tr>\n",
       "    <tr>\n",
       "      <th>1</th>\n",
       "      <td></td>\n",
       "      <td>Forest fire near La Ronge Sask. Canada</td>\n",
       "    </tr>\n",
       "    <tr>\n",
       "      <th>2</th>\n",
       "      <td></td>\n",
       "      <td>All residents asked to 'shelter in place' are ...</td>\n",
       "    </tr>\n",
       "  </tbody>\n",
       "</table>\n",
       "</div>"
      ],
      "text/plain": [
       "  keyword                                               text\n",
       "0          Our Deeds are the Reason of this #earthquake M...\n",
       "1                     Forest fire near La Ronge Sask. Canada\n",
       "2          All residents asked to 'shelter in place' are ..."
      ]
     },
     "execution_count": 60,
     "metadata": {},
     "output_type": "execute_result"
    }
   ],
   "source": [
    "train_data.head(3)"
   ]
  },
  {
   "cell_type": "code",
   "execution_count": 61,
   "metadata": {},
   "outputs": [
    {
     "data": {
      "text/html": [
       "<div>\n",
       "<style scoped>\n",
       "    .dataframe tbody tr th:only-of-type {\n",
       "        vertical-align: middle;\n",
       "    }\n",
       "\n",
       "    .dataframe tbody tr th {\n",
       "        vertical-align: top;\n",
       "    }\n",
       "\n",
       "    .dataframe thead th {\n",
       "        text-align: right;\n",
       "    }\n",
       "</style>\n",
       "<table border=\"1\" class=\"dataframe\">\n",
       "  <thead>\n",
       "    <tr style=\"text-align: right;\">\n",
       "      <th></th>\n",
       "      <th>keyword</th>\n",
       "      <th>text</th>\n",
       "    </tr>\n",
       "  </thead>\n",
       "  <tbody>\n",
       "    <tr>\n",
       "      <th>0</th>\n",
       "      <td></td>\n",
       "      <td>Our Deeds are the Reason of this #earthquake M...</td>\n",
       "    </tr>\n",
       "    <tr>\n",
       "      <th>1</th>\n",
       "      <td></td>\n",
       "      <td>Forest fire near La Ronge Sask. Canada</td>\n",
       "    </tr>\n",
       "    <tr>\n",
       "      <th>2</th>\n",
       "      <td></td>\n",
       "      <td>All residents asked to 'shelter in place' are ...</td>\n",
       "    </tr>\n",
       "  </tbody>\n",
       "</table>\n",
       "</div>"
      ],
      "text/plain": [
       "  keyword                                               text\n",
       "0          Our Deeds are the Reason of this #earthquake M...\n",
       "1                     Forest fire near La Ronge Sask. Canada\n",
       "2          All residents asked to 'shelter in place' are ..."
      ]
     },
     "execution_count": 61,
     "metadata": {},
     "output_type": "execute_result"
    }
   ],
   "source": [
    "train_data.head(3)"
   ]
  },
  {
   "cell_type": "code",
   "execution_count": 62,
   "metadata": {},
   "outputs": [
    {
     "name": "stdout",
     "output_type": "stream",
     "text": [
      "No disaster: I love fruits\n",
      "Disaster: Forest fire near La Ronge Sask. Canada\n"
     ]
    }
   ],
   "source": [
    "print(f'No disaster: {train_data[train_labels == 0][\"text\"].values[1]}')\n",
    "print(f'Disaster: {train_data[train_labels == 1][\"text\"].values[1]}')"
   ]
  },
  {
   "cell_type": "code",
   "execution_count": 63,
   "metadata": {},
   "outputs": [
    {
     "name": "stdout",
     "output_type": "stream",
     "text": [
      "Train shape: (7613, 2)\n",
      "Test shape: (3263, 2)\n"
     ]
    }
   ],
   "source": [
    "print(\"Train shape:\",train_data.shape)\n",
    "print(\"Test shape:\",test_data.shape)"
   ]
  },
  {
   "cell_type": "code",
   "execution_count": 64,
   "metadata": {},
   "outputs": [
    {
     "data": {
      "text/plain": [
       "target\n",
       "0    4342\n",
       "1    3271\n",
       "Name: count, dtype: int64"
      ]
     },
     "execution_count": 64,
     "metadata": {},
     "output_type": "execute_result"
    }
   ],
   "source": [
    "train_labels.value_counts()"
   ]
  },
  {
   "cell_type": "code",
   "execution_count": 65,
   "metadata": {},
   "outputs": [
    {
     "data": {
      "image/png": "[encoded data removed]",
      "text/plain": [
       "<Figure size 640x480 with 1 Axes>"
      ]
     },
     "metadata": {},
     "output_type": "display_data"
    }
   ],
   "source": [
    "target_counts = train_labels.value_counts()\n",
    "\n",
    "# Create a bar plot\n",
    "plt.bar(target_counts.index, target_counts.values)\n",
    "plt.xlabel('Target')\n",
    "plt.ylabel('Count')\n",
    "plt.xticks(target_counts.index, ['Not Disaster', 'Disaster'])\n",
    "plt.title('Distribution of Target')\n",
    "plt.show()"
   ]
  },
  {
   "cell_type": "code",
   "execution_count": 66,
   "metadata": {},
   "outputs": [
    {
     "name": "stdout",
     "output_type": "stream",
     "text": [
      "Check out this website: website: domain_name and also visit website: domain_name\n"
     ]
    }
   ],
   "source": [
    "import re\n",
    "# Regular expression pattern to match URLs\n",
    "pattern = re.compile(r'http[s]?://(?:[a-zA-Z]|[0-9]|[$-_@.&+]|[!*\\\\(\\\\),]|(?:%[0-9a-fA-F][0-9a-fA-F]))+')\n",
    "def substitute_links(text):\n",
    "    \n",
    "    # Substitute links in the text with \"website: domain_name\"\n",
    "    substituted_text = re.sub(pattern, 'website: domain_name', text)\n",
    "\n",
    "    return substituted_text\n",
    "\n",
    "# Example usage\n",
    "text = \"Check out this website: https://example.com and also visit http://openai.com\"\n",
    "\n",
    "substituted_text = substitute_links(text)\n",
    "print(substituted_text)"
   ]
  },
  {
   "cell_type": "code",
   "execution_count": 67,
   "metadata": {},
   "outputs": [
    {
     "name": "stdout",
     "output_type": "stream",
     "text": [
      "Maximum Sequence Length: 31\n",
      "Maximum Sequence Length Keyword: 1\n"
     ]
    }
   ],
   "source": [
    "max_sequence_length = 0\n",
    "max_sequence_length_keyword = 0\n",
    "# Iterate over text and keyword columns\n",
    "for text, keyword in zip(train_data['text'], train_data['keyword']):\n",
    "    text_length = len(text.split())\n",
    "    keyword_length = len(keyword.split())\n",
    "\n",
    "    # Update maximum sequence length\n",
    "    max_sequence_length = max(max_sequence_length, text_length, keyword_length)\n",
    "    \n",
    "for keyword in train_data['keyword']:\n",
    "    keyword_length = len(keyword.split())\n",
    "\n",
    "    # Update maximum sequence length\n",
    "    max_sequence_length_keyword = max(max_sequence_length_keyword, keyword_length)\n",
    "\n",
    "print(\"Maximum Sequence Length:\", max_sequence_length)\n",
    "print(\"Maximum Sequence Length Keyword:\", max_sequence_length_keyword)"
   ]
  },
  {
   "cell_type": "code",
   "execution_count": 68,
   "metadata": {},
   "outputs": [],
   "source": [
    "\n",
    "# Step 1: Tokenize text and keyword columns\n",
    "text_tokenizer = Tokenizer()\n",
    "text_tokenizer.fit_on_texts(train_data['text'])\n",
    "train_text_sequences = text_tokenizer.texts_to_sequences(train_data['text'])\n",
    "\n",
    "keyword_tokenizer = Tokenizer()\n",
    "keyword_tokenizer.fit_on_texts(train_data['keyword'])\n",
    "train_keyword_sequences = keyword_tokenizer.texts_to_sequences(train_data['keyword'])\n",
    "\n",
    "# Step 2: Pad sequences\n",
    "# Adjust this value based on your data\n",
    "train_text_sequences = pad_sequences(train_text_sequences, maxlen=max_sequence_length)\n",
    "train_keyword_sequences = pad_sequences(train_keyword_sequences, maxlen=max_sequence_length_keyword)\n",
    "\n",
    "# Step 3: Create the dataset\n",
    "labels = train_labels\n",
    "dataset = tf.data.Dataset.from_tensor_slices(((train_text_sequences, train_keyword_sequences), labels))\n",
    "dataset = dataset.shuffle(1000).batch(32)\n"
   ]
  },
  {
   "cell_type": "code",
   "execution_count": 69,
   "metadata": {},
   "outputs": [
    {
     "name": "stdout",
     "output_type": "stream",
     "text": [
      "Deeds\n",
      "[[400], [579], [579], [400], [107]]\n"
     ]
    }
   ],
   "source": [
    "w_index = 1\n",
    "print(train_data[\"text\"][0].split()[w_index])\n",
    "print(text_tokenizer.texts_to_sequences(train_data[\"text\"][0].split()[w_index]))"
   ]
  },
  {
   "cell_type": "code",
   "execution_count": 70,
   "metadata": {},
   "outputs": [
    {
     "name": "stdout",
     "output_type": "stream",
     "text": [
      "Our Deeds are the Reason of this #earthquake May ALLAH Forgive us all\n",
      "['Our', 'Deeds', 'are', 'the', 'Reason', 'of', 'this', '#earthquake', 'May', 'ALLAH', 'Forgive', 'us', 'all']\n",
      "13\n",
      "69\n"
     ]
    },
    {
     "data": {
      "text/plain": [
       "[[403],\n",
       " [82],\n",
       " [566],\n",
       " [],\n",
       " [400],\n",
       " [579],\n",
       " [579],\n",
       " [400],\n",
       " [107],\n",
       " [],\n",
       " [5],\n",
       " [566],\n",
       " [579],\n",
       " [],\n",
       " [1],\n",
       " [1707],\n",
       " [579],\n",
       " [],\n",
       " [566],\n",
       " [579],\n",
       " [5],\n",
       " [107],\n",
       " [403],\n",
       " [402],\n",
       " [],\n",
       " [403],\n",
       " [1185],\n",
       " [],\n",
       " [1],\n",
       " [1707],\n",
       " [10],\n",
       " [107],\n",
       " [],\n",
       " [],\n",
       " [579],\n",
       " [5],\n",
       " [566],\n",
       " [1],\n",
       " [1707],\n",
       " [3729],\n",
       " [82],\n",
       " [5],\n",
       " [2032],\n",
       " [579],\n",
       " [],\n",
       " [283],\n",
       " [5],\n",
       " [3063],\n",
       " [],\n",
       " [5],\n",
       " [1427],\n",
       " [1427],\n",
       " [5],\n",
       " [1707],\n",
       " [],\n",
       " [1185],\n",
       " [403],\n",
       " [566],\n",
       " [1794],\n",
       " [10],\n",
       " [1129],\n",
       " [579],\n",
       " [],\n",
       " [82],\n",
       " [107],\n",
       " [],\n",
       " [5],\n",
       " [1427],\n",
       " [1427]]"
      ]
     },
     "execution_count": 70,
     "metadata": {},
     "output_type": "execute_result"
    }
   ],
   "source": [
    "print(train_data[\"text\"][0])\n",
    "print(train_data[\"text\"][0].split())\n",
    "print(len(train_data[\"text\"][0].split()))\n",
    "print(len(text_tokenizer.texts_to_sequences(train_data[\"text\"][0])))\n",
    "text_tokenizer.texts_to_sequences(train_data[\"text\"][0])"
   ]
  },
  {
   "cell_type": "code",
   "execution_count": 77,
   "metadata": {},
   "outputs": [],
   "source": [
    "# Define the inputs\n",
    "input_text = Input(shape=(max_sequence_length,), name='input_text')\n",
    "input_keyword = Input(shape=(max_sequence_length_keyword,), name='input_keyword')\n",
    "\n",
    "# Text part\n",
    "embedding = Embedding(name=\"embedding\",input_dim=len(text_tokenizer.word_index) + 1, output_dim=64, input_length=max_sequence_length)(input_text)\n",
    "lstm_text = Bidirectional(LSTM(32, return_sequences=True))(embedding)\n",
    "\n",
    "# Keyword part\n",
    "dense_keyword = Dense(64, activation='relu')(input_keyword)\n",
    "dense_keyword_repeated = RepeatVector(max_sequence_length)(dense_keyword)\n",
    "\n",
    "# Concatenate the outputs\n",
    "concatenated = Concatenate(axis=-1)([lstm_text, dense_keyword_repeated])\n",
    "\n",
    "# Other layers\n",
    "lstm_combined = Bidirectional(LSTM(32))(concatenated)\n",
    "dense = Dense(32, activation='relu')(lstm_combined)\n",
    "dropout = Dropout(0.5)(dense)\n",
    "output = Dense(1, activation='sigmoid')(dropout)\n",
    "\n",
    "# Create the model\n",
    "model = tf.keras.Model(inputs=[input_text, input_keyword], outputs=output)"
   ]
  },
  {
   "cell_type": "code",
   "execution_count": 78,
   "metadata": {},
   "outputs": [
    {
     "name": "stdout",
     "output_type": "stream",
     "text": [
      "Model: \"model_5\"\n",
      "__________________________________________________________________________________________________\n",
      " Layer (type)                Output Shape                 Param #   Connected to                  \n",
      "==================================================================================================\n",
      " input_text (InputLayer)     [(None, 31)]                 0         []                            \n",
      "                                                                                                  \n",
      " input_keyword (InputLayer)  [(None, 1)]                  0         []                            \n",
      "                                                                                                  \n",
      " embedding (Embedding)       (None, 31, 64)               1452864   ['input_text[0][0]']          \n",
      "                                                                                                  \n",
      " dense_15 (Dense)            (None, 64)                   128       ['input_keyword[0][0]']       \n",
      "                                                                                                  \n",
      " bidirectional_10 (Bidirect  (None, 31, 64)               24832     ['embedding[0][0]']           \n",
      " ional)                                                                                           \n",
      "                                                                                                  \n",
      " repeat_vector_5 (RepeatVec  (None, 31, 64)               0         ['dense_15[0][0]']            \n",
      " tor)                                                                                             \n",
      "                                                                                                  \n",
      " concatenate_5 (Concatenate  (None, 31, 128)              0         ['bidirectional_10[0][0]',    \n",
      " )                                                                   'repeat_vector_5[0][0]']     \n",
      "                                                                                                  \n",
      " bidirectional_11 (Bidirect  (None, 64)                   41216     ['concatenate_5[0][0]']       \n",
      " ional)                                                                                           \n",
      "                                                                                                  \n",
      " dense_16 (Dense)            (None, 32)                   2080      ['bidirectional_11[0][0]']    \n",
      "                                                                                                  \n",
      " dropout_5 (Dropout)         (None, 32)                   0         ['dense_16[0][0]']            \n",
      "                                                                                                  \n",
      " dense_17 (Dense)            (None, 1)                    33        ['dropout_5[0][0]']           \n",
      "                                                                                                  \n",
      "==================================================================================================\n",
      "Total params: 1521153 (5.80 MB)\n",
      "Trainable params: 1521153 (5.80 MB)\n",
      "Non-trainable params: 0 (0.00 Byte)\n",
      "__________________________________________________________________________________________________\n"
     ]
    }
   ],
   "source": [
    "model.summary()"
   ]
  },
  {
   "cell_type": "code",
   "execution_count": 73,
   "metadata": {},
   "outputs": [
    {
     "data": {
      "image/png": "[encoded data removed]",
      "text/plain": [
       "<IPython.core.display.Image object>"
      ]
     },
     "execution_count": 73,
     "metadata": {},
     "output_type": "execute_result"
    }
   ],
   "source": [
    "plot_model(model, show_shapes=True)"
   ]
  },
  {
   "cell_type": "code",
   "execution_count": 79,
   "metadata": {},
   "outputs": [
    {
     "name": "stdout",
     "output_type": "stream",
     "text": [
      "Epoch 1/10\n",
      "238/238 [==============================] - 13s 29ms/step - loss: 0.6898 - accuracy: 0.5563\n",
      "Epoch 2/10\n",
      "238/238 [==============================] - 7s 29ms/step - loss: 0.5252 - accuracy: 0.7705\n",
      "Epoch 3/10\n",
      "238/238 [==============================] - 7s 28ms/step - loss: 0.3093 - accuracy: 0.8941\n",
      "Epoch 4/10\n",
      "238/238 [==============================] - 7s 29ms/step - loss: 0.2183 - accuracy: 0.9331\n",
      "Epoch 5/10\n",
      "238/238 [==============================] - 8s 32ms/step - loss: 0.1316 - accuracy: 0.9656\n",
      "Epoch 6/10\n",
      "205/238 [========================>.....] - ETA: 1s - loss: 0.0974 - accuracy: 0.9768"
     ]
    }
   ],
   "source": [
    "# Compile the model\n",
    "model.compile(loss='binary_crossentropy', optimizer='adam', metrics=['accuracy'])\n",
    "\n",
    "# Train the model\n",
    "model.fit({'input_text': train_text_sequences, 'input_keyword': train_keyword_sequences}, labels, epochs=10)"
   ]
  },
  {
   "cell_type": "code",
   "execution_count": 75,
   "metadata": {},
   "outputs": [
    {
     "data": {
      "text/plain": [
       "22700"
      ]
     },
     "execution_count": 75,
     "metadata": {},
     "output_type": "execute_result"
    }
   ],
   "source": [
    "len(text_tokenizer.word_index)"
   ]
  }
 ],
 "metadata": {
  "kernelspec": {
   "display_name": "venv",
   "language": "python",
   "name": "python3"
  },
  "language_info": {
   "codemirror_mode": {
    "name": "ipython",
    "version": 3
   },
   "file_extension": ".py",
   "mimetype": "text/x-python",
   "name": "python",
   "nbconvert_exporter": "python",
   "pygments_lexer": "ipython3",
   "version": "3.11.0"
  },
  "orig_nbformat": 4
 },
 "nbformat": 4,
 "nbformat_minor": 2
}
