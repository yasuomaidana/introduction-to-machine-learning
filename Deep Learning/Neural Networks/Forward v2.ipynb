{
 "cells": [
  {
   "cell_type": "code",
   "execution_count": 1,
   "metadata": {},
   "outputs": [],
   "source": [
    "import numpy as np"
   ]
  },
  {
   "cell_type": "code",
   "execution_count": 2,
   "metadata": {},
   "outputs": [],
   "source": [
    "def sigmoid(z):\n",
    "    return 1/(1 + np.exp(-z))\n",
    "def sigmoid_p(z):\n",
    "    return sigmoid(z)*(1-sigmoid(z))"
   ]
  },
  {
   "cell_type": "code",
   "execution_count": 3,
   "metadata": {},
   "outputs": [
    {
     "name": "stdout",
     "output_type": "stream",
     "text": [
      "z2:[[0.]] a2:[[0.5]] \n",
      "z3:[[0.]] a3:[[0.5]] \n",
      "z4:[[0.]] a4:[[0.5]]\n"
     ]
    }
   ],
   "source": [
    "x1 = 0.5*np.ones((1,1))\n",
    "w1 = np.ones((1,1))\n",
    "b1 = -0.5*np.ones((1,1))\n",
    "z2 = w1@x1 + b1\n",
    "a2 = sigmoid(z2)\n",
    "\"-----\"\n",
    "w2 = np.ones((1,1))\n",
    "b2 = -0.5*np.ones((1,1))\n",
    "z3 = w2@a2 + b2\n",
    "a3 = sigmoid(z3)\n",
    "\"-----\"\n",
    "w3 = np.ones((1,1))\n",
    "b3 = -0.5*np.ones((1,1))\n",
    "z4 = w3@a3 + b3\n",
    "a4 = sigmoid(z4)\n",
    "print(f\"z2:{z2} a2:{a2} \\nz3:{z3} a3:{a3} \\nz4:{z4} a4:{a4}\")"
   ]
  },
  {
   "cell_type": "code",
   "execution_count": 4,
   "metadata": {},
   "outputs": [],
   "source": [
    "y = 0"
   ]
  },
  {
   "cell_type": "markdown",
   "metadata": {},
   "source": [
    "$$L_{loss} = \\frac{(\\hat{y}-y)^{2}}{2}$$\n",
    "$$\\frac{\\delta L_{loss}}{\\delta \\hat{y}} = (\\hat{y}-y) \\delta \\hat{y}$$"
   ]
  },
  {
   "cell_type": "code",
   "execution_count": 18,
   "metadata": {},
   "outputs": [
    {
     "name": "stdout",
     "output_type": "stream",
     "text": [
      "d4:[[0.125]]\n",
      "\tdw3:[[0.0625]] db3:[[0.125]]\n",
      "d3:[[0.03125]]\n",
      "\tdw2:[[0.015625]] db2:[[0.03125]]\n",
      "d2:[[0.0078125]]\n",
      "\tdw1:[[0.00390625]] db1:[[0.0078125]]\n"
     ]
    }
   ],
   "source": [
    "d4 = (a4-y)@sigmoid_p(z4)\n",
    "dw3 = d4@a3\n",
    "db3 = d4\n",
    "d3 = w3.T @ d4 * sigmoid_p(z3)\n",
    "dw2 = d3 @ a2.T\n",
    "db2 = d3\n",
    "d2 = w2.T @ d3 * sigmoid_p(z2)\n",
    "dw1 = d2 @ x1.T\n",
    "db1 = d2\n",
    "print(f\"d4:{d4}\\n\\tdw3:{dw3} db3:{db3}\\nd3:{d3}\\n\\tdw2:{dw2} db2:{db2}\\nd2:{d2}\\n\\tdw1:{dw1} db1:{db1}\")"
   ]
  }
 ],
 "metadata": {
  "kernelspec": {
   "display_name": ".venv",
   "language": "python",
   "name": "python3"
  },
  "language_info": {
   "codemirror_mode": {
    "name": "ipython",
    "version": 3
   },
   "file_extension": ".py",
   "mimetype": "text/x-python",
   "name": "python",
   "nbconvert_exporter": "python",
   "pygments_lexer": "ipython3",
   "version": "3.11.0"
  },
  "orig_nbformat": 4
 },
 "nbformat": 4,
 "nbformat_minor": 2
}
