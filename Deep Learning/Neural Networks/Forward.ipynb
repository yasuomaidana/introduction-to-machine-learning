{
 "cells": [
  {
   "cell_type": "code",
   "execution_count": 8,
   "metadata": {},
   "outputs": [],
   "source": [
    "import numpy as np"
   ]
  },
  {
   "cell_type": "code",
   "execution_count": 40,
   "metadata": {},
   "outputs": [],
   "source": [
    "def sigmoid(z):\n",
    "    return 1/(1 + np.exp(-z))\n",
    "def sigmoid_p(z):\n",
    "    return sigmoid(z)*(1-sigmoid(z))"
   ]
  },
  {
   "cell_type": "code",
   "execution_count": 54,
   "metadata": {},
   "outputs": [
    {
     "name": "stdout",
     "output_type": "stream",
     "text": [
      "z2:[[0.5]\n",
      " [0.5]\n",
      " [0.5]] a2:[[0.62245933]\n",
      " [0.62245933]\n",
      " [0.62245933]] \n",
      "z3:[[1.36737799]\n",
      " [1.36737799]] a3:[[0.7969562]\n",
      " [0.7969562]] \n",
      "z4:[[1.0939124]] a4:[[0.74911774]]\n"
     ]
    }
   ],
   "source": [
    "x1 = 0.5*np.ones((2,1))\n",
    "w1 = np.ones((3,2))\n",
    "b1 = -0.5*np.ones((3,1))\n",
    "z2 = w1@x1 + b1\n",
    "a2 = sigmoid(z2)\n",
    "\"-----\"\n",
    "w2 = np.ones((2,3))\n",
    "b2 = -0.5*np.ones((2,1))\n",
    "z3 = w2@a2 + b2\n",
    "a3 = sigmoid(z3)\n",
    "\"-----\"\n",
    "w3 = np.ones((1,2))\n",
    "b3 = -0.5*np.ones((1,1))\n",
    "z4 = w3@a3 + b3\n",
    "a4 = sigmoid(z4)\n",
    "\n",
    "print(f\"z2:{z2} a2:{a2} \\nz3:{z3} a3:{a3} \\nz4:{z4} a4:{a4}\")"
   ]
  }
 ],
 "metadata": {
  "kernelspec": {
   "display_name": ".venv",
   "language": "python",
   "name": "python3"
  },
  "language_info": {
   "codemirror_mode": {
    "name": "ipython",
    "version": 3
   },
   "file_extension": ".py",
   "mimetype": "text/x-python",
   "name": "python",
   "nbconvert_exporter": "python",
   "pygments_lexer": "ipython3",
   "version": "3.11.0"
  },
  "orig_nbformat": 4
 },
 "nbformat": 4,
 "nbformat_minor": 2
}
