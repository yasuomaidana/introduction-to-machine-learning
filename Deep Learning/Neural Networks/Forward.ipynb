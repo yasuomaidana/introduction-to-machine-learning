{
 "cells": [
  {
   "cell_type": "markdown",
   "metadata": {},
   "source": [
    "[Backpropagation reference](https://cs229.stanford.edu/notes-spring2019/backprop.pdf)"
   ]
  },
  {
   "cell_type": "code",
   "execution_count": 8,
   "metadata": {},
   "outputs": [],
   "source": [
    "import numpy as np"
   ]
  },
  {
   "cell_type": "code",
   "execution_count": 40,
   "metadata": {},
   "outputs": [],
   "source": [
    "def sigmoid(z):\n",
    "    return 1/(1 + np.exp(-z))\n",
    "def sigmoid_p(z):\n",
    "    return sigmoid(z)*(1-sigmoid(z))"
   ]
  },
  {
   "cell_type": "code",
   "execution_count": 54,
   "metadata": {},
   "outputs": [
    {
     "name": "stdout",
     "output_type": "stream",
     "text": [
      "z2:[[0.5]\n",
      " [0.5]\n",
      " [0.5]] a2:[[0.62245933]\n",
      " [0.62245933]\n",
      " [0.62245933]] \n",
      "z3:[[1.36737799]\n",
      " [1.36737799]] a3:[[0.7969562]\n",
      " [0.7969562]] \n",
      "z4:[[1.0939124]] a4:[[0.74911774]]\n"
     ]
    }
   ],
   "source": [
    "x1 = 0.5*np.ones((2,1))\n",
    "w1 = np.ones((3,2))\n",
    "b1 = -0.5*np.ones((3,1))\n",
    "z2 = w1@x1 + b1\n",
    "a2 = sigmoid(z2)\n",
    "\"-----\"\n",
    "w2 = np.ones((2,3))\n",
    "b2 = -0.5*np.ones((2,1))\n",
    "z3 = w2@a2 + b2\n",
    "a3 = sigmoid(z3)\n",
    "\"-----\"\n",
    "w3 = np.ones((1,2))\n",
    "b3 = -0.5*np.ones((1,1))\n",
    "z4 = w3@a3 + b3\n",
    "a4 = sigmoid(z4)\n",
    "\n",
    "print(f\"z2:{z2} a2:{a2} \\nz3:{z3} a3:{a3} \\nz4:{z4} a4:{a4}\")"
   ]
  },
  {
   "cell_type": "code",
   "execution_count": 55,
   "metadata": {},
   "outputs": [],
   "source": [
    "y = 0"
   ]
  },
  {
   "cell_type": "code",
   "execution_count": 110,
   "metadata": {},
   "outputs": [
    {
     "data": {
      "text/plain": [
       "array([[0.14078945]])"
      ]
     },
     "execution_count": 110,
     "metadata": {},
     "output_type": "execute_result"
    }
   ],
   "source": [
    "d4 = (a4-y)@sigmoid_p(z4)\n",
    "d4"
   ]
  },
  {
   "cell_type": "code",
   "execution_count": 116,
   "metadata": {},
   "outputs": [
    {
     "data": {
      "text/plain": [
       "array([[0.11220303, 0.11220303]])"
      ]
     },
     "execution_count": 116,
     "metadata": {},
     "output_type": "execute_result"
    }
   ],
   "source": [
    "dw3 = d4 @ a3.T\n",
    "dw3"
   ]
  },
  {
   "cell_type": "code",
   "execution_count": 118,
   "metadata": {},
   "outputs": [
    {
     "data": {
      "text/plain": [
       "array([[0.14078945]])"
      ]
     },
     "execution_count": 118,
     "metadata": {},
     "output_type": "execute_result"
    }
   ],
   "source": [
    "db3 = d4 \n",
    "db3"
   ]
  },
  {
   "cell_type": "code",
   "execution_count": 121,
   "metadata": {},
   "outputs": [
    {
     "data": {
      "text/plain": [
       "array([[0.02278213],\n",
       "       [0.02278213]])"
      ]
     },
     "execution_count": 121,
     "metadata": {},
     "output_type": "execute_result"
    }
   ],
   "source": [
    "d3 = w3.T @ d4 * sigmoid_p(z3)\n",
    "d3"
   ]
  },
  {
   "cell_type": "code",
   "execution_count": 122,
   "metadata": {},
   "outputs": [
    {
     "data": {
      "text/plain": [
       "array([[0.01418095, 0.01418095, 0.01418095],\n",
       "       [0.01418095, 0.01418095, 0.01418095]])"
      ]
     },
     "execution_count": 122,
     "metadata": {},
     "output_type": "execute_result"
    }
   ],
   "source": [
    "dw2 = d3 @ a2.T\n",
    "dw2"
   ]
  },
  {
   "cell_type": "code",
   "execution_count": 124,
   "metadata": {},
   "outputs": [
    {
     "data": {
      "text/plain": [
       "array([[0.02278213],\n",
       "       [0.02278213]])"
      ]
     },
     "execution_count": 124,
     "metadata": {},
     "output_type": "execute_result"
    }
   ],
   "source": [
    "db2 = d3\n",
    "db2"
   ]
  },
  {
   "cell_type": "code",
   "execution_count": 125,
   "metadata": {},
   "outputs": [
    {
     "data": {
      "text/plain": [
       "array([[0.01070777],\n",
       "       [0.01070777],\n",
       "       [0.01070777]])"
      ]
     },
     "execution_count": 125,
     "metadata": {},
     "output_type": "execute_result"
    }
   ],
   "source": [
    "d2 = w2.T @ d3 * sigmoid_p(z2)\n",
    "d2"
   ]
  },
  {
   "cell_type": "code",
   "execution_count": 127,
   "metadata": {},
   "outputs": [
    {
     "data": {
      "text/plain": [
       "array([[0.00535388, 0.00535388],\n",
       "       [0.00535388, 0.00535388],\n",
       "       [0.00535388, 0.00535388]])"
      ]
     },
     "execution_count": 127,
     "metadata": {},
     "output_type": "execute_result"
    }
   ],
   "source": [
    "dw1 = d2 @ x1.T\n",
    "dw1"
   ]
  },
  {
   "cell_type": "code",
   "execution_count": 128,
   "metadata": {},
   "outputs": [],
   "source": [
    "db1 = d2"
   ]
  }
 ],
 "metadata": {
  "kernelspec": {
   "display_name": ".venv",
   "language": "python",
   "name": "python3"
  },
  "language_info": {
   "codemirror_mode": {
    "name": "ipython",
    "version": 3
   },
   "file_extension": ".py",
   "mimetype": "text/x-python",
   "name": "python",
   "nbconvert_exporter": "python",
   "pygments_lexer": "ipython3",
   "version": "3.11.0"
  },
  "orig_nbformat": 4
 },
 "nbformat": 4,
 "nbformat_minor": 2
}
