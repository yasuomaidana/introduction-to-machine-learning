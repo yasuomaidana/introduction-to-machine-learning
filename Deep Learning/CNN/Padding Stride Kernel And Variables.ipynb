{
 "cells": [
  {
   "attachments": {},
   "cell_type": "markdown",
   "metadata": {},
   "source": [
    "To calculate the trainable parameters in a Convolutional Neural Network (CNN), you need to consider the number of parameters in each layer of the network and sum them up.\n",
    "\n",
    "Let's break down the calculation for each type of layer commonly used in a CNN:\n",
    "\n",
    "1. Convolutional layer:\n",
    "\n",
    "* Number of trainable parameters in a convolutional layer can be calculated using the formula: (filter_height * filter_width * input_channels + 1) * num_filters\n",
    "* filter_height and filter_width are the dimensions of the convolutional filter/kernel.\n",
    "* input_channels is the number of channels in the input feature map.\n",
    "* num_filters is the number of filters in the layer.\n",
    "* The additional +1 term is for the bias term associated with each filter.\n",
    "\n",
    "2. Fully connected (dense) layer:\n",
    "\n",
    "* Number of trainable parameters in a fully connected layer is calculated by multiplying the number of input neurons by the number of output neurons.\n",
    "* For example, if you have n input neurons and m output neurons, the number of trainable parameters will be n * m.\n",
    "Pooling layer:\n",
    "\n",
    "3. Pooling layers do not have any trainable parameters, as they only perform downsampling or summarization.\n",
    "\n",
    "4. Other layers (e.g., activation, batch normalization):\n",
    "\n",
    "These layers typically do not have any trainable parameters, or the number of parameters is negligible compared to other layers.\n",
    "To calculate the total number of trainable parameters in the CNN, sum up the number of trainable parameters in each layer.\n",
    "\n",
    "It's worth noting that different CNN architectures may have variations in layer types and configurations, so the calculation may vary. However, the general principles described above should apply in most cases."
   ]
  },
  {
   "cell_type": "code",
   "execution_count": 3,
   "metadata": {},
   "outputs": [],
   "source": [
    "from typing import Union\n",
    "\n",
    "\n",
    "class MatrixShape:\n",
    "    def __init__(self, width:int, height:int, channels:int = 1) -> 'MatrixShape':\n",
    "        self.width = width\n",
    "        self.heigh = height if height != 0 else width\n",
    "        self.channels = channels\n",
    "\n",
    "class KernelShape(MatrixShape):\n",
    "    def __init__(self,width:int,padding_high:int,stride:int,channels:int =1, height:int=0, padding_bottom:int = 0) -> MatrixShape:\n",
    "        super().__init__(width,height, channels)\n",
    "        self.padding_high = padding_high\n",
    "        self.stride = stride\n",
    "        self.padding_bottom = padding_bottom if padding_bottom != 0 else padding_high\n",
    "        \n",
    "def parameters_calculator(filter:KernelShape, input_channels:Union[int,KernelShape])->int:\n",
    "    if isinstance(input_channels,KernelShape):\n",
    "        input_channels = input_channels.channels\n",
    "    return (filter.heigh*filter.width*input_channels+1)*filter.channels"
   ]
  },
  {
   "cell_type": "code",
   "execution_count": 4,
   "metadata": {},
   "outputs": [
    {
     "data": {
      "text/plain": [
       "226700"
      ]
     },
     "execution_count": 4,
     "metadata": {},
     "output_type": "execute_result"
    }
   ],
   "source": [
    "input_channels = 3\n",
    "K1 = KernelShape(3,2,2,50)\n",
    "K2 = KernelShape(3,2,2,100)\n",
    "K3 = KernelShape(3,2,2,200)\n",
    "parameters_calculator(K1,3) + parameters_calculator(K2,K1) +parameters_calculator(K3,K2)"
   ]
  }
 ],
 "metadata": {
  "kernelspec": {
   "display_name": "venv",
   "language": "python",
   "name": "python3"
  },
  "language_info": {
   "codemirror_mode": {
    "name": "ipython",
    "version": 3
   },
   "file_extension": ".py",
   "mimetype": "text/x-python",
   "name": "python",
   "nbconvert_exporter": "python",
   "pygments_lexer": "ipython3",
   "version": "3.11.0"
  },
  "orig_nbformat": 4
 },
 "nbformat": 4,
 "nbformat_minor": 2
}
