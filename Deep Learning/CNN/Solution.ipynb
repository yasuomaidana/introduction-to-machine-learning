{
 "cells": [
  {
   "cell_type": "code",
   "execution_count": 5,
   "metadata": {},
   "outputs": [],
   "source": [
    "import os\n",
    "import pandas as pd\n",
    "import tensorflow as tf\n",
    "from tensorflow import keras as K\n",
    "from tensorflow.keras.preprocessing.image import img_to_array, load_img\n",
    "from keras.preprocessing.image import ImageDataGenerator\n",
    "from tqdm import tqdm\n"
   ]
  },
  {
   "cell_type": "code",
   "execution_count": 6,
   "metadata": {},
   "outputs": [],
   "source": [
    "# Define the directory containing the images\n",
    "image_directory = 'data/test/'\n",
    "\n",
    "# Define the path to the .h5 model\n",
    "model_path = 'cancer_model_v01.h5'\n",
    "\n",
    "# Load the model\n",
    "model = K.models.load_model(model_path)\n",
    "\n"
   ]
  },
  {
   "cell_type": "code",
   "execution_count": 8,
   "metadata": {},
   "outputs": [
    {
     "name": "stderr",
     "output_type": "stream",
     "text": [
      "Processing images: 100%|██████████| 57458/57458 [1:36:17<00:00,  9.94it/s]\n"
     ]
    }
   ],
   "source": [
    "# Initialize lists to store predictions and image filenames\n",
    "predictions = []\n",
    "image_filenames = []\n",
    "\n",
    "# Get the total number of TIFF images\n",
    "total_images = len(os.listdir(image_directory))\n",
    "\n",
    "# Iterate over the TIFF images in the directory\n",
    "for filename in tqdm(os.listdir(image_directory), total=total_images, desc='Processing images'):\n",
    "    if filename.endswith('.tiff') or filename.endswith('.tif'):\n",
    "        # Load the image\n",
    "        image_path = os.path.join(image_directory, filename)\n",
    "        image = load_img(image_path, target_size=(32, 32))\n",
    "        image_array = img_to_array(image)\n",
    "        image_array = image_array / 255.0  # Normalize the image\n",
    "\n",
    "        # Expand dimensions to match the model input shape\n",
    "        image_array = tf.expand_dims(image_array, 0)\n",
    "\n",
    "        # Perform the prediction\n",
    "        prediction = model.predict(image_array, verbose=0)[0]\n",
    "        predicted_label = tf.argmax(prediction).numpy()\n",
    "\n",
    "        # Append the prediction and image filename to the lists\n",
    "        predictions.append(predicted_label)\n",
    "        image_filenames.append(filename)"
   ]
  },
  {
   "cell_type": "code",
   "execution_count": 10,
   "metadata": {},
   "outputs": [
    {
     "data": {
      "text/plain": [
       "'b'"
      ]
     },
     "execution_count": 10,
     "metadata": {},
     "output_type": "execute_result"
    }
   ],
   "source": []
  },
  {
   "cell_type": "code",
   "execution_count": 13,
   "metadata": {},
   "outputs": [],
   "source": [
    "# Create a dataframe with the image filenames and predictions\n",
    "data = {'id': image_filenames, 'label': predictions}\n",
    "df = pd.DataFrame(data)\n",
    "df[\"id\"] = df[\"id\"].apply(lambda x: x.replace(\".tif\",\"\"))"
   ]
  },
  {
   "cell_type": "code",
   "execution_count": 14,
   "metadata": {},
   "outputs": [],
   "source": [
    "# Save the dataframe to a CSV file\n",
    "csv_file = 'output_predictions.csv'\n",
    "df.to_csv(csv_file, index=False)"
   ]
  }
 ],
 "metadata": {
  "kernelspec": {
   "display_name": "venv",
   "language": "python",
   "name": "python3"
  },
  "language_info": {
   "codemirror_mode": {
    "name": "ipython",
    "version": 3
   },
   "file_extension": ".py",
   "mimetype": "text/x-python",
   "name": "python",
   "nbconvert_exporter": "python",
   "pygments_lexer": "ipython3",
   "version": "3.11.0"
  },
  "orig_nbformat": 4
 },
 "nbformat": 4,
 "nbformat_minor": 2
}
