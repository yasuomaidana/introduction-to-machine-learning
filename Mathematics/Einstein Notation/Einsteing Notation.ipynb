{
 "cells": [
  {
   "cell_type": "markdown",
   "metadata": {},
   "source": [
    "Einstein notation provides a compressed way to represent repeated matrix multiplications. \n",
    "$$ AB =C $$\n",
    "$$c_{ij} =\\sum_k a_{ik}b_{kj} $$\n",
    "\n",
    "In this notation, capital letters are used to denote matrices, and lowercase indices denote the subscripts for each dimension."
   ]
  },
  {
   "cell_type": "code",
   "execution_count": null,
   "metadata": {},
   "outputs": [],
   "source": []
  }
 ],
 "metadata": {
  "language_info": {
   "name": "python"
  }
 },
 "nbformat": 4,
 "nbformat_minor": 2
}
