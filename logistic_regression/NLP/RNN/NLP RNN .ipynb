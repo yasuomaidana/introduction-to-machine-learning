{
 "cells": [
  {
   "cell_type": "code",
   "execution_count": 1,
   "metadata": {},
   "outputs": [],
   "source": [
    "import torch\n",
    "from torchtext.datasets.ag_news import AG_NEWS\n",
    "from torchtext.data.utils import get_tokenizer\n",
    "from torchtext.vocab import build_vocab_from_iterator"
   ]
  },
  {
   "cell_type": "code",
   "execution_count": 2,
   "metadata": {},
   "outputs": [],
   "source": [
    "train_iter, test_iter = AG_NEWS(split=(\"train\", \"test\"))\n",
    "tokenizer = get_tokenizer('basic_english') # It retrieves the tool which allows you to encode the text"
   ]
  },
  {
   "cell_type": "code",
   "execution_count": 3,
   "metadata": {},
   "outputs": [],
   "source": [
    "def yield_tokens(datasets): #Converts every text into an array of tokens, it returns it in an iterable way\n",
    "    for dataset in datasets:\n",
    "        for _, text in dataset: \n",
    "            yield tokenizer(text)\n",
    "\n",
    "# check what happens if only left train iter        \n",
    "vocab = build_vocab_from_iterator(yield_tokens([train_iter, test_iter]), specials=[\"<unk>\"]) #It generates the vocab, which represents the words into indexes\n",
    "vocab.set_default_index(vocab[\"<unk>\"])"
   ]
  },
  {
   "cell_type": "code",
   "execution_count": 4,
   "metadata": {},
   "outputs": [
    {
     "name": "stdout",
     "output_type": "stream",
     "text": [
      "98635\n"
     ]
    }
   ],
   "source": [
    "print(len(vocab))"
   ]
  },
  {
   "cell_type": "code",
   "execution_count": 5,
   "metadata": {},
   "outputs": [],
   "source": [
    "text_pipeline = lambda x: vocab(tokenizer(x))\n",
    "label_pipeline = lambda x: int(x) - 1"
   ]
  },
  {
   "cell_type": "code",
   "execution_count": 6,
   "metadata": {},
   "outputs": [],
   "source": [
    "from torch.utils.data import DataLoader\n",
    "device = torch.device(\"cuda\" if torch.cuda.is_available() else \"cpu\")\n",
    "max_words = 25\n",
    "def truncate_text(text_list:list):\n",
    "    text_length = len(text_list)\n",
    "    if text_length<max_words:\n",
    "        return text_list+[0]*(max_words-text_length)\n",
    "    else:\n",
    "        return text_list[:max_words]\n",
    "\n",
    "def collate_batch(batch):\n",
    "    label_list, text_list = [], []\n",
    "    for (_label, _text) in batch:\n",
    "         label_list.append(label_pipeline(_label))\n",
    "         processed_text = text_pipeline(_text)\n",
    "         processed_text = truncate_text(processed_text)\n",
    "         text_list.append(processed_text)\n",
    "    label_list = torch.tensor(label_list, dtype=torch.int64)\n",
    "    text_list = torch.tensor(text_list)\n",
    "    return label_list.to(device), text_list.to(device)"
   ]
  },
  {
   "cell_type": "code",
   "execution_count": 7,
   "metadata": {},
   "outputs": [
    {
     "name": "stdout",
     "output_type": "stream",
     "text": [
      "torch.Size([1024]) torch.Size([1024, 25])\n"
     ]
    }
   ],
   "source": [
    "train_loader = DataLoader(train_iter, batch_size=1024, collate_fn=collate_batch, shuffle=True)\n",
    "test_loader  = DataLoader(test_iter , batch_size=1024, collate_fn=collate_batch)\n",
    "\n",
    "for X, Y in train_loader:\n",
    "    print(X.shape, Y.shape)\n",
    "    break"
   ]
  },
  {
   "cell_type": "code",
   "execution_count": 8,
   "metadata": {},
   "outputs": [],
   "source": [
    "from torch import nn\n",
    "from torch.nn import RNN\n",
    "\n",
    "class TextClassificationRNNModel(nn.Module):\n",
    "\n",
    "    def __init__(self, vocab_size, embed_dim, hidden_size, num_class):\n",
    "        super(TextClassificationRNNModel, self).__init__()\n",
    "        self.embedding = nn.Embedding(num_embeddings=vocab_size, embedding_dim=embed_dim)\n",
    "        self.rnn = RNN(embed_dim, hidden_size)\n",
    "        self.fc = nn.Linear(hidden_size, num_class)\n",
    "        self.init_weights()\n",
    "\n",
    "    def init_weights(self):\n",
    "        initrange = 0.5\n",
    "        self.embedding.weight.data.uniform_(-initrange, initrange)\n",
    "        self.fc.weight.data.uniform_(-initrange, initrange)\n",
    "        self.fc.bias.data.zero_()\n",
    "\n",
    "    def forward(self, batch_text):\n",
    "        embedded = self.embedding(batch_text)\n",
    "        hs, h_T = self.rnn(embedded)\n",
    "        return self.fc(torch.mean(hs, dim=1))"
   ]
  },
  {
   "cell_type": "code",
   "execution_count": 9,
   "metadata": {},
   "outputs": [],
   "source": [
    "num_class = len(set([label for (label, text) in train_iter]))\n",
    "vocab_size = len(vocab)\n",
    "embed_size = 35\n",
    "hidden_size = 50\n",
    "model = TextClassificationRNNModel(vocab_size, embed_size,hidden_size, num_class).to(device)"
   ]
  },
  {
   "cell_type": "code",
   "execution_count": 10,
   "metadata": {},
   "outputs": [
    {
     "name": "stdout",
     "output_type": "stream",
     "text": [
      "Layer : Embedding(98635, 35)\n",
      "Parameters : \n",
      "torch.Size([98635, 35])\n",
      "\n",
      "Layer : RNN(35, 50)\n",
      "Parameters : \n",
      "torch.Size([50, 35])\n",
      "torch.Size([50, 50])\n",
      "torch.Size([50])\n",
      "torch.Size([50])\n",
      "\n",
      "Layer : Linear(in_features=50, out_features=4, bias=True)\n",
      "Parameters : \n",
      "torch.Size([4, 50])\n",
      "torch.Size([4])\n",
      "\n"
     ]
    }
   ],
   "source": [
    "for layer in model.children():\n",
    "    print(\"Layer : {}\".format(layer))\n",
    "    print(\"Parameters : \")\n",
    "    for param in layer.parameters():\n",
    "        print(param.shape)\n",
    "    print()"
   ]
  },
  {
   "cell_type": "code",
   "execution_count": 11,
   "metadata": {},
   "outputs": [],
   "source": [
    "import time\n",
    "\n",
    "def train(dataloader):\n",
    "    model.train()\n",
    "    total_acc, total_count = 0, 0\n",
    "    log_interval = 500\n",
    "    start_time = time.time()\n",
    "\n",
    "    for idx, (label, text) in enumerate(dataloader):\n",
    "        optimizer.zero_grad()\n",
    "        predicted_label = model(text)\n",
    "        loss = criterion(predicted_label, label)\n",
    "        loss.backward()\n",
    "        torch.nn.utils.clip_grad_norm_(model.parameters(), 0.1)\n",
    "        optimizer.step()\n",
    "        total_acc += (predicted_label.argmax(1) == label).sum().item()\n",
    "        total_count += label.size(0)\n",
    "        if idx % log_interval == 0 and idx > 0:\n",
    "            elapsed = time.time() - start_time\n",
    "            print('| epoch {:3d} | {:5d}/{:5d} batches '\n",
    "                  '| accuracy {:8.3f}'.format(epoch, idx, len(dataloader),\n",
    "                                              total_acc/total_count))\n",
    "            total_acc, total_count = 0, 0\n",
    "            start_time = time.time()\n",
    "\n",
    "def evaluate(dataloader):\n",
    "    model.eval()\n",
    "    total_acc, total_count = 0, 0\n",
    "\n",
    "    with torch.no_grad():\n",
    "        for idx, (label, text) in enumerate(dataloader):\n",
    "            predicted_label = model(text)\n",
    "            loss = criterion(predicted_label, label)\n",
    "            total_acc += (predicted_label.argmax(1) == label).sum().item()\n",
    "            total_count += label.size(0)\n",
    "    return total_acc/total_count"
   ]
  },
  {
   "cell_type": "code",
   "execution_count": 12,
   "metadata": {},
   "outputs": [
    {
     "name": "stdout",
     "output_type": "stream",
     "text": [
      "| epoch   1 |   500/ 1782 batches | accuracy    0.521\n",
      "| epoch   1 |  1000/ 1782 batches | accuracy    0.737\n",
      "| epoch   1 |  1500/ 1782 batches | accuracy    0.787\n",
      "-----------------------------------------------------------\n",
      "| end of epoch   1 | time:  9.34s | valid accuracy    0.807 \n",
      "-----------------------------------------------------------\n",
      "| epoch   2 |   500/ 1782 batches | accuracy    0.835\n",
      "| epoch   2 |  1000/ 1782 batches | accuracy    0.845\n",
      "| epoch   2 |  1500/ 1782 batches | accuracy    0.853\n",
      "-----------------------------------------------------------\n",
      "| end of epoch   2 | time:  9.02s | valid accuracy    0.846 \n",
      "-----------------------------------------------------------\n",
      "| epoch   3 |   500/ 1782 batches | accuracy    0.863\n",
      "| epoch   3 |  1000/ 1782 batches | accuracy    0.868\n",
      "| epoch   3 |  1500/ 1782 batches | accuracy    0.873\n",
      "-----------------------------------------------------------\n",
      "| end of epoch   3 | time:  8.93s | valid accuracy    0.870 \n",
      "-----------------------------------------------------------\n",
      "| epoch   4 |   500/ 1782 batches | accuracy    0.884\n",
      "| epoch   4 |  1000/ 1782 batches | accuracy    0.878\n",
      "| epoch   4 |  1500/ 1782 batches | accuracy    0.883\n",
      "-----------------------------------------------------------\n",
      "| end of epoch   4 | time:  8.88s | valid accuracy    0.867 \n",
      "-----------------------------------------------------------\n",
      "| epoch   5 |   500/ 1782 batches | accuracy    0.896\n",
      "| epoch   5 |  1000/ 1782 batches | accuracy    0.898\n",
      "| epoch   5 |  1500/ 1782 batches | accuracy    0.900\n",
      "-----------------------------------------------------------\n",
      "| end of epoch   5 | time:  9.13s | valid accuracy    0.875 \n",
      "-----------------------------------------------------------\n",
      "| epoch   6 |   500/ 1782 batches | accuracy    0.901\n",
      "| epoch   6 |  1000/ 1782 batches | accuracy    0.903\n",
      "| epoch   6 |  1500/ 1782 batches | accuracy    0.904\n",
      "-----------------------------------------------------------\n",
      "| end of epoch   6 | time:  9.49s | valid accuracy    0.877 \n",
      "-----------------------------------------------------------\n",
      "| epoch   7 |   500/ 1782 batches | accuracy    0.902\n",
      "| epoch   7 |  1000/ 1782 batches | accuracy    0.903\n",
      "| epoch   7 |  1500/ 1782 batches | accuracy    0.902\n",
      "-----------------------------------------------------------\n",
      "| end of epoch   7 | time: 10.04s | valid accuracy    0.877 \n",
      "-----------------------------------------------------------\n",
      "| epoch   8 |   500/ 1782 batches | accuracy    0.906\n",
      "| epoch   8 |  1000/ 1782 batches | accuracy    0.904\n",
      "| epoch   8 |  1500/ 1782 batches | accuracy    0.906\n",
      "-----------------------------------------------------------\n",
      "| end of epoch   8 | time: 10.16s | valid accuracy    0.878 \n",
      "-----------------------------------------------------------\n",
      "| epoch   9 |   500/ 1782 batches | accuracy    0.905\n",
      "| epoch   9 |  1000/ 1782 batches | accuracy    0.908\n",
      "| epoch   9 |  1500/ 1782 batches | accuracy    0.905\n",
      "-----------------------------------------------------------\n",
      "| end of epoch   9 | time:  9.89s | valid accuracy    0.880 \n",
      "-----------------------------------------------------------\n",
      "| epoch  10 |   500/ 1782 batches | accuracy    0.909\n",
      "| epoch  10 |  1000/ 1782 batches | accuracy    0.910\n",
      "| epoch  10 |  1500/ 1782 batches | accuracy    0.906\n",
      "-----------------------------------------------------------\n",
      "| end of epoch  10 | time: 10.37s | valid accuracy    0.878 \n",
      "-----------------------------------------------------------\n"
     ]
    }
   ],
   "source": [
    "from torch.utils.data.dataset import random_split\n",
    "from torchtext.data.functional import to_map_style_dataset\n",
    "# Hyperparameters\n",
    "EPOCHS = 10 # epoch\n",
    "LR = 5  # learning rate\n",
    "BATCH_SIZE = 64 # batch size for training\n",
    "\n",
    "criterion = torch.nn.CrossEntropyLoss()\n",
    "optimizer = torch.optim.SGD(model.parameters(), lr=LR)\n",
    "scheduler = torch.optim.lr_scheduler.StepLR(optimizer, 1.0, gamma=0.1)\n",
    "total_accu = None\n",
    "train_iter, test_iter = AG_NEWS()\n",
    "train_dataset = to_map_style_dataset(train_iter)\n",
    "test_dataset = to_map_style_dataset(test_iter)\n",
    "num_train = int(len(train_dataset) * 0.95)\n",
    "split_train_, split_valid_ = \\\n",
    "    random_split(train_dataset, [num_train, len(train_dataset) - num_train])\n",
    "\n",
    "train_dataloader = DataLoader(split_train_, batch_size=BATCH_SIZE,\n",
    "                              shuffle=True, collate_fn=collate_batch)\n",
    "valid_dataloader = DataLoader(split_valid_, batch_size=BATCH_SIZE,\n",
    "                              shuffle=True, collate_fn=collate_batch)\n",
    "test_dataloader = DataLoader(test_dataset, batch_size=BATCH_SIZE,\n",
    "                             shuffle=True, collate_fn=collate_batch)\n",
    "\n",
    "for epoch in range(1, EPOCHS + 1):\n",
    "    epoch_start_time = time.time()\n",
    "    train(train_dataloader)\n",
    "    accu_val = evaluate(valid_dataloader)\n",
    "    if total_accu is not None and total_accu > accu_val:\n",
    "      scheduler.step()\n",
    "    else:\n",
    "       total_accu = accu_val\n",
    "    print('-' * 59)\n",
    "    print('| end of epoch {:3d} | time: {:5.2f}s | '\n",
    "          'valid accuracy {:8.3f} '.format(epoch,\n",
    "                                           time.time() - epoch_start_time,\n",
    "                                           accu_val))\n",
    "    print('-' * 59)"
   ]
  },
  {
   "cell_type": "code",
   "execution_count": 13,
   "metadata": {},
   "outputs": [
    {
     "name": "stdout",
     "output_type": "stream",
     "text": [
      "Checking the results of test dataset.\n",
      "test accuracy    0.877\n"
     ]
    }
   ],
   "source": [
    "print('Checking the results of test dataset.')\n",
    "accu_test = evaluate(test_dataloader)\n",
    "print('test accuracy {:8.3f}'.format(accu_test))"
   ]
  },
  {
   "cell_type": "code",
   "execution_count": 20,
   "metadata": {},
   "outputs": [
    {
     "name": "stdout",
     "output_type": "stream",
     "text": [
      "This is a Sports news\n"
     ]
    }
   ],
   "source": [
    "ag_news_label = {1: \"World\",\n",
    "                 2: \"Sports\",\n",
    "                 3: \"Business\",\n",
    "                 4: \"Sci/Tec\"}\n",
    "\n",
    "text_processor = lambda text : truncate_text(text_pipeline(text))\n",
    "\n",
    "def predict(text, text_processor):\n",
    "    with torch.no_grad():\n",
    "        text = [text_processor(text)]\n",
    "        output = model(torch.tensor(text))\n",
    "        return output.argmax(1).item() + 1\n",
    "\n",
    "ex_text_str = \"MEMPHIS, Tenn. – Four days ago, Jon Rahm was \\\n",
    "    enduring the season’s worst weather conditions on Sunday at The \\\n",
    "    Open on his way to a closing 75 at Royal Portrush, which \\\n",
    "    considering the wind and the rain was a respectable showing. \\\n",
    "    Thursday’s first round at the WGC-FedEx St. Jude Invitational \\\n",
    "    was another story. With temperatures in the mid-80s and hardly any \\\n",
    "    wind, the Spaniard was 13 strokes better in a flawless round. \\\n",
    "    Thanks to his best putting performance on the PGA Tour, Rahm \\\n",
    "    finished with an 8-under 62 for a three-stroke lead, which \\\n",
    "    was even more impressive considering he’d never played the \\\n",
    "    front nine at TPC Southwind.\"\n",
    "\n",
    "model = model.to(\"cpu\")\n",
    "\n",
    "print(\"This is a %s news\" %ag_news_label[predict(ex_text_str, text_processor)])"
   ]
  }
 ],
 "metadata": {
  "kernelspec": {
   "display_name": "venv",
   "language": "python",
   "name": "python3"
  },
  "language_info": {
   "codemirror_mode": {
    "name": "ipython",
    "version": 3
   },
   "file_extension": ".py",
   "mimetype": "text/x-python",
   "name": "python",
   "nbconvert_exporter": "python",
   "pygments_lexer": "ipython3",
   "version": "3.8.13"
  },
  "orig_nbformat": 4,
  "vscode": {
   "interpreter": {
    "hash": "769eaced19ad32e1b9a87390451223e7fa09e6e7964db8015ea6ac7f05d15d9a"
   }
  }
 },
 "nbformat": 4,
 "nbformat_minor": 2
}
