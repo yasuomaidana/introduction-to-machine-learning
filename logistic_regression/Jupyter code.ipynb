{
 "cells": [
  {
   "cell_type": "markdown",
   "id": "1bb04940",
   "metadata": {},
   "source": [
    "# Logistic Regression using Pytorch\n",
    "\n",
    "1. First install the libraries"
   ]
  },
  {
   "cell_type": "code",
   "execution_count": 1,
   "id": "208575f7",
   "metadata": {},
   "outputs": [],
   "source": [
    "%matplotlib inline\n",
    "\n",
    "import numpy as np\n",
    "import matplotlib.pyplot as plt\n",
    "import torch\n",
    "from tqdm import tqdm\n",
    "from torchvision import datasets, transforms\n",
    "from torch.utils.data import DataLoader"
   ]
  },
  {
   "cell_type": "markdown",
   "id": "1b7e7ccf",
   "metadata": {},
   "source": [
    "## Loading data\n",
    "In this example we are loading the data from MNIST dataset provided by torchvision"
   ]
  },
  {
   "cell_type": "code",
   "execution_count": 2,
   "id": "eadbc934",
   "metadata": {},
   "outputs": [],
   "source": [
    "mnist_train = datasets.MNIST(root=\"./datasets\", train=True, transform=transforms.ToTensor(), download=True)\n",
    "mnist_test = datasets.MNIST(root=\"./datasets\", train=False, transform=transforms.ToTensor(), download=True)"
   ]
  },
  {
   "cell_type": "code",
   "execution_count": 3,
   "id": "cd456f87",
   "metadata": {},
   "outputs": [
    {
     "name": "stdout",
     "output_type": "stream",
     "text": [
      "Default image shape: torch.Size([1, 28, 28])\n",
      "Reshaped image shape: torch.Size([28, 28])\n",
      "The label for this image: 1\n"
     ]
    },
    {
     "data": {
      "image/png": "[encoded data removed]",
      "text/plain": [
       "<Figure size 640x480 with 1 Axes>"
      ]
     },
     "metadata": {},
     "output_type": "display_data"
    }
   ],
   "source": [
    "# Pick out the 4th (0-indexed) example from the training set\n",
    "image, label = mnist_train[3]\n",
    "\n",
    "# Plot the image\n",
    "print(\"Default image shape: {}\".format(image.shape))\n",
    "image = image.reshape([28,28])\n",
    "print(\"Reshaped image shape: {}\".format(image.shape))\n",
    "plt.imshow(image, cmap=\"gray\")\n",
    "\n",
    "# Print the label\n",
    "print(\"The label for this image: {}\".format(label))"
   ]
  },
  {
   "cell_type": "markdown",
   "id": "be4ba59d",
   "metadata": {},
   "source": [
    "## Shuffling the data\n",
    "Once the dataset has been loaded, we are going to use DataLoader which is imported by\n",
    "```python \n",
    "from torch.utils.data import DataLoader\n",
    "```\n",
    "Here we are loading the dataset in batches. This will help us with the program performance since we are not reading all the information at once. We also turned shuffle flag on\n",
    "> shuffle (bool, optional) – set to True to have the data reshuffled at every epoch (default: False).\n",
    "\n",
    "See \n",
    "[Data Loader Documentation](!https://pytorch.org/docs/stable/data.html#torch.utils.data.DataLoader)"
   ]
  },
  {
   "cell_type": "code",
   "execution_count": 4,
   "id": "ebf20ae9",
   "metadata": {},
   "outputs": [],
   "source": [
    "train_loader = DataLoader(mnist_train, batch_size=100, shuffle=True)\n",
    "test_loader = DataLoader(mnist_test, batch_size=100, shuffle=False)"
   ]
  },
  {
   "cell_type": "code",
   "execution_count": 5,
   "id": "3643285c",
   "metadata": {},
   "outputs": [
    {
     "name": "stdout",
     "output_type": "stream",
     "text": [
      "Shape of the minibatch of images: torch.Size([100, 1, 28, 28])\n",
      "Shape of the minibatch of labels: torch.Size([100])\n"
     ]
    }
   ],
   "source": [
    "data_train_iter = iter(train_loader)\n",
    "images, labels = next(data_train_iter)\n",
    "print(\"Shape of the minibatch of images: {}\".format(images.shape))\n",
    "print(\"Shape of the minibatch of labels: {}\".format(labels.shape))"
   ]
  },
  {
   "cell_type": "markdown",
   "id": "9ec6dc76",
   "metadata": {},
   "source": [
    "## The Logistic Regression Model"
   ]
  },
  {
   "cell_type": "code",
   "execution_count": 6,
   "id": "d7acb55c",
   "metadata": {},
   "outputs": [
    {
     "name": "stdout",
     "output_type": "stream",
     "text": [
      "The shape of input x: torch.Size([100, 784])\n"
     ]
    }
   ],
   "source": [
    "x = images.view(-1, 28*28)\n",
    "print(\"The shape of input x: {}\".format(x.shape))"
   ]
  },
  {
   "cell_type": "markdown",
   "id": "e723286c",
   "metadata": {},
   "source": [
    "We inicialize the weigths and bias randomly"
   ]
  },
  {
   "cell_type": "code",
   "execution_count": 7,
   "id": "776a4156",
   "metadata": {},
   "outputs": [],
   "source": [
    "# Randomly initialize weights W\n",
    "W = torch.randn(784, 10)/np.sqrt(784)\n",
    "W.requires_grad_()\n",
    "\n",
    "# Initialize bias b as 0s\n",
    "b = torch.zeros(10, requires_grad=True)"
   ]
  },
  {
   "cell_type": "code",
   "execution_count": 9,
   "id": "b2e38530",
   "metadata": {},
   "outputs": [
    {
     "name": "stdout",
     "output_type": "stream",
     "text": [
      "tensor([-0.0979, -0.1893, -0.0147,  0.2750,  0.4588, -0.0926,  0.3579, -0.2624,\n",
      "        -0.0356, -0.1551], grad_fn=<SliceBackward0>)\n"
     ]
    }
   ],
   "source": [
    "# Linear transformation with W and b\n",
    "y = torch.matmul(x, W) + b\n",
    "print(y[0,:])"
   ]
  },
  {
   "cell_type": "markdown",
   "id": "15074a30",
   "metadata": {},
   "source": [
    "We applied the softmax function [see library](https://pytorch.org/docs/stable/generated/torch.nn.Softmax.html) ![Softmax equation](https://i.ytimg.com/vi/lvNdl7yg4Pg/maxresdefault.jpg) \n",
    "\n",
    "In the second option we used the function described in the library"
   ]
  },
  {
   "cell_type": "code",
   "execution_count": 10,
   "id": "79a8d7d3",
   "metadata": {},
   "outputs": [
    {
     "name": "stdout",
     "output_type": "stream",
     "text": [
      "py[0] from equation: tensor([0.0859, 0.0784, 0.0934, 0.1248, 0.1500, 0.0864, 0.1356, 0.0729, 0.0915,\n",
      "        0.0812], grad_fn=<SelectBackward0>)\n",
      "py[0] with torch.nn.functional.softmax: tensor([0.0859, 0.0784, 0.0934, 0.1248, 0.1500, 0.0864, 0.1356, 0.0729, 0.0915,\n",
      "        0.0812], grad_fn=<SelectBackward0>)\n"
     ]
    }
   ],
   "source": [
    "# Option 1: Softmax to probabilities from equation\n",
    "py_eq = torch.exp(y) / torch.sum(torch.exp(y), dim=1, keepdim=True)\n",
    "print(\"py[0] from equation: {}\".format(py_eq[0]))\n",
    "\n",
    "# Option 2: Softmax to probabilities with torch.nn.functional\n",
    "import torch.nn.functional as F\n",
    "py = F.softmax(y, dim=1)\n",
    "print(\"py[0] with torch.nn.functional.softmax: {}\".format(py[0]))"
   ]
  },
  {
   "cell_type": "code",
   "execution_count": 16,
   "id": "6273e0b5",
   "metadata": {},
   "outputs": [
    {
     "name": "stdout",
     "output_type": "stream",
     "text": [
      "torch.Size([100])\n"
     ]
    }
   ],
   "source": [
    "print(labels.shape)"
   ]
  },
  {
   "cell_type": "markdown",
   "id": "50b0485d",
   "metadata": {},
   "source": [
    "Caclulating the cross_entropy, this will help us to know how good is our model. [See documentation)](https://pytorch.org/docs/stable/generated/torch.nn.functional.cross_entropy.html#torch.nn.functional.cross_entropy) ![](https://i.stack.imgur.com/gNip2.png)"
   ]
  },
  {
   "cell_type": "code",
   "execution_count": 12,
   "id": "44edfe9b",
   "metadata": {},
   "outputs": [
    {
     "name": "stdout",
     "output_type": "stream",
     "text": [
      "cross entropy from equation: 2.346263885498047\n",
      "cross entropy with torch.nn.functional.cross_entropy: 2.3462636470794678\n"
     ]
    }
   ],
   "source": [
    "# Cross-entropy loss from equation\n",
    "cross_entropy_eq = torch.mean(-torch.log(py_eq)[range(labels.shape[0]),labels])\n",
    "print(\"cross entropy from equation: {}\".format(cross_entropy_eq))\n",
    "\n",
    "# Option 2: cross-entropy loss with torch.nn.functional\n",
    "cross_entropy = F.cross_entropy(y, labels)\n",
    "print(\"cross entropy with torch.nn.functional.cross_entropy: {}\".format(cross_entropy))"
   ]
  },
  {
   "cell_type": "code",
   "execution_count": 13,
   "id": "32f20646",
   "metadata": {},
   "outputs": [],
   "source": [
    "# Optimizer\n",
    "optimizer = torch.optim.SGD([W,b], lr=0.1)"
   ]
  },
  {
   "cell_type": "code",
   "execution_count": 14,
   "id": "4980f044",
   "metadata": {},
   "outputs": [],
   "source": [
    "cross_entropy.backward()"
   ]
  },
  {
   "cell_type": "code",
   "execution_count": 15,
   "id": "bdfa8a15",
   "metadata": {},
   "outputs": [
    {
     "data": {
      "text/plain": [
       "tensor([-0.0088,  0.0502,  0.0247, -0.0226, -0.0108, -0.0077,  0.0484, -0.0557,\n",
       "        -0.0211,  0.0032])"
      ]
     },
     "execution_count": 15,
     "metadata": {},
     "output_type": "execute_result"
    }
   ],
   "source": [
    "b.grad"
   ]
  }
 ],
 "metadata": {
  "kernelspec": {
   "display_name": "Python 3 (ipykernel)",
   "language": "python",
   "name": "python3"
  },
  "language_info": {
   "codemirror_mode": {
    "name": "ipython",
    "version": 3
   },
   "file_extension": ".py",
   "mimetype": "text/x-python",
   "name": "python",
   "nbconvert_exporter": "python",
   "pygments_lexer": "ipython3",
   "version": "3.8.13"
  }
 },
 "nbformat": 4,
 "nbformat_minor": 5
}
