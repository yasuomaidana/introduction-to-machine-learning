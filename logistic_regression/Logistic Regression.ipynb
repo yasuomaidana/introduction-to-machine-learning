{
 "cells": [
  {
   "cell_type": "markdown",
   "id": "1bb04940",
   "metadata": {},
   "source": [
    "# Logistic Regression using Pytorch\n",
    "\n",
    "1. First install the libraries"
   ]
  },
  {
   "cell_type": "code",
   "execution_count": 1,
   "id": "208575f7",
   "metadata": {},
   "outputs": [],
   "source": [
    "%matplotlib inline\n",
    "\n",
    "import numpy as np\n",
    "import matplotlib.pyplot as plt\n",
    "import torch\n",
    "from tqdm import tqdm\n",
    "from torchvision import datasets, transforms\n",
    "from torch.utils.data import DataLoader"
   ]
  },
  {
   "cell_type": "markdown",
   "id": "1b7e7ccf",
   "metadata": {},
   "source": [
    "## Loading data\n",
    "In this example we are loading the data from MNIST dataset provided by torchvision"
   ]
  },
  {
   "cell_type": "code",
   "execution_count": 2,
   "id": "eadbc934",
   "metadata": {},
   "outputs": [],
   "source": [
    "mnist_train = datasets.MNIST(root=\"./datasets\", train=True, transform=transforms.ToTensor(), download=True)\n",
    "mnist_test = datasets.MNIST(root=\"./datasets\", train=False, transform=transforms.ToTensor(), download=True)"
   ]
  },
  {
   "cell_type": "code",
   "execution_count": 3,
   "id": "cd456f87",
   "metadata": {},
   "outputs": [
    {
     "name": "stdout",
     "output_type": "stream",
     "text": [
      "Default image shape: torch.Size([1, 28, 28])\n",
      "Reshaped image shape: torch.Size([28, 28])\n",
      "The label for this image: 1\n"
     ]
    },
    {
     "data": {
      "image/png": "[encoded data removed]",
      "text/plain": [
       "<Figure size 640x480 with 1 Axes>"
      ]
     },
     "metadata": {},
     "output_type": "display_data"
    }
   ],
   "source": [
    "# Pick out the 4th (0-indexed) example from the training set\n",
    "image, label = mnist_train[3]\n",
    "\n",
    "# Plot the image\n",
    "print(\"Default image shape: {}\".format(image.shape))\n",
    "image = image.reshape([28,28])\n",
    "print(\"Reshaped image shape: {}\".format(image.shape))\n",
    "plt.imshow(image, cmap=\"gray\")\n",
    "\n",
    "# Print the label\n",
    "print(\"The label for this image: {}\".format(label))"
   ]
  },
  {
   "cell_type": "markdown",
   "id": "be4ba59d",
   "metadata": {},
   "source": [
    "## Shuffling the data\n",
    "Once the dataset has been loaded, we are going to use DataLoader which is imported by\n",
    "```python \n",
    "from torch.utils.data import DataLoader\n",
    "```\n",
    "Here we are loading the dataset in batches. This will help us with the program performance since we are not reading all the information at once. We also turned shuffle flag on\n",
    "> shuffle (bool, optional) – set to True to have the data reshuffled at every epoch (default: False).\n",
    "\n",
    "See \n",
    "[Data Loader Documentation](!https://pytorch.org/docs/stable/data.html#torch.utils.data.DataLoader)"
   ]
  },
  {
   "cell_type": "code",
   "execution_count": 4,
   "id": "ebf20ae9",
   "metadata": {},
   "outputs": [],
   "source": [
    "train_loader = DataLoader(mnist_train, batch_size=100, shuffle=True)\n",
    "test_loader = DataLoader(mnist_test, batch_size=100, shuffle=False)"
   ]
  },
  {
   "cell_type": "code",
   "execution_count": 5,
   "id": "3643285c",
   "metadata": {},
   "outputs": [
    {
     "name": "stdout",
     "output_type": "stream",
     "text": [
      "Shape of the minibatch of images: torch.Size([100, 1, 28, 28])\n",
      "Shape of the minibatch of labels: torch.Size([100])\n"
     ]
    }
   ],
   "source": [
    "data_train_iter = iter(train_loader)\n",
    "images, labels = next(data_train_iter)\n",
    "print(\"Shape of the minibatch of images: {}\".format(images.shape))\n",
    "print(\"Shape of the minibatch of labels: {}\".format(labels.shape))"
   ]
  },
  {
   "cell_type": "markdown",
   "id": "9ec6dc76",
   "metadata": {},
   "source": [
    "## The Logistic Regression Model"
   ]
  },
  {
   "cell_type": "code",
   "execution_count": 6,
   "id": "d7acb55c",
   "metadata": {},
   "outputs": [
    {
     "name": "stdout",
     "output_type": "stream",
     "text": [
      "The shape of input x: torch.Size([100, 784])\n"
     ]
    }
   ],
   "source": [
    "x = images.view(-1, 28*28)\n",
    "print(\"The shape of input x: {}\".format(x.shape))"
   ]
  },
  {
   "cell_type": "markdown",
   "id": "e723286c",
   "metadata": {},
   "source": [
    "We inicialize the weigths and bias randomly"
   ]
  },
  {
   "cell_type": "code",
   "execution_count": 7,
   "id": "776a4156",
   "metadata": {},
   "outputs": [],
   "source": [
    "# Randomly initialize weights W\n",
    "W = torch.randn(784, 10)/np.sqrt(784)\n",
    "W.requires_grad_()\n",
    "\n",
    "# Initialize bias b as 0s\n",
    "b = torch.zeros(10, requires_grad=True)"
   ]
  },
  {
   "cell_type": "code",
   "execution_count": 8,
   "id": "b2e38530",
   "metadata": {},
   "outputs": [
    {
     "name": "stdout",
     "output_type": "stream",
     "text": [
      "tensor([-0.2068,  0.1047, -0.0199,  0.5373, -0.1939,  0.5420,  0.3384,  0.3090,\n",
      "        -0.1919,  0.0504], grad_fn=<SliceBackward0>)\n"
     ]
    }
   ],
   "source": [
    "# Linear transformation with W and b\n",
    "y = torch.matmul(x, W) + b\n",
    "print(y[0,:])"
   ]
  },
  {
   "cell_type": "markdown",
   "id": "15074a30",
   "metadata": {},
   "source": [
    "We applied the softmax function [see library](https://pytorch.org/docs/stable/generated/torch.nn.Softmax.html) ![Softmax equation](https://i.ytimg.com/vi/lvNdl7yg4Pg/maxresdefault.jpg) \n",
    "\n",
    "In the second option we used the function described in the library"
   ]
  },
  {
   "cell_type": "code",
   "execution_count": 9,
   "id": "79a8d7d3",
   "metadata": {},
   "outputs": [
    {
     "name": "stdout",
     "output_type": "stream",
     "text": [
      "py[0] from equation: tensor([0.0689, 0.0941, 0.0831, 0.1450, 0.0698, 0.1457, 0.1189, 0.1154, 0.0699,\n",
      "        0.0891], grad_fn=<SelectBackward0>)\n",
      "py[0] with torch.nn.functional.softmax: tensor([0.0689, 0.0941, 0.0831, 0.1450, 0.0698, 0.1457, 0.1189, 0.1154, 0.0699,\n",
      "        0.0891], grad_fn=<SelectBackward0>)\n"
     ]
    }
   ],
   "source": [
    "# Option 1: Softmax to probabilities from equation\n",
    "py_eq = torch.exp(y) / torch.sum(torch.exp(y), dim=1, keepdim=True)\n",
    "print(\"py[0] from equation: {}\".format(py_eq[0]))\n",
    "\n",
    "# Option 2: Softmax to probabilities with torch.nn.functional\n",
    "import torch.nn.functional as F\n",
    "py = F.softmax(y, dim=1)\n",
    "print(\"py[0] with torch.nn.functional.softmax: {}\".format(py[0]))"
   ]
  },
  {
   "cell_type": "code",
   "execution_count": 10,
   "id": "6273e0b5",
   "metadata": {},
   "outputs": [
    {
     "name": "stdout",
     "output_type": "stream",
     "text": [
      "torch.Size([100])\n"
     ]
    }
   ],
   "source": [
    "print(labels.shape)"
   ]
  },
  {
   "cell_type": "markdown",
   "id": "50b0485d",
   "metadata": {},
   "source": [
    "By caclulating the cross_entropy we will know how good is our model. [See documentation)](https://pytorch.org/docs/stable/generated/torch.nn.functional.cross_entropy.html#torch.nn.functional.cross_entropy) ![](https://i.stack.imgur.com/gNip2.png)"
   ]
  },
  {
   "cell_type": "code",
   "execution_count": 11,
   "id": "44edfe9b",
   "metadata": {},
   "outputs": [
    {
     "name": "stdout",
     "output_type": "stream",
     "text": [
      "cross entropy from equation: 2.376065731048584\n",
      "cross entropy with torch.nn.functional.cross_entropy: 2.376065731048584\n"
     ]
    }
   ],
   "source": [
    "# Cross-entropy loss from equation\n",
    "cross_entropy_eq = torch.mean(-torch.log(py_eq)[range(labels.shape[0]),labels])\n",
    "print(\"cross entropy from equation: {}\".format(cross_entropy_eq))\n",
    "\n",
    "# Option 2: cross-entropy loss with torch.nn.functional\n",
    "cross_entropy = F.cross_entropy(y, labels)\n",
    "print(\"cross entropy with torch.nn.functional.cross_entropy: {}\".format(cross_entropy))"
   ]
  },
  {
   "cell_type": "markdown",
   "id": "e034634c",
   "metadata": {},
   "source": [
    "Defining optimizer\n",
    "\n",
    "> [torch.optim](https://pytorch.org/docs/stable/optim.html) is a package implementing various optimization algorithms. Most commonly used methods are already supported, and the interface is general enough, so that more sophisticated ones can be also easily integrated in the future.\n",
    "\n",
    "To use torch.optim **you have to construct an optimizer object**, that will **hold** the current state and will **update** the parameters based on the computed gradients.\n",
    "\n",
    "> [torch.optim.SGD](https://pytorch.org/docs/stable/generated/torch.optim.SGD.html) Implements stochastic gradient descent (optionally with momentum)."
   ]
  },
  {
   "cell_type": "code",
   "execution_count": 12,
   "id": "32f20646",
   "metadata": {},
   "outputs": [],
   "source": [
    "# Optimizer\n",
    "optimizer = torch.optim.SGD([W,b], lr=0.1)"
   ]
  },
  {
   "cell_type": "code",
   "execution_count": 13,
   "id": "4980f044",
   "metadata": {},
   "outputs": [],
   "source": [
    "cross_entropy.backward()"
   ]
  },
  {
   "cell_type": "code",
   "execution_count": 14,
   "id": "bdfa8a15",
   "metadata": {},
   "outputs": [
    {
     "data": {
      "text/plain": [
       "tensor([ 0.0401,  0.0032,  0.0026,  0.0193, -0.0409,  0.0435, -0.0123, -0.0352,\n",
       "         0.0059, -0.0263])"
      ]
     },
     "execution_count": 14,
     "metadata": {},
     "output_type": "execute_result"
    }
   ],
   "source": [
    "b.grad"
   ]
  },
  {
   "cell_type": "markdown",
   "id": "308632bf",
   "metadata": {},
   "source": [
    "All optimizers implement a step() method, that updates the parameters. [see](https://pytorch.org/docs/stable/optim.html#taking-an-optimization-step)"
   ]
  },
  {
   "cell_type": "code",
   "execution_count": 15,
   "id": "f4dd0417",
   "metadata": {},
   "outputs": [
    {
     "data": {
      "text/plain": [
       "tensor([0., 0., 0., 0., 0., 0., 0., 0., 0., 0.], requires_grad=True)"
      ]
     },
     "execution_count": 15,
     "metadata": {},
     "output_type": "execute_result"
    }
   ],
   "source": [
    "b"
   ]
  },
  {
   "cell_type": "code",
   "execution_count": 16,
   "id": "679e47a8",
   "metadata": {},
   "outputs": [],
   "source": [
    "optimizer.step()"
   ]
  },
  {
   "cell_type": "code",
   "execution_count": 17,
   "id": "941ca5a3",
   "metadata": {},
   "outputs": [
    {
     "data": {
      "text/plain": [
       "tensor([-0.0040, -0.0003, -0.0003, -0.0019,  0.0041, -0.0044,  0.0012,  0.0035,\n",
       "        -0.0006,  0.0026], requires_grad=True)"
      ]
     },
     "execution_count": 17,
     "metadata": {},
     "output_type": "execute_result"
    }
   ],
   "source": [
    "b"
   ]
  },
  {
   "cell_type": "markdown",
   "id": "22e5886e",
   "metadata": {},
   "source": [
    "One more thing to keep in mind though: gradients calculated by backward() don't override the old values; instead, they accumulate. Therefore, you'll want to clear the gradient buffers before you compute gradients for the next minibatch"
   ]
  },
  {
   "cell_type": "code",
   "execution_count": 18,
   "id": "d07f7bfa",
   "metadata": {},
   "outputs": [
    {
     "name": "stdout",
     "output_type": "stream",
     "text": [
      "b.grad before zero_grad(): tensor([ 0.0401,  0.0032,  0.0026,  0.0193, -0.0409,  0.0435, -0.0123, -0.0352,\n",
      "         0.0059, -0.0263])\n",
      "b.grad after zero_grad(): tensor([0., 0., 0., 0., 0., 0., 0., 0., 0., 0.])\n"
     ]
    }
   ],
   "source": [
    "print(\"b.grad before zero_grad(): {}\".format(b.grad))\n",
    "optimizer.zero_grad()\n",
    "print(\"b.grad after zero_grad(): {}\".format(b.grad))"
   ]
  },
  {
   "cell_type": "markdown",
   "id": "31e73eb8",
   "metadata": {},
   "source": [
    "## Model training"
   ]
  },
  {
   "cell_type": "code",
   "execution_count": 19,
   "id": "a34efd77",
   "metadata": {},
   "outputs": [
    {
     "name": "stderr",
     "output_type": "stream",
     "text": [
      "100%|████████████████████████████████████████████████████████████████████████████████████████████████████████████████████████████████████████████████████████████████████████████████████████████| 600/600 [00:09<00:00, 64.87it/s]\n"
     ]
    }
   ],
   "source": [
    "# Iterate through train set minibatchs \n",
    "for images, labels in tqdm(train_loader):\n",
    "    # Zero out the gradients\n",
    "    optimizer.zero_grad()\n",
    "    \n",
    "    # Forward pass\n",
    "    x = images.view(-1, 28*28) #Reshape the image into a vector\n",
    "    y = torch.matmul(x, W) + b #Forward propagation\n",
    "    cross_entropy = F.cross_entropy(y, labels) #Evaluates how good/bad is the model\n",
    "    # Backward pass\n",
    "    cross_entropy.backward() #Makes the backpropagation\n",
    "    optimizer.step()# Updates the values"
   ]
  },
  {
   "cell_type": "markdown",
   "id": "c025e075",
   "metadata": {},
   "source": [
    "## Testing\n",
    "\n",
    "We're going to wrap evaluation with `torch.no_grad()`, as we're not interested in computing gradients during evaluation. *By turning off the autograd engine, we can speed up evaluation.*"
   ]
  },
  {
   "cell_type": "code",
   "execution_count": 20,
   "id": "7c23426f",
   "metadata": {},
   "outputs": [
    {
     "name": "stderr",
     "output_type": "stream",
     "text": [
      "100%|████████████████████████████████████████████████████████████████████████████████████████████████████████████████████████████████████████████████████████████████████████████████████████████| 100/100 [00:01<00:00, 70.77it/s]"
     ]
    },
    {
     "name": "stdout",
     "output_type": "stream",
     "text": [
      "Test accuracy: 0.9049000144004822\n"
     ]
    },
    {
     "name": "stderr",
     "output_type": "stream",
     "text": [
      "\n"
     ]
    }
   ],
   "source": [
    "correct = 0\n",
    "total = len(mnist_test)\n",
    "\n",
    "with torch.no_grad():\n",
    "    # Iterate through test set minibatchs \n",
    "    for images, labels in tqdm(test_loader):\n",
    "        # Forward pass\n",
    "        x = images.view(-1, 28*28)\n",
    "        y = torch.matmul(x, W) + b\n",
    "        \n",
    "        predictions = torch.argmax(y, dim=1)\n",
    "        correct += torch.sum((predictions == labels).float())\n",
    "    \n",
    "print('Test accuracy: {}'.format(correct/total))"
   ]
  },
  {
   "cell_type": "code",
   "execution_count": 21,
   "id": "e3c2adce",
   "metadata": {},
   "outputs": [
    {
     "data": {
      "image/png": "[encoded data removed]",
      "text/plain": [
       "<Figure size 2000x200 with 10 Axes>"
      ]
     },
     "metadata": {},
     "output_type": "display_data"
    }
   ],
   "source": [
    "# Get weights\n",
    "fig, ax = plt.subplots(1, 10, figsize=(20, 2))\n",
    "\n",
    "for digit in range(10):\n",
    "    ax[digit].imshow(W[:,digit].detach().view(28,28), cmap='gray')"
   ]
  },
  {
   "cell_type": "markdown",
   "id": "f939da66",
   "metadata": {},
   "source": [
    "## Using Object Oriented factorization"
   ]
  },
  {
   "cell_type": "code",
   "execution_count": 22,
   "id": "ea0279e0",
   "metadata": {},
   "outputs": [
    {
     "data": {
      "application/vnd.jupyter.widget-view+json": {
       "model_id": "58c474a9bfd5414192cef77bb55caa27",
       "version_major": 2,
       "version_minor": 0
      },
      "text/plain": [
       "  0%|          | 0/600 [00:00<?, ?it/s]"
      ]
     },
     "metadata": {},
     "output_type": "display_data"
    },
    {
     "data": {
      "application/vnd.jupyter.widget-view+json": {
       "model_id": "7547328e1a8f4ba7981679f482ed85e5",
       "version_major": 2,
       "version_minor": 0
      },
      "text/plain": [
       "  0%|          | 0/100 [00:00<?, ?it/s]"
      ]
     },
     "metadata": {},
     "output_type": "display_data"
    },
    {
     "name": "stdout",
     "output_type": "stream",
     "text": [
      "Test accuracy: 0.9017000198364258\n"
     ]
    }
   ],
   "source": [
    "import numpy as np\n",
    "import torch\n",
    "import torch.nn as nn\n",
    "import torch.nn.functional as F\n",
    "from torchvision import datasets, transforms\n",
    "from tqdm.notebook import tqdm\n",
    "\n",
    "class MNIST_Logistic_Regression(nn.Module):\n",
    "    def __init__(self):\n",
    "        super().__init__()\n",
    "        self.lin = nn.Linear(784, 10)\n",
    "\n",
    "    def forward(self, x):\n",
    "        return self.lin(x)\n",
    "\n",
    "# Load the data\n",
    "mnist_train = datasets.MNIST(root=\"./datasets\", train=True, transform=transforms.ToTensor(), download=True)\n",
    "mnist_test = datasets.MNIST(root=\"./datasets\", train=False, transform=transforms.ToTensor(), download=True)\n",
    "train_loader = torch.utils.data.DataLoader(mnist_train, batch_size=100, shuffle=True)\n",
    "test_loader = torch.utils.data.DataLoader(mnist_test, batch_size=100, shuffle=False)\n",
    "\n",
    "## Training\n",
    "# Instantiate model\n",
    "model = MNIST_Logistic_Regression()\n",
    "\n",
    "# Loss and Optimizer\n",
    "criterion = nn.CrossEntropyLoss()\n",
    "optimizer = torch.optim.SGD(model.parameters(), lr=0.1)\n",
    "\n",
    "# Iterate through train set minibatchs \n",
    "for images, labels in tqdm(train_loader):\n",
    "    # Zero out the gradients\n",
    "    optimizer.zero_grad()\n",
    "    \n",
    "    # Forward pass\n",
    "    x = images.view(-1, 28*28)\n",
    "    y = model(x)\n",
    "    loss = criterion(y, labels)\n",
    "    # Backward pass\n",
    "    loss.backward()\n",
    "    optimizer.step()\n",
    "\n",
    "## Testing\n",
    "correct = 0\n",
    "total = len(mnist_test)\n",
    "\n",
    "with torch.no_grad():\n",
    "    # Iterate through test set minibatchs \n",
    "    for images, labels in tqdm(test_loader):\n",
    "        # Forward pass\n",
    "        x = images.view(-1, 28*28)\n",
    "        y = model(x)\n",
    "        \n",
    "        predictions = torch.argmax(y, dim=1)\n",
    "        correct += torch.sum((predictions == labels).float())\n",
    "    \n",
    "print('Test accuracy: {}'.format(correct/total))"
   ]
  },
  {
   "cell_type": "code",
   "execution_count": null,
   "id": "28cf6656",
   "metadata": {},
   "outputs": [],
   "source": []
  }
 ],
 "metadata": {
  "kernelspec": {
   "display_name": "Python 3 (ipykernel)",
   "language": "python",
   "name": "python3"
  },
  "language_info": {
   "codemirror_mode": {
    "name": "ipython",
    "version": 3
   },
   "file_extension": ".py",
   "mimetype": "text/x-python",
   "name": "python",
   "nbconvert_exporter": "python",
   "pygments_lexer": "ipython3",
   "version": "3.8.13"
  }
 },
 "nbformat": 4,
 "nbformat_minor": 5
}
