{
 "cells": [
  {
   "metadata": {},
   "cell_type": "markdown",
   "source": [
    "# Cosine similarity\n",
    "\n",
    "$$\\text{cosine similarity} = S_C\\left(A,B\\right) = \\cos(\\theta) = \\frac{\\mathbf{A}\\cdot\\mathbf{B}}{\\rvert\\rvert\\mathbf{A}\\lvert\\lvert \\rvert\\rvert\\mathbf{B}\\lvert\\lvert}$$"
   ],
   "id": "ab5b4799d15f62f6"
  },
  {
   "cell_type": "code",
   "id": "initial_id",
   "metadata": {
    "collapsed": true,
    "ExecuteTime": {
     "end_time": "2025-05-07T22:14:24.065294Z",
     "start_time": "2025-05-07T22:14:24.062228Z"
    }
   },
   "source": [
    "import numpy as np\n",
    "def cosine_similarity(a_,b_):\n",
    "    \"\"\"\n",
    "    Calculate the cosine similarity between two vectors.\n",
    "    \n",
    "    Args:\n",
    "        a_ (numpy.ndarray): First vector.\n",
    "        b_ (numpy.ndarray): Second vector.\n",
    "        \n",
    "    Returns:\n",
    "        float: Cosine similarity between the two vectors.\n",
    "    \"\"\"\n",
    "    return np.dot(a_, b_) / (np.linalg.norm(a_) * np.linalg.norm(b_))"
   ],
   "outputs": [],
   "execution_count": 2
  },
  {
   "metadata": {
    "ExecuteTime": {
     "end_time": "2025-05-07T22:16:22.044544Z",
     "start_time": "2025-05-07T22:16:22.041314Z"
    }
   },
   "cell_type": "code",
   "source": [
    "a = np.array([1, 1])\n",
    "b = np.array([1, 2])\n",
    "c = np.array([9, 1])\n",
    "print(cosine_similarity(a, b))\n",
    "print(cosine_similarity(a, c))\n",
    "print(cosine_similarity(b, c))\n"
   ],
   "id": "426eeb8539c07c29",
   "outputs": [
    {
     "name": "stdout",
     "output_type": "stream",
     "text": [
      "0.9486832980505138\n",
      "0.7808688094430303\n",
      "0.5432512781572741\n"
     ]
    }
   ],
   "execution_count": 7
  }
 ],
 "metadata": {
  "kernelspec": {
   "display_name": "Python 3",
   "language": "python",
   "name": "python3"
  },
  "language_info": {
   "codemirror_mode": {
    "name": "ipython",
    "version": 2
   },
   "file_extension": ".py",
   "mimetype": "text/x-python",
   "name": "python",
   "nbconvert_exporter": "python",
   "pygments_lexer": "ipython2",
   "version": "2.7.6"
  }
 },
 "nbformat": 4,
 "nbformat_minor": 5
}
