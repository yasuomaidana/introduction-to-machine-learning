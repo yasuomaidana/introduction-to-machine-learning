{
 "cells": [
  {
   "metadata": {},
   "cell_type": "markdown",
   "source": [
    "# Basic Chatbot\n",
    "\n",
    "Language generation can be used to create a chatbot. The prompt given to a language model should contain some information about the task, the conversation history and the latest user input.\n",
    "\n",
    "Below is the prompt template with placeholders for the conversation history and input. We'll try this out with `distilgpt2`. However it is a smaller model that will run quickly but not perform very well as a chatbot. In comparison, larger chat-specific language models (including ChatGPT) can adapt well to different inputs and have been trained specifically for conversations."
   ],
   "id": "c1f5b0dfa543a787"
  },
  {
   "cell_type": "code",
   "execution_count": null,
   "id": "initial_id",
   "metadata": {
    "collapsed": true
   },
   "outputs": [],
   "source": [
    ""
   ]
  }
 ],
 "metadata": {
  "kernelspec": {
   "display_name": "Python 3",
   "language": "python",
   "name": "python3"
  },
  "language_info": {
   "codemirror_mode": {
    "name": "ipython",
    "version": 2
   },
   "file_extension": ".py",
   "mimetype": "text/x-python",
   "name": "python",
   "nbconvert_exporter": "python",
   "pygments_lexer": "ipython2",
   "version": "2.7.6"
  }
 },
 "nbformat": 4,
 "nbformat_minor": 5
}
