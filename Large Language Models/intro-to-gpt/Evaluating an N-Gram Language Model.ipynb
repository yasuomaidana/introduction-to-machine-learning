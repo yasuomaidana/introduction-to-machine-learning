{
 "cells": [
  {
   "metadata": {},
   "cell_type": "markdown",
   "source": [
    "# Evaluating an N-Gram Language Model\n",
    "\n"
   ],
   "id": "7375c02caf7cc6dd"
  },
  {
   "metadata": {
    "ExecuteTime": {
     "end_time": "2025-05-01T18:30:32.649498Z",
     "start_time": "2025-05-01T18:30:32.238276Z"
    }
   },
   "cell_type": "code",
   "source": [
    "from n_gram import NGramLM, load_corpus\n",
    "import matplotlib.pyplot as plt\n",
    "import math\n",
    "\n",
    "BOS = '<BOS>'\n",
    "EOS = '<EOS>'\n",
    "OOV = '<OOV>'\n",
    "\n",
    "# Load pre-built n-gram languae models\n",
    "model_unigram = NGramLM('arthur-conan-doyle.tok.train.n1.pkl', .01, verbose=True)\n",
    "model_bigram = NGramLM('arthur-conan-doyle.tok.train.n2.pkl', .01)\n",
    "model_trigram = NGramLM('arthur-conan-doyle.tok.train.n3.pkl', .01)\n",
    "model_4gram = NGramLM('arthur-conan-doyle.tok.train.n4.pkl', .01)\n",
    "model_5gram = NGramLM('arthur-conan-doyle.tok.train.n5.pkl', .01)"
   ],
   "id": "24f979c9398e1052",
   "outputs": [],
   "execution_count": 1
  },
  {
   "metadata": {},
   "cell_type": "markdown",
   "source": [
    "Now it's time to see how well these models fit our data! We'll use Perplexity for this calculation, but it's up to you to implement it below.\n",
    "\n",
    "Recall the formula for perplexity from the lecture:\n",
    "\n",
    "$$\n",
    "perplexity = 2^{\\frac{-1}{n}\\sum \\log_2(P(w_i|w_{<i}))}\n",
    "$$\n",
    "\n",
    "Hint: you'll want to use the [`math.log2`](https://docs.python.org/3/library/math.html#math.log2) function"
   ],
   "id": "cd11f165e1834713"
  },
  {
   "metadata": {
    "ExecuteTime": {
     "end_time": "2025-05-01T18:30:32.774715Z",
     "start_time": "2025-05-01T18:30:32.771082Z"
    }
   },
   "cell_type": "code",
   "source": [
    "def perplexity(model: NGramLM, texts: list[tuple[str]]) -> float:\n",
    "    n_word = sum(len(text) for text in texts)\n",
    "    try:\n",
    "        res = sum(\n",
    "            math.log2(model.get_prob(text[:i], text[i]))\n",
    "            for text in texts\n",
    "            for i in range(len(text))\n",
    "        )\n",
    "    except :\n",
    "        res = -1e6 # If we encounter an OOV, we set the perplexity to a large number?\n",
    "    return math.pow(2, -1 / n_word * res)\n",
    "\n",
    "\n",
    "model_unigram.verbose = True\n",
    "print(perplexity(model_unigram, [('My', 'dear', 'Watson', '.'), ('Come', 'over', 'here', '!')]))\n",
    "model_unigram.verbose = False"
   ],
   "id": "adc3d0d24c6904c7",
   "outputs": [
    {
     "name": "stdout",
     "output_type": "stream",
     "text": [
      "0.0006603 -> My\n",
      "5.955e-05 My -> dear\n",
      "5.955e-05 My dear -> Watson\n",
      "5.955e-05 My dear Watson -> .\n",
      "0.0001687 -> Come\n",
      "5.955e-05 Come -> over\n",
      "5.955e-05 Come over -> here\n",
      "5.955e-05 Come over here -> !\n",
      "10914.060522177839\n"
     ]
    }
   ],
   "execution_count": 2
  },
  {
   "metadata": {
    "ExecuteTime": {
     "end_time": "2025-05-01T18:30:32.784095Z",
     "start_time": "2025-05-01T18:30:32.782225Z"
    }
   },
   "cell_type": "code",
   "source": [
    "# Tests\n",
    "assert round(perplexity(model_unigram, [('My', 'dear', 'Watson')])) == 7531\n",
    "assert round(perplexity(model_bigram, [('My', 'dear', 'Watson')])) == 24\n",
    "assert round(perplexity(model_trigram, [('My', 'dear', 'Watson')])) == 521"
   ],
   "id": "64fcf5de6945c39c",
   "outputs": [],
   "execution_count": 3
  },
  {
   "metadata": {},
   "cell_type": "markdown",
   "source": [
    "Now let's see how well the model fits a held-out test set.\n",
    "\n",
    "The test data covers a few of the stories, and represents about 12% of the total data."
   ],
   "id": "6eac9d209764f6ce"
  },
  {
   "metadata": {
    "ExecuteTime": {
     "end_time": "2025-05-01T18:30:33.512319Z",
     "start_time": "2025-05-01T18:30:32.791476Z"
    }
   },
   "cell_type": "code",
   "source": [
    "toks_test = load_corpus('arthur-conan-doyle.tok.test.txt')\n",
    "\n",
    "print(\"1Gram: {}\".format(perplexity(model_unigram, toks_test)))\n",
    "print(\"2Gram: {}\".format(perplexity(model_bigram, toks_test)))\n",
    "print(\"3Gram: {}\".format(perplexity(model_trigram, toks_test)))\n",
    "print(\"4Gram: {}\".format(perplexity(model_4gram, toks_test)))\n",
    "print(\"5Gram: {}\".format(perplexity(model_5gram, toks_test)))"
   ],
   "id": "ab4a4297e466be39",
   "outputs": [
    {
     "name": "stdout",
     "output_type": "stream",
     "text": [
      "1Gram: 14924.231775682032\n",
      "2Gram: 259.53894955493575\n",
      "3Gram: 1306.5535359617168\n",
      "4Gram: 4921.800243753726\n",
      "5Gram: 8463.320537423433\n"
     ]
    }
   ],
   "execution_count": 4
  },
  {
   "metadata": {},
   "cell_type": "markdown",
   "source": [
    "You should see that the perplexity for the bigram model is lower than the others. What does this indicate?\n",
    "\n",
    "> Remember it's a bad idea to determine the quality of a model based on the perplexity of data that was used for training. Below, evaluate the same five models using the training data."
   ],
   "id": "3a397b3d4fd65dd3"
  },
  {
   "metadata": {
    "ExecuteTime": {
     "end_time": "2025-05-01T18:30:38.575547Z",
     "start_time": "2025-05-01T18:30:33.522289Z"
    }
   },
   "cell_type": "code",
   "source": [
    "toks_train = load_corpus('arthur-conan-doyle.tok.train.txt')\n",
    "\n",
    "print(\"1Gram: {}\".format(perplexity(model_unigram, toks_train)))\n",
    "print(\"2Gram: {}\".format(perplexity(model_bigram, toks_train)))\n",
    "print(\"3Gram: {}\".format(perplexity(model_trigram, toks_train)))\n",
    "print(\"4Gram: {}\".format(perplexity(model_4gram, toks_train)))\n",
    "print(\"5Gram: {}\".format(perplexity(model_5gram, toks_train)))"
   ],
   "id": "5821b3661103f3de",
   "outputs": [
    {
     "name": "stdout",
     "output_type": "stream",
     "text": [
      "1Gram: 14976.720311453284\n",
      "2Gram: 89.24191939090886\n",
      "3Gram: 91.85929869314299\n",
      "4Gram: 121.15467462888681\n",
      "5Gram: 137.07146227675707\n"
     ]
    }
   ],
   "execution_count": 5
  },
  {
   "metadata": {},
   "cell_type": "markdown",
   "source": "You should see that you get much lower perplexities when measuring on the training data, especially for the models with larger values of `n`. This suggests that the model is over-fitting to the training data.",
   "id": "2a23fcd7fe919fb8"
  },
  {
   "metadata": {
    "ExecuteTime": {
     "end_time": "2025-05-01T18:30:38.977941Z",
     "start_time": "2025-05-01T18:30:38.584136Z"
    }
   },
   "cell_type": "code",
   "source": [
    "ngrams = [1, 2, 3, 4, 5]\n",
    "models = [model_unigram, model_bigram, model_trigram, model_4gram, model_5gram]\n",
    "models_s0 = [\n",
    "    NGramLM('arthur-conan-doyle.tok.train.n1.pkl', 0),\n",
    "    NGramLM('arthur-conan-doyle.tok.train.n2.pkl', 0),\n",
    "    NGramLM('arthur-conan-doyle.tok.train.n3.pkl', 0),\n",
    "    NGramLM('arthur-conan-doyle.tok.train.n4.pkl', 0),\n",
    "    NGramLM('arthur-conan-doyle.tok.train.n5.pkl', 0)]"
   ],
   "id": "fb27775abb5cbce9",
   "outputs": [],
   "execution_count": 6
  },
  {
   "metadata": {
    "ExecuteTime": {
     "end_time": "2025-05-01T18:30:39.762430Z",
     "start_time": "2025-05-01T18:30:38.983730Z"
    }
   },
   "cell_type": "code",
   "source": [
    "perplexities = [perplexity(model, toks_test) for model in models]\n",
    "perplexities_s0 = [perplexity(model, toks_test) for model in models_s0]"
   ],
   "id": "60480fe840503e21",
   "outputs": [],
   "execution_count": 7
  },
  {
   "metadata": {
    "ExecuteTime": {
     "end_time": "2025-05-01T18:30:39.828704Z",
     "start_time": "2025-05-01T18:30:39.768705Z"
    }
   },
   "cell_type": "code",
   "source": [
    "plt.plot(ngrams, perplexities, label='smoothing')\n",
    "plt.plot(ngrams, perplexities_s0, label='no smoothing')\n",
    "plt.legend()\n",
    "plt.show()"
   ],
   "id": "2b1a856f87ea673d",
   "outputs": [
    {
     "data": {
      "text/plain": [
       "<Figure size 640x480 with 1 Axes>"
      ],
      "image/png": "[encoded data removed]"
     },
     "metadata": {},
     "output_type": "display_data"
    }
   ],
   "execution_count": 8
  }
 ],
 "metadata": {},
 "nbformat": 4,
 "nbformat_minor": 5
}
