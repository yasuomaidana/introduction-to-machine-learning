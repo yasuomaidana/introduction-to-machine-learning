{
 "cells": [
  {
   "metadata": {},
   "cell_type": "markdown",
   "source": [
    "# Calculating perplexity\n",
    "\n",
    "A language model can be used to calculate the probability of a sequence of text. This is very useful for a number of applications, e.g. judging whether a word was likely mistyped and the corrected word makes more sense in the context.\n",
    "\n",
    "These probability calculations can also be used to broadly evaluate a language model. A language model should give a higher probability to a real block of text compared to one that contains random words. The measure used in this context is known as **perplexity**. Let's figure out how to calculate it.\n",
    ".\n",
    "\n",
    "We'll define a span of text that we want to calculate the probability that the language model generated it."
   ],
   "id": "90363fa98562abb7"
  },
  {
   "metadata": {
    "ExecuteTime": {
     "end_time": "2025-05-07T22:03:55.670628Z",
     "start_time": "2025-05-07T22:03:53.964110Z"
    }
   },
   "cell_type": "code",
   "source": [
    "from transformers import AutoTokenizer, AutoModelForCausalLM\n",
    "from scipy.special import softmax\n",
    "import seaborn as sns\n",
    "import matplotlib.pyplot as plt\n",
    "from math import log"
   ],
   "id": "2c37c36e038aedf2",
   "outputs": [],
   "execution_count": 1
  },
  {
   "cell_type": "code",
   "id": "initial_id",
   "metadata": {
    "collapsed": true,
    "ExecuteTime": {
     "end_time": "2025-05-07T22:03:55.799189Z",
     "start_time": "2025-05-07T22:03:55.797075Z"
    }
   },
   "source": "real_text = \"It was the best of times, it was the worst of times\"",
   "outputs": [],
   "execution_count": 2
  },
  {
   "metadata": {
    "ExecuteTime": {
     "end_time": "2025-05-07T22:03:58.633444Z",
     "start_time": "2025-05-07T22:03:55.805407Z"
    }
   },
   "cell_type": "code",
   "source": [
    "tokenizer = AutoTokenizer.from_pretrained('distilgpt2')\n",
    "model = AutoModelForCausalLM.from_pretrained('distilgpt2')"
   ],
   "id": "5350aba8be92109",
   "outputs": [],
   "execution_count": 3
  },
  {
   "metadata": {},
   "cell_type": "markdown",
   "source": "We want to calculate the probability of the sequence which would start with the word \"It\". So what probability does `distilgpt2` give for \"It\" starting a sequence? To find out that, we need to add the beginning of sequence (or bos) token at the beginning of the string. `distilgpt2` only had one special token (`<|endoftext|>`) that it uses to separate bits of text, whereas other models (e.g. BERT) do have specific tokens for the beginning of sequences (`[CLS]` for BERT). We'll add GPT's special token at the beginning of this sequence.",
   "id": "cc6664d4b9ae4dfd"
  },
  {
   "metadata": {
    "ExecuteTime": {
     "end_time": "2025-05-07T22:03:58.646301Z",
     "start_time": "2025-05-07T22:03:58.642390Z"
    }
   },
   "cell_type": "code",
   "source": [
    "bos_token = tokenizer.special_tokens_map['bos_token']\n",
    "real_text_with_bos = f\"{bos_token} {real_text}\"\n",
    "real_text_with_bos"
   ],
   "id": "e01ef26e9df12aae",
   "outputs": [
    {
     "data": {
      "text/plain": [
       "'<|endoftext|> It was the best of times, it was the worst of times'"
      ]
     },
     "execution_count": 4,
     "metadata": {},
     "output_type": "execute_result"
    }
   ],
   "execution_count": 4
  },
  {
   "metadata": {
    "ExecuteTime": {
     "end_time": "2025-05-07T22:03:58.660884Z",
     "start_time": "2025-05-07T22:03:58.658161Z"
    }
   },
   "cell_type": "code",
   "source": "tokenizer.special_tokens_map",
   "id": "612882bcef6e63f8",
   "outputs": [
    {
     "data": {
      "text/plain": [
       "{'bos_token': '<|endoftext|>',\n",
       " 'eos_token': '<|endoftext|>',\n",
       " 'unk_token': '<|endoftext|>'}"
      ]
     },
     "execution_count": 5,
     "metadata": {},
     "output_type": "execute_result"
    }
   ],
   "execution_count": 5
  },
  {
   "metadata": {},
   "cell_type": "markdown",
   "source": "Now we tokenize it and get PyTorch tensors using `return_tensors='pt` so that it's ready to be inputted into the Transformer.",
   "id": "7d3d6a64454c5959"
  },
  {
   "metadata": {
    "ExecuteTime": {
     "end_time": "2025-05-07T22:03:58.680280Z",
     "start_time": "2025-05-07T22:03:58.675004Z"
    }
   },
   "cell_type": "code",
   "source": [
    "tokenized = tokenizer(real_text_with_bos, return_tensors='pt')\n",
    "tokenized"
   ],
   "id": "2e3817fb3462464e",
   "outputs": [
    {
     "data": {
      "text/plain": [
       "{'input_ids': tensor([[50256,   632,   373,   262,  1266,   286,  1661,    11,   340,   373,\n",
       "           262,  5290,   286,  1661]]), 'attention_mask': tensor([[1, 1, 1, 1, 1, 1, 1, 1, 1, 1, 1, 1, 1, 1]])}"
      ]
     },
     "execution_count": 6,
     "metadata": {},
     "output_type": "execute_result"
    }
   ],
   "execution_count": 6
  },
  {
   "metadata": {},
   "cell_type": "markdown",
   "source": [
    "That gave us 14 tokens including the special token `<|endoftext|>` which has ID 50256.\n",
    "\n",
    "We can now feed that tokenized text into the `distilgpt2` transformer model."
   ],
   "id": "3cbbf9a3ec37ea26"
  },
  {
   "metadata": {
    "ExecuteTime": {
     "end_time": "2025-05-07T22:03:58.729646Z",
     "start_time": "2025-05-07T22:03:58.693Z"
    }
   },
   "cell_type": "code",
   "source": "output = model(**tokenized)",
   "id": "907c86a52c7f748",
   "outputs": [],
   "execution_count": 7
  },
  {
   "metadata": {
    "ExecuteTime": {
     "end_time": "2025-05-07T22:03:58.751278Z",
     "start_time": "2025-05-07T22:03:58.748447Z"
    }
   },
   "cell_type": "code",
   "source": [
    "logits = output.logits.detach().numpy()  # We use .detach().numpy() to convert the PyTorch tensor to a numpy array\n",
    "logits.shape"
   ],
   "id": "3157e27439643571",
   "outputs": [
    {
     "data": {
      "text/plain": [
       "(1, 14, 50257)"
      ]
     },
     "execution_count": 8,
     "metadata": {},
     "output_type": "execute_result"
    }
   ],
   "execution_count": 8
  },
  {
   "metadata": {},
   "cell_type": "markdown",
   "source": [
    "Scores for every possible token in our model (all 50257 of them) following each of the 14 input tokens. Recall that `len(tokenizer.vocab) = 50257`.\n",
    "\n",
    "We also need to apply the softmax function as before to make the scores look like probabilities."
   ],
   "id": "e0738e4278ee2863"
  },
  {
   "metadata": {
    "ExecuteTime": {
     "end_time": "2025-05-07T22:03:58.772674Z",
     "start_time": "2025-05-07T22:03:58.769495Z"
    }
   },
   "cell_type": "code",
   "source": [
    "softmaxxed = softmax(logits,\n",
    "                     axis=2)  # We use axis=2 so that the softmax is applied to each token's scores in turns and not all the values together"
   ],
   "id": "486a0d9d3f70232d",
   "outputs": [],
   "execution_count": 9
  },
  {
   "metadata": {
    "ExecuteTime": {
     "end_time": "2025-05-07T22:03:58.792009Z",
     "start_time": "2025-05-07T22:03:58.789264Z"
    }
   },
   "cell_type": "code",
   "source": "softmaxxed",
   "id": "c14a4980dbb76d1f",
   "outputs": [
    {
     "data": {
      "text/plain": [
       "array([[[5.25928044e-04, 6.18996797e-03, 6.68290886e-04, ...,\n",
       "         8.87154794e-09, 8.95813024e-09, 1.19121652e-03],\n",
       "        [2.23441675e-05, 8.64875346e-06, 1.17550644e-06, ...,\n",
       "         1.54672863e-09, 5.26969927e-07, 1.13134070e-06],\n",
       "        [3.83760307e-05, 1.00793468e-05, 2.06887151e-07, ...,\n",
       "         1.37977985e-08, 4.95823372e-07, 8.98711107e-07],\n",
       "        ...,\n",
       "        [7.36748660e-03, 3.29770701e-05, 1.89666153e-07, ...,\n",
       "         2.76013945e-09, 1.83644904e-08, 5.74342666e-05],\n",
       "        [1.49164032e-06, 2.61427630e-07, 3.33100147e-09, ...,\n",
       "         1.93665861e-09, 4.55775029e-10, 9.36747284e-08],\n",
       "        [1.41671011e-02, 1.28783344e-04, 2.73045202e-06, ...,\n",
       "         1.13483822e-09, 1.00380575e-08, 7.92555453e-04]]],\n",
       "      shape=(1, 14, 50257), dtype=float32)"
      ]
     },
     "execution_count": 10,
     "metadata": {},
     "output_type": "execute_result"
    }
   ],
   "execution_count": 10
  },
  {
   "metadata": {},
   "cell_type": "markdown",
   "source": "So what is the probability that `distilgpt2` gives to a text sequence beginning with \"It\"? Well, we need the token IDs from our sequence to figure this out. We can remove the first one as it is the special token `<|endoftext|>`.",
   "id": "34e33870d0a8914a"
  },
  {
   "metadata": {
    "ExecuteTime": {
     "end_time": "2025-05-07T22:03:58.813168Z",
     "start_time": "2025-05-07T22:03:58.810264Z"
    }
   },
   "cell_type": "code",
   "source": [
    "token_ids = tokenized['input_ids'][0]\n",
    "token_ids = token_ids[1:]\n",
    "token_ids"
   ],
   "id": "d3e109c8c1668b89",
   "outputs": [
    {
     "data": {
      "text/plain": [
       "tensor([ 632,  373,  262, 1266,  286, 1661,   11,  340,  373,  262, 5290,  286,\n",
       "        1661])"
      ]
     },
     "execution_count": 11,
     "metadata": {},
     "output_type": "execute_result"
    }
   ],
   "execution_count": 11
  },
  {
   "metadata": {
    "ExecuteTime": {
     "end_time": "2025-05-07T22:03:58.838092Z",
     "start_time": "2025-05-07T22:03:58.835614Z"
    }
   },
   "cell_type": "code",
   "source": "tokenizer(\"It\", return_tensors='pt')",
   "id": "2373224c3d99c88",
   "outputs": [
    {
     "data": {
      "text/plain": [
       "{'input_ids': tensor([[1026]]), 'attention_mask': tensor([[1]])}"
      ]
     },
     "execution_count": 12,
     "metadata": {},
     "output_type": "execute_result"
    }
   ],
   "execution_count": 12
  },
  {
   "metadata": {
    "ExecuteTime": {
     "end_time": "2025-05-07T22:03:58.859176Z",
     "start_time": "2025-05-07T22:03:58.855872Z"
    }
   },
   "cell_type": "code",
   "source": "tokenizer(\" It\", return_tensors='pt')",
   "id": "cd8b988e3009d8c4",
   "outputs": [
    {
     "data": {
      "text/plain": [
       "{'input_ids': tensor([[632]]), 'attention_mask': tensor([[1]])}"
      ]
     },
     "execution_count": 13,
     "metadata": {},
     "output_type": "execute_result"
    }
   ],
   "execution_count": 13
  },
  {
   "metadata": {
    "ExecuteTime": {
     "end_time": "2025-05-07T22:03:58.885380Z",
     "start_time": "2025-05-07T22:03:58.883554Z"
    }
   },
   "cell_type": "code",
   "source": "len(token_ids), token_ids.shape",
   "id": "ea2a0bb7d4d48787",
   "outputs": [
    {
     "data": {
      "text/plain": [
       "(13, torch.Size([13]))"
      ]
     },
     "execution_count": 14,
     "metadata": {},
     "output_type": "execute_result"
    }
   ],
   "execution_count": 14
  },
  {
   "metadata": {},
   "cell_type": "markdown",
   "source": "\"It\" has token ID 632. To get the probability of that after the first token (which is the special beginning of sequence token), we can index into `softmaxxed`. We would set the first coordinate as 0 (as it's the first sequence of only one), the second coordinate as 0 (as it's after the first token) and then the third coordinate as 632 as that is the token ID for \"It\".",
   "id": "9df2b0481957af9d"
  },
  {
   "metadata": {
    "ExecuteTime": {
     "end_time": "2025-05-07T22:03:58.906171Z",
     "start_time": "2025-05-07T22:03:58.903497Z"
    }
   },
   "cell_type": "code",
   "source": "softmaxxed[0, 0, 632]",
   "id": "e3867caf9455ca40",
   "outputs": [
    {
     "data": {
      "text/plain": [
       "np.float32(0.0042890646)"
      ]
     },
     "execution_count": 15,
     "metadata": {},
     "output_type": "execute_result"
    }
   ],
   "execution_count": 15
  },
  {
   "metadata": {},
   "cell_type": "markdown",
   "source": "A probability of 0.004, which is actually pretty high.",
   "id": "2c5dc0921ed8b543"
  },
  {
   "metadata": {
    "ExecuteTime": {
     "end_time": "2025-05-07T22:03:58.930446Z",
     "start_time": "2025-05-07T22:03:58.928008Z"
    }
   },
   "cell_type": "code",
   "source": "softmaxxed[:, :, 632].shape",
   "id": "a20452c3c775e029",
   "outputs": [
    {
     "data": {
      "text/plain": [
       "(1, 14)"
      ]
     },
     "execution_count": 16,
     "metadata": {},
     "output_type": "execute_result"
    }
   ],
   "execution_count": 16
  },
  {
   "metadata": {
    "ExecuteTime": {
     "end_time": "2025-05-07T22:03:58.950427Z",
     "start_time": "2025-05-07T22:03:58.948499Z"
    }
   },
   "cell_type": "code",
   "source": "tokens = tokenizer.convert_ids_to_tokens(token_ids)",
   "id": "e81606a5d9597f18",
   "outputs": [],
   "execution_count": 17
  },
  {
   "metadata": {
    "ExecuteTime": {
     "end_time": "2025-05-07T22:03:59.150821Z",
     "start_time": "2025-05-07T22:03:58.967110Z"
    }
   },
   "cell_type": "code",
   "source": [
    "sns.heatmap(softmaxxed[:, 1:, :][:, :, token_ids].reshape(13, -1),\n",
    "            xticklabels=tokens, yticklabels=tokens)\n",
    "plt.show()"
   ],
   "id": "9f205da9bc6cc1f8",
   "outputs": [
    {
     "data": {
      "text/plain": [
       "<Figure size 640x480 with 2 Axes>"
      ],
      "image/png": "[encoded data removed]"
     },
     "metadata": {},
     "output_type": "display_data"
    }
   ],
   "execution_count": 18
  },
  {
   "metadata": {
    "ExecuteTime": {
     "end_time": "2025-05-07T22:03:59.188697Z",
     "start_time": "2025-05-07T22:03:59.174812Z"
    }
   },
   "cell_type": "code",
   "source": "softmaxxed[0, 0, tokenizer.vocab['Ġmismatch']]",
   "id": "f9243bc1f5fd1914",
   "outputs": [
    {
     "data": {
      "text/plain": [
       "np.float32(4.88435e-09)"
      ]
     },
     "execution_count": 19,
     "metadata": {},
     "output_type": "execute_result"
    }
   ],
   "execution_count": 19
  },
  {
   "metadata": {},
   "cell_type": "markdown",
   "source": "What's the probability starting with a rare word such as 'mismatch'? Note that we use the `Ġ` character to denote that the token is at the beginning of a word.",
   "id": "49579919df35c31b"
  },
  {
   "metadata": {
    "ExecuteTime": {
     "end_time": "2025-05-07T22:03:59.244391Z",
     "start_time": "2025-05-07T22:03:59.231612Z"
    }
   },
   "cell_type": "code",
   "source": [
    "print(\n",
    "    f\"Probabilities of\\n\\t It:{softmaxxed[0, 0, 632]:.4f}\\n\\t mismatch:{softmaxxed[0, 0, tokenizer.vocab['Ġmismatch']]:.3e}\")"
   ],
   "id": "d70ba24212a572d6",
   "outputs": [
    {
     "name": "stdout",
     "output_type": "stream",
     "text": [
      "Probabilities of\n",
      "\t It:0.0043\n",
      "\t mismatch:4.884e-09\n"
     ]
    }
   ],
   "execution_count": 20
  },
  {
   "metadata": {},
   "cell_type": "markdown",
   "source": [
    "As expected, that is much lower.\n",
    "\n",
    "Practically, we often work with log probabilities as there are numerical problems when working with such tiny numbers. To calculate the probability of a sequence of tokens, we'd need to multiply together many probabilities which creates a tiny number. If we log-transform the probabilities, multiplication becomes addition and we can add the log probabilities together.\n",
    "\n",
    "We'll use log base 2 for this. Let's get the log probability of \"It\" starting the sequence:"
   ],
   "id": "a378a936e21b0a27"
  },
  {
   "metadata": {
    "ExecuteTime": {
     "end_time": "2025-05-07T22:03:59.270650Z",
     "start_time": "2025-05-07T22:03:59.266824Z"
    }
   },
   "cell_type": "code",
   "source": "log(softmaxxed[0, 0, 632], 2)",
   "id": "5fb5600fcf0d3e91",
   "outputs": [
    {
     "data": {
      "text/plain": [
       "-7.865121253967267"
      ]
     },
     "execution_count": 21,
     "metadata": {},
     "output_type": "execute_result"
    }
   ],
   "execution_count": 21
  },
  {
   "metadata": {
    "ExecuteTime": {
     "end_time": "2025-05-07T22:03:59.301181Z",
     "start_time": "2025-05-07T22:03:59.298454Z"
    }
   },
   "cell_type": "code",
   "source": [
    "print(\n",
    "    f\"Soft max probability of 'It': {softmaxxed[0, 0, 632]:.4f}, vs log probability: {log(softmaxxed[0, 0, 632], 2):.4f}\")"
   ],
   "id": "fcf3491c9ccb8769",
   "outputs": [
    {
     "name": "stdout",
     "output_type": "stream",
     "text": [
      "Soft max probability of 'It': 0.0043, vs log probability: -7.8651\n"
     ]
    }
   ],
   "execution_count": 22
  },
  {
   "metadata": {},
   "cell_type": "markdown",
   "source": "Now we can get the probabilities out, can you calculate the log probability of the whole sequence? This involves adding up all the log probabilities, i.e. \"It\" (token ID=632) being after the first token, \"was\" (token ID=373) being after the second token, etc. The token IDs are available in `token_ids` and the [enumerate](https://docs.python.org/3/library/functions.html#enumerate) function may be helpful.",
   "id": "cc208fd6271ce1cd"
  },
  {
   "metadata": {
    "ExecuteTime": {
     "end_time": "2025-05-07T22:03:59.331156Z",
     "start_time": "2025-05-07T22:03:59.327993Z"
    }
   },
   "cell_type": "code",
   "source": [
    "def get_log_probabilities(token_ids_, softmaxxed_):\n",
    "    \"\"\"\n",
    "    Calculate the log probabilities of a sequence of token IDs.\n",
    "    Args:\n",
    "        token_ids_ (list): List of token IDs.\n",
    "        softmaxxed_ (numpy.ndarray): Softmax probabilities for the tokens.\n",
    "        \n",
    "    Returns:\n",
    "        float: Log probability of the sequence.\n",
    "    \"\"\"\n",
    "    return sum(log(softmaxxed_[0, i, token_id], 2) for i, token_id in enumerate(token_ids_))\n",
    "\n",
    "log_prob = get_log_probabilities(token_ids, softmaxxed)\n",
    "log_prob"
   ],
   "id": "60f6c0e4dbe92acd",
   "outputs": [
    {
     "data": {
      "text/plain": [
       "-44.53611226994318"
      ]
     },
     "execution_count": 23,
     "metadata": {},
     "output_type": "execute_result"
    }
   ],
   "execution_count": 23
  },
  {
   "metadata": {},
   "cell_type": "markdown",
   "source": [
    "You should have added up 13 log probabilities to get a sum of approximately `-44.5360`. We could use this to calculate the probability of the whole sequence, but we typically think about the probability averaged over the tokens. This makes it easier to compare different sequences that may have different lengths.\n",
    "\n",
    "Divide the sum of log probabilities by the number of predicted tokens (13) to get the average log probability per token"
   ],
   "id": "c5e842b106d9bf03"
  },
  {
   "metadata": {
    "ExecuteTime": {
     "end_time": "2025-05-07T22:03:59.354508Z",
     "start_time": "2025-05-07T22:03:59.351593Z"
    }
   },
   "cell_type": "code",
   "source": "log_prob/len(token_ids)",
   "id": "62368092a5191700",
   "outputs": [
    {
     "data": {
      "text/plain": [
       "-3.4258547899956295"
      ]
     },
     "execution_count": 24,
     "metadata": {},
     "output_type": "execute_result"
    }
   ],
   "execution_count": 24
  },
  {
   "metadata": {},
   "cell_type": "markdown",
   "source": "That should be approximately `-3.426`. Take that out of log space by calculating two to the power of that number.",
   "id": "f31b95ed8d86d3fb"
  },
  {
   "metadata": {
    "ExecuteTime": {
     "end_time": "2025-05-07T22:03:59.399298Z",
     "start_time": "2025-05-07T22:03:59.395430Z"
    }
   },
   "cell_type": "code",
   "source": [
    "def perplexity(token_ids_, softmaxxed_):\n",
    "    \"\"\"\n",
    "    Calculate the perplexity of a sequence of token IDs.\n",
    "    Args:\n",
    "        token_ids_ (list): List of token IDs.\n",
    "        softmaxxed_ (numpy.ndarray): Softmax probabilities for the tokens.\n",
    "        \n",
    "    Returns:\n",
    "        float: Perplexity of the sequence.\n",
    "    \"\"\"\n",
    "    return 2 ** (get_log_probabilities(token_ids_, softmaxxed_) / len(token_ids_))\n",
    "text_1_perplexity = perplexity(token_ids, softmaxxed)\n",
    "perplexity(token_ids, softmaxxed)"
   ],
   "id": "1a968a7192ebbffc",
   "outputs": [
    {
     "data": {
      "text/plain": [
       "0.09304969360552243"
      ]
     },
     "execution_count": 25,
     "metadata": {},
     "output_type": "execute_result"
    }
   ],
   "execution_count": 25
  },
  {
   "metadata": {},
   "cell_type": "markdown",
   "source": [
    "This should be roughly `0.0931`. That's the average token probability of `distilgpt2` generating our input sequence. It's actually pretty high for a probability.\n",
    "\n",
    "Dealing with these tiny numbers is tricky, so it is normal to take the reciprocal (1 over the value) to get the perplexity. Let's do that as the final step."
   ],
   "id": "d533377f0a7fecca"
  },
  {
   "metadata": {
    "ExecuteTime": {
     "end_time": "2025-05-07T22:03:59.435902Z",
     "start_time": "2025-05-07T22:03:59.431083Z"
    }
   },
   "cell_type": "code",
   "source": "1/perplexity(token_ids, softmaxxed)",
   "id": "e67e785337175ea",
   "outputs": [
    {
     "data": {
      "text/plain": [
       "10.746945650776983"
      ]
     },
     "execution_count": 26,
     "metadata": {},
     "output_type": "execute_result"
    }
   ],
   "execution_count": 26
  },
  {
   "metadata": {},
   "cell_type": "markdown",
   "source": [
    "You should have a perplexity of roughly `10.7469`. Lower perplexity means that the language model was more likely to generate that text and was less \"surprised\" by the text. If there were any out-of-place tokens, the probability would be much lower, and hence the perplexity would be much higher.\n",
    "\n",
    "Congratulations, you've worked through calculating one of the main metrics for examining language models. Typically this is done of very large samples of text to get a more accurate probability that can be used to compare language models."
   ],
   "id": "347d2c9166d16a97"
  },
  {
   "metadata": {},
   "cell_type": "markdown",
   "source": [
    "# Extra\n",
    "\n",
    "- Try recalculating perplexity for a span of text composed of random words (e.g. `highway dentist coffee surf table`). Does `distilgpt2` give it a higher or lower perplexity than our original input text? And what about perplexity?"
   ],
   "id": "359445fa9e0df2a0"
  },
  {
   "metadata": {
    "ExecuteTime": {
     "end_time": "2025-05-07T22:04:17.609629Z",
     "start_time": "2025-05-07T22:04:17.587232Z"
    }
   },
   "cell_type": "code",
   "source": [
    "text = \"highway dentist coffee surf table\"\n",
    "text_with_bos = f\"{bos_token} {text}\"\n",
    "text_tokenized = tokenizer(text_with_bos, return_tensors='pt')\n",
    "tokenized_output = model(**text_tokenized)\n",
    "softmaxxed = softmax(tokenized_output.logits.detach().numpy(), axis=2)\n",
    "token_ids = text_tokenized['input_ids'][0]\n",
    "token_ids = token_ids[1:]\n",
    "text_perplexity = perplexity(token_ids, softmaxxed)\n",
    "text_perplexity"
   ],
   "id": "e898bdeee1ebeab7",
   "outputs": [
    {
     "data": {
      "text/plain": [
       "3.8424609906796035e-06"
      ]
     },
     "execution_count": 29,
     "metadata": {},
     "output_type": "execute_result"
    }
   ],
   "execution_count": 29
  },
  {
   "metadata": {
    "ExecuteTime": {
     "end_time": "2025-05-07T22:05:01.469125Z",
     "start_time": "2025-05-07T22:05:01.466801Z"
    }
   },
   "cell_type": "code",
   "source": "print(f\"Perplexity of random text: {text_perplexity}\\nvs Perplexity of real text: {text_1_perplexity}\")",
   "id": "c64db446f224f81",
   "outputs": [
    {
     "name": "stdout",
     "output_type": "stream",
     "text": [
      "Perplexity of random text: 3.8424609906796035e-06\n",
      "vs Perplexity of real text: 0.09304969360552243\n"
     ]
    }
   ],
   "execution_count": 31
  },
  {
   "metadata": {
    "ExecuteTime": {
     "end_time": "2025-05-07T22:05:21.047243Z",
     "start_time": "2025-05-07T22:05:21.044525Z"
    }
   },
   "cell_type": "code",
   "source": "print(f\"Inverse of perplexity of random text: {1/text_perplexity}\\nvs Inverse of perplexity of real text: {1/text_1_perplexity}\")",
   "id": "db5f254e5b6c9d09",
   "outputs": [
    {
     "name": "stdout",
     "output_type": "stream",
     "text": [
      "Inverse of perplexity of random text: 260249.87694751672\n",
      "vs Inverse of perplexity of real text: 10.746945650776983\n"
     ]
    }
   ],
   "execution_count": 32
  }
 ],
 "metadata": {
  "kernelspec": {
   "display_name": "Python 3",
   "language": "python",
   "name": "python3"
  },
  "language_info": {
   "codemirror_mode": {
    "name": "ipython",
    "version": 2
   },
   "file_extension": ".py",
   "mimetype": "text/x-python",
   "name": "python",
   "nbconvert_exporter": "python",
   "pygments_lexer": "ipython2",
   "version": "2.7.6"
  }
 },
 "nbformat": 4,
 "nbformat_minor": 5
}
