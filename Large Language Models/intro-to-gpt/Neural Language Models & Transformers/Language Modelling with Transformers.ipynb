{
 "cells": [
  {
   "metadata": {},
   "cell_type": "markdown",
   "source": "# Language Modelling with Transformers",
   "id": "39e19800d458b781"
  },
  {
   "cell_type": "code",
   "id": "initial_id",
   "metadata": {
    "collapsed": true,
    "ExecuteTime": {
     "end_time": "2025-05-07T17:56:05.961998Z",
     "start_time": "2025-05-07T17:56:03.641378Z"
    }
   },
   "source": [
    "from transformers import AutoTokenizer, AutoModelForCausalLM\n",
    "from scipy.special import softmax\n",
    "import matplotlib.pyplot as plt\n",
    "import seaborn as sns\n",
    "import numpy as np\n",
    "\n",
    "tokenizer = AutoTokenizer.from_pretrained('distilgpt2')"
   ],
   "outputs": [],
   "execution_count": 1
  },
  {
   "metadata": {},
   "cell_type": "markdown",
   "source": "We're going to be interested in predicting the next subword token. How many possible subword tokens are there?",
   "id": "8fd5c368646ef935"
  },
  {
   "metadata": {
    "ExecuteTime": {
     "end_time": "2025-05-07T17:56:06.095642Z",
     "start_time": "2025-05-07T17:56:06.079322Z"
    }
   },
   "cell_type": "code",
   "source": "len(tokenizer.vocab), len(tokenizer)  # or we could just use len(tokenizer)",
   "id": "ff4d4ed1690a69af",
   "outputs": [
    {
     "data": {
      "text/plain": [
       "(50257, 50257)"
      ]
     },
     "execution_count": 2,
     "metadata": {},
     "output_type": "execute_result"
    }
   ],
   "execution_count": 2
  },
  {
   "metadata": {},
   "cell_type": "markdown",
   "source": [
    "When tokenizing, we'll use the tokenizer with the `return_tensors='pt'` parameter. This puts the data into the format of a [PyTorch](https://pytorch.org) tensor which is used as the input for a Transformer model. PyTorch is a commonly used library for deep learning and HuggingFace builds upon it. We won't use PyTorch directly.\n",
    "\n",
    "Let's tokenize: `\"A horse! a horse! my kingdom for a\"`"
   ],
   "id": "4cfef61235ece858"
  },
  {
   "metadata": {
    "ExecuteTime": {
     "end_time": "2025-05-07T17:56:06.140398Z",
     "start_time": "2025-05-07T17:56:06.125295Z"
    }
   },
   "cell_type": "code",
   "source": [
    "tokenized = tokenizer('A horse! a horse! my kingdom for a', return_tensors='pt')\n",
    "tokenized"
   ],
   "id": "2c075f8ff5cebd19",
   "outputs": [
    {
     "data": {
      "text/plain": [
       "{'input_ids': tensor([[   32,  8223,     0,   257,  8223,     0,   616, 13239,   329,   257]]), 'attention_mask': tensor([[1, 1, 1, 1, 1, 1, 1, 1, 1, 1]])}"
      ]
     },
     "execution_count": 3,
     "metadata": {},
     "output_type": "execute_result"
    }
   ],
   "execution_count": 3
  },
  {
   "metadata": {
    "ExecuteTime": {
     "end_time": "2025-05-07T17:56:06.152948Z",
     "start_time": "2025-05-07T17:56:06.150264Z"
    }
   },
   "cell_type": "code",
   "source": "len(tokenized['input_ids'][0])",
   "id": "43257a978d90bd06",
   "outputs": [
    {
     "data": {
      "text/plain": [
       "10"
      ]
     },
     "execution_count": 4,
     "metadata": {},
     "output_type": "execute_result"
    }
   ],
   "execution_count": 4
  },
  {
   "metadata": {},
   "cell_type": "markdown",
   "source": [
    "Now we need to load up the full Transformer model. We need to use the same one that matches our tokenizer (`distilgpt2`). Tokenizers and models must match.\n",
    "\n",
    "We'll load it using `AutoModelForCausalLM`. CausalLM is causal language modelling, or predicting the next token. You can also load models for other purposes like document classification."
   ],
   "id": "27e5894ba867b430"
  },
  {
   "metadata": {
    "ExecuteTime": {
     "end_time": "2025-05-07T17:56:09.082179Z",
     "start_time": "2025-05-07T17:56:06.169452Z"
    }
   },
   "cell_type": "code",
   "source": "model = AutoModelForCausalLM.from_pretrained('distilgpt2')",
   "id": "8ec650856cee457f",
   "outputs": [],
   "execution_count": 5
  },
  {
   "metadata": {},
   "cell_type": "markdown",
   "source": "Now let's pass the tokenized text into the Transformer model. We could do this with `model(input_ids=tokenized['input_ids'], attention_mask=tokenized['attention_mask'])` but a tidied shorthand is:",
   "id": "2590afed0c86a3c"
  },
  {
   "metadata": {
    "ExecuteTime": {
     "end_time": "2025-05-07T17:56:09.595993Z",
     "start_time": "2025-05-07T17:56:09.093312Z"
    }
   },
   "cell_type": "code",
   "source": "output = model(**tokenized)",
   "id": "e1a04e990a9c4cb6",
   "outputs": [],
   "execution_count": 6
  },
  {
   "metadata": {},
   "cell_type": "markdown",
   "source": "For causal language modelling, what we care about is the predictions of the next token. This is captured by the `logits` which are the scores for each of the possible tokens.",
   "id": "796c0188d0edcd0e"
  },
  {
   "metadata": {
    "ExecuteTime": {
     "end_time": "2025-05-07T17:56:09.627329Z",
     "start_time": "2025-05-07T17:56:09.623592Z"
    }
   },
   "cell_type": "code",
   "source": "output.logits",
   "id": "946aeefebce14d39",
   "outputs": [
    {
     "data": {
      "text/plain": [
       "tensor([[[-31.1439, -29.1283, -30.8418,  ..., -42.3130, -42.1440, -31.0009],\n",
       "         [-59.5865, -60.5802, -64.7680,  ..., -70.8865, -65.8932, -63.0499],\n",
       "         [-62.7691, -63.7442, -64.5699,  ..., -75.1834, -72.3489, -60.4002],\n",
       "         ...,\n",
       "         [-51.0393, -59.1055, -63.8448,  ..., -68.9364, -65.0198, -59.6002],\n",
       "         [-56.1765, -60.0482, -63.8827,  ..., -66.6802, -65.5936, -61.3876],\n",
       "         [-63.7612, -64.7149, -67.7764,  ..., -75.3739, -69.5853, -65.8061]]],\n",
       "       grad_fn=<UnsafeViewBackward0>)"
      ]
     },
     "execution_count": 7,
     "metadata": {},
     "output_type": "execute_result"
    }
   ],
   "execution_count": 7
  },
  {
   "metadata": {},
   "cell_type": "markdown",
   "source": "This is a PyTorch tensor which is a grid of numbers. In this case, it's a 3D grid. You can see the dimensions of it using `.shape` as below:",
   "id": "2f46b5b27ccb90f7"
  },
  {
   "metadata": {
    "ExecuteTime": {
     "end_time": "2025-05-07T17:56:09.662816Z",
     "start_time": "2025-05-07T17:56:09.659997Z"
    }
   },
   "cell_type": "code",
   "source": "output.logits.shape",
   "id": "75ec50e583041e5",
   "outputs": [
    {
     "data": {
      "text/plain": [
       "torch.Size([1, 10, 50257])"
      ]
     },
     "execution_count": 8,
     "metadata": {},
     "output_type": "execute_result"
    }
   ],
   "execution_count": 8
  },
  {
   "metadata": {},
   "cell_type": "markdown",
   "source": [
    "Where do the different numbers come from?\n",
    "\n",
    "Well we only put in one sequence of ten words, so that explains the `[1, 10,...]`. The `50257` is the size of the vocabulary of the tokenizer:"
   ],
   "id": "9efe353db7ff027c"
  },
  {
   "metadata": {
    "ExecuteTime": {
     "end_time": "2025-05-07T17:56:09.691892Z",
     "start_time": "2025-05-07T17:56:09.687162Z"
    }
   },
   "cell_type": "code",
   "source": "len(tokenizer)",
   "id": "566ad9827bea3d9d",
   "outputs": [
    {
     "data": {
      "text/plain": [
       "50257"
      ]
     },
     "execution_count": 9,
     "metadata": {},
     "output_type": "execute_result"
    }
   ],
   "execution_count": 9
  },
  {
   "metadata": {},
   "cell_type": "markdown",
   "source": "That means we can get the score that the Transformer has given to token `horse` after the final token in the sequence with. First, what is the token index for horse? Recall that as it is starting a new word, there is the special character of `Ġ`.",
   "id": "7736b0d4b7ad21ad"
  },
  {
   "metadata": {
    "ExecuteTime": {
     "end_time": "2025-05-07T17:56:09.723007Z",
     "start_time": "2025-05-07T17:56:09.710744Z"
    }
   },
   "cell_type": "code",
   "source": "tokenizer.vocab['Ġhorse']",
   "id": "70345b366992aa44",
   "outputs": [
    {
     "data": {
      "text/plain": [
       "8223"
      ]
     },
     "execution_count": 10,
     "metadata": {},
     "output_type": "execute_result"
    }
   ],
   "execution_count": 10
  },
  {
   "metadata": {},
   "cell_type": "markdown",
   "source": [
    "Then to get the score from the first sequence (0), after the final token (-1) and for the token `horse` (8223), we would access it with:\n",
    "\n",
    "This expression retrieves the logit (raw, unnormalized score) assigned by the Transformer model to the token with index `8223` (which corresponds to the token `'Ġhorse'`) after processing the input sequence.\n",
    "\n",
    "- `output.logits` is a 3D tensor of shape `[batch_size, sequence_length, vocab_size]`.\n",
    "- `[0, -1, 8223]` means:\n",
    "  - `0`: the first (and only) sequence in the batch,\n",
    "  - `-1`: the last position in the sequence (i.e., after the final input token),\n",
    "  - `8223`: the vocabulary index for the token `'Ġhorse'`.\n",
    "\n",
    "So, `output.logits[0, -1, 8223]` gives the model's score for predicting `'Ġhorse'` as the next token after the input sequence."
   ],
   "id": "5094e88ddd618e99"
  },
  {
   "metadata": {
    "ExecuteTime": {
     "end_time": "2025-05-07T17:56:09.748314Z",
     "start_time": "2025-05-07T17:56:09.745300Z"
    }
   },
   "cell_type": "code",
   "source": "output.logits[0, -1, 8223]",
   "id": "95e13105ee351705",
   "outputs": [
    {
     "data": {
      "text/plain": [
       "tensor(-59.6236, grad_fn=<SelectBackward0>)"
      ]
     },
     "execution_count": 11,
     "metadata": {},
     "output_type": "execute_result"
    }
   ],
   "execution_count": 11
  },
  {
   "metadata": {},
   "cell_type": "markdown",
   "source": [
    "Hmm, the logits are not nicely probabilities so are difficult to interpret. We'll have to do a little work to make them interpretable.\n",
    "\n",
    "Let's get all the scores out for predictions of tokens after our input (so using the index of -1 to get the final logits)."
   ],
   "id": "354428352a1a5138"
  },
  {
   "metadata": {
    "ExecuteTime": {
     "end_time": "2025-05-07T17:56:09.776309Z",
     "start_time": "2025-05-07T17:56:09.772273Z"
    }
   },
   "cell_type": "code",
   "source": [
    "next_token_scores = output.logits[0, -1, :].tolist()\n",
    "len(next_token_scores)"
   ],
   "id": "76c3a9035c4813d8",
   "outputs": [
    {
     "data": {
      "text/plain": [
       "50257"
      ]
     },
     "execution_count": 12,
     "metadata": {},
     "output_type": "execute_result"
    }
   ],
   "execution_count": 12
  },
  {
   "metadata": {},
   "cell_type": "markdown",
   "source": "As we already saw, they are not easy to interpret.",
   "id": "aec9dffbb81a8b3d"
  },
  {
   "metadata": {
    "ExecuteTime": {
     "end_time": "2025-05-07T17:56:09.798782Z",
     "start_time": "2025-05-07T17:56:09.795895Z"
    }
   },
   "cell_type": "code",
   "source": "next_token_scores[:5]",
   "id": "4a0abf8e16fc6b25",
   "outputs": [
    {
     "data": {
      "text/plain": [
       "[-63.76117706298828,\n",
       " -64.71490478515625,\n",
       " -67.77635955810547,\n",
       " -67.36964416503906,\n",
       " -67.9713134765625]"
      ]
     },
     "execution_count": 13,
     "metadata": {},
     "output_type": "execute_result"
    }
   ],
   "execution_count": 13
  },
  {
   "metadata": {},
   "cell_type": "markdown",
   "source": [
    "So we shall use a softmax function. It takes a list of numbers, applies the equation below to them (using lots of exponentials) and returns a vector where all the values are between 0 and 1 and they all add up to 1.\n",
    "\n",
    "$ softmax(z) = \\frac{e^{z_{i}}}{\\sum_{j=1}^K e^{z_{j}}} \\ \\ \\ for\\ i=1,2,\\dots,K $\n",
    "\n",
    "There is a [function](https://docs.scipy.org/doc/scipy/reference/generated/scipy.special.softmax.html) in the useful [scipy package](https://scipy.org/) that does this for us.\n",
    "\n",
    "Apply the `softmax` function to `next_token_scores` and output the first five values. You should see that they are between 0 and 1 and rather small."
   ],
   "id": "61ef014fb4cc6615"
  },
  {
   "metadata": {
    "ExecuteTime": {
     "end_time": "2025-05-07T17:56:09.828572Z",
     "start_time": "2025-05-07T17:56:09.823675Z"
    }
   },
   "cell_type": "code",
   "source": "softmax(next_token_scores)",
   "id": "e1c2ae3ec9df5eb3",
   "outputs": [
    {
     "data": {
      "text/plain": [
       "array([9.37577501e-05, 3.61250528e-05, 1.69135813e-06, ...,\n",
       "       8.48538825e-10, 2.77092127e-07, 1.21316209e-05], shape=(50257,))"
      ]
     },
     "execution_count": 14,
     "metadata": {},
     "output_type": "execute_result"
    }
   ],
   "execution_count": 14
  },
  {
   "metadata": {
    "ExecuteTime": {
     "end_time": "2025-05-07T17:56:10.133826Z",
     "start_time": "2025-05-07T17:56:09.856228Z"
    }
   },
   "cell_type": "code",
   "source": [
    "sns.kdeplot(softmax(next_token_scores))\n",
    "plt.xscale('log')\n",
    "plt.ylim(0, 1)\n",
    "plt.yscale('linear')\n",
    "plt.show()"
   ],
   "id": "cf02965bac8fefa6",
   "outputs": [
    {
     "data": {
      "text/plain": [
       "<Figure size 640x480 with 1 Axes>"
      ],
      "image/png": "[encoded data removed]"
     },
     "metadata": {},
     "output_type": "display_data"
    }
   ],
   "execution_count": 15
  },
  {
   "metadata": {},
   "cell_type": "markdown",
   "source": "The probabilities should also add up to 1 (or very close due to little numerical differences).",
   "id": "63d40bdad5c208c5"
  },
  {
   "metadata": {
    "ExecuteTime": {
     "end_time": "2025-05-07T17:56:10.159504Z",
     "start_time": "2025-05-07T17:56:10.153475Z"
    }
   },
   "cell_type": "code",
   "source": "sum(softmax(next_token_scores))",
   "id": "50fb5c603516f847",
   "outputs": [
    {
     "data": {
      "text/plain": [
       "np.float64(1.0000000000000095)"
      ]
     },
     "execution_count": 16,
     "metadata": {},
     "output_type": "execute_result"
    }
   ],
   "execution_count": 16
  },
  {
   "metadata": {},
   "cell_type": "markdown",
   "source": "Let's see what the probability of horse is now (token id = 8223)",
   "id": "f9af091dc7bd08a7"
  },
  {
   "metadata": {
    "ExecuteTime": {
     "end_time": "2025-05-07T17:56:10.193072Z",
     "start_time": "2025-05-07T17:56:10.179721Z"
    }
   },
   "cell_type": "code",
   "source": "softmax(next_token_scores)[tokenizer.vocab['Ġhorse']]",
   "id": "9d9fec0a0efbf5d0",
   "outputs": [
    {
     "data": {
      "text/plain": [
       "np.float64(0.005873710318478227)"
      ]
     },
     "execution_count": 17,
     "metadata": {},
     "output_type": "execute_result"
    }
   ],
   "execution_count": 17
  },
  {
   "metadata": {
    "ExecuteTime": {
     "end_time": "2025-05-07T17:56:10.222955Z",
     "start_time": "2025-05-07T17:56:10.218410Z"
    }
   },
   "cell_type": "code",
   "source": "softmax(next_token_scores)[8223]",
   "id": "567a19b3389bb7d6",
   "outputs": [
    {
     "data": {
      "text/plain": [
       "np.float64(0.005873710318478227)"
      ]
     },
     "execution_count": 18,
     "metadata": {},
     "output_type": "execute_result"
    }
   ],
   "execution_count": 18
  },
  {
   "metadata": {},
   "cell_type": "markdown",
   "source": [
    "You should find that it has a probability of approximately `0.006`.\n",
    "\n",
    "If we didn't already know that 8223 is horse, we could decode it with the tokenizer."
   ],
   "id": "d47f3744335526dc"
  },
  {
   "metadata": {
    "ExecuteTime": {
     "end_time": "2025-05-07T17:56:10.245667Z",
     "start_time": "2025-05-07T17:56:10.242720Z"
    }
   },
   "cell_type": "code",
   "source": "tokenizer.decode(8223)",
   "id": "37cbfad532b2fc96",
   "outputs": [
    {
     "data": {
      "text/plain": [
       "' horse'"
      ]
     },
     "execution_count": 19,
     "metadata": {},
     "output_type": "execute_result"
    }
   ],
   "execution_count": 19
  },
  {
   "metadata": {},
   "cell_type": "markdown",
   "source": "Now, the final task is going through the `next_token_probs` and finding which one has the highest probability and figuring out the corresponding token using `tokenizer.decode`.",
   "id": "4fbe18b7ef9ad3df"
  },
  {
   "metadata": {
    "ExecuteTime": {
     "end_time": "2025-05-07T17:56:52.738272Z",
     "start_time": "2025-05-07T17:56:52.733198Z"
    }
   },
   "cell_type": "code",
   "source": [
    "next_token_probs = softmax(next_token_scores)\n",
    "max_index = np.argmax(next_token_probs)\n",
    "print(f\"Max index: {max_index}, Token: {tokenizer.decode(max_index)}, Probability: {next_token_probs[max_index]}\")"
   ],
   "id": "123301f7f687d08b",
   "outputs": [
    {
     "name": "stdout",
     "output_type": "stream",
     "text": [
      "Max index: 890, Token:  long, Probability: 0.3426657343488758\n"
     ]
    }
   ],
   "execution_count": 21
  },
  {
   "metadata": {},
   "cell_type": "markdown",
   "source": "You should find that `' long'` has the highest probability (`≈ 0.3427`)",
   "id": "b794d497d33e189c"
  }
 ],
 "metadata": {
  "kernelspec": {
   "display_name": "Python 3",
   "language": "python",
   "name": "python3"
  },
  "language_info": {
   "codemirror_mode": {
    "name": "ipython",
    "version": 2
   },
   "file_extension": ".py",
   "mimetype": "text/x-python",
   "name": "python",
   "nbconvert_exporter": "python",
   "pygments_lexer": "ipython2",
   "version": "2.7.6"
  }
 },
 "nbformat": 4,
 "nbformat_minor": 5
}
