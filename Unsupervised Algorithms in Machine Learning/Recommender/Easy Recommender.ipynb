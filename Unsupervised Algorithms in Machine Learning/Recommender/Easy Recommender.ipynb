{
 "cells": [
  {
   "cell_type": "code",
   "execution_count": 28,
   "metadata": {},
   "outputs": [
    {
     "data": {
      "text/html": [
       "<div>\n",
       "<style scoped>\n",
       "    .dataframe tbody tr th:only-of-type {\n",
       "        vertical-align: middle;\n",
       "    }\n",
       "\n",
       "    .dataframe tbody tr th {\n",
       "        vertical-align: top;\n",
       "    }\n",
       "\n",
       "    .dataframe thead th {\n",
       "        text-align: right;\n",
       "    }\n",
       "</style>\n",
       "<table border=\"1\" class=\"dataframe\">\n",
       "  <thead>\n",
       "    <tr style=\"text-align: right;\">\n",
       "      <th></th>\n",
       "      <th>WatchDog</th>\n",
       "      <th>GTAV</th>\n",
       "      <th>PUBG</th>\n",
       "      <th>StarCraft</th>\n",
       "      <th>CallOfDuty</th>\n",
       "      <th>FIFA</th>\n",
       "      <th>WOW</th>\n",
       "      <th>MineCraft</th>\n",
       "    </tr>\n",
       "    <tr>\n",
       "      <th>userID/game</th>\n",
       "      <th></th>\n",
       "      <th></th>\n",
       "      <th></th>\n",
       "      <th></th>\n",
       "      <th></th>\n",
       "      <th></th>\n",
       "      <th></th>\n",
       "      <th></th>\n",
       "    </tr>\n",
       "  </thead>\n",
       "  <tbody>\n",
       "    <tr>\n",
       "      <th>firechicken</th>\n",
       "      <td>3.0</td>\n",
       "      <td>3.0</td>\n",
       "      <td>4.0</td>\n",
       "      <td>NaN</td>\n",
       "      <td>4.0</td>\n",
       "      <td>2.0</td>\n",
       "      <td>3.0</td>\n",
       "      <td>NaN</td>\n",
       "    </tr>\n",
       "    <tr>\n",
       "      <th>mike0702</th>\n",
       "      <td>3.0</td>\n",
       "      <td>5.0</td>\n",
       "      <td>4.0</td>\n",
       "      <td>3.0</td>\n",
       "      <td>3.0</td>\n",
       "      <td>NaN</td>\n",
       "      <td>NaN</td>\n",
       "      <td>4.0</td>\n",
       "    </tr>\n",
       "    <tr>\n",
       "      <th>zephyros</th>\n",
       "      <td>NaN</td>\n",
       "      <td>4.0</td>\n",
       "      <td>NaN</td>\n",
       "      <td>5.0</td>\n",
       "      <td>NaN</td>\n",
       "      <td>NaN</td>\n",
       "      <td>2.0</td>\n",
       "      <td>1.0</td>\n",
       "    </tr>\n",
       "    <tr>\n",
       "      <th>dadvador</th>\n",
       "      <td>2.0</td>\n",
       "      <td>NaN</td>\n",
       "      <td>NaN</td>\n",
       "      <td>4.0</td>\n",
       "      <td>NaN</td>\n",
       "      <td>4.0</td>\n",
       "      <td>4.0</td>\n",
       "      <td>5.0</td>\n",
       "    </tr>\n",
       "  </tbody>\n",
       "</table>\n",
       "</div>"
      ],
      "text/plain": [
       "             WatchDog  GTAV  PUBG  StarCraft  CallOfDuty  FIFA  WOW  MineCraft\n",
       "userID/game                                                                   \n",
       "firechicken       3.0   3.0   4.0        NaN         4.0   2.0  3.0        NaN\n",
       "mike0702          3.0   5.0   4.0        3.0         3.0   NaN  NaN        4.0\n",
       "zephyros          NaN   4.0   NaN        5.0         NaN   NaN  2.0        1.0\n",
       "dadvador          2.0   NaN   NaN        4.0         NaN   4.0  4.0        5.0"
      ]
     },
     "execution_count": 28,
     "metadata": {},
     "output_type": "execute_result"
    }
   ],
   "source": [
    "import pandas as pd\n",
    "import numpy as np\n",
    "from pandas import Series\n",
    "\n",
    "data = pd.read_csv(\"easy_recommender.csv\",delimiter=\"\\t\", index_col=0)\n",
    "data"
   ]
  },
  {
   "cell_type": "code",
   "execution_count": 27,
   "metadata": {},
   "outputs": [
    {
     "name": "stdout",
     "output_type": "stream",
     "text": [
      "            mike0702  zephyros  equals\n",
      "WatchDog        True     False   False\n",
      "GTAV            True      True    True\n",
      "PUBG            True     False   False\n",
      "StarCraft       True      True    True\n",
      "CallOfDuty      True     False   False\n",
      "FIFA           False     False   False\n",
      "WOW            False      True   False\n",
      "MineCraft       True      True    True\n",
      "0.375\n"
     ]
    }
   ],
   "source": [
    "def convert_to_boolean_vector(name:str, data = data) -> Series:\n",
    "    to_process = data.loc[name]\n",
    "    return to_process.isna().map(lambda x: not x)\n",
    "def compute_jaccard_distance(name1:str, name2:str, data = data):\n",
    "    name1_data = convert_to_boolean_vector(name1,data)\n",
    "    name2_data = convert_to_boolean_vector(name2,data)\n",
    "    print(pd.concat([name1_data, name2_data, (name1_data & name2_data).rename(\"equals\")],axis=1))\n",
    "\n",
    "    intersection = (name1_data & name2_data).sum()\n",
    "    \n",
    "    return intersection/data.columns.size\n",
    "print(compute_jaccard_distance(\"mike0702\",\"zephyros\"))"
   ]
  },
  {
   "cell_type": "code",
   "execution_count": 31,
   "metadata": {},
   "outputs": [
    {
     "name": "stdout",
     "output_type": "stream",
     "text": [
      "            firechicken  dadvador  *\n",
      "WatchDog              1         1  1\n",
      "GTAV                  1         0  0\n",
      "PUBG                  1         0  0\n",
      "StarCraft             0         1  0\n",
      "CallOfDuty            1         0  0\n",
      "FIFA                  1         1  1\n",
      "WOW                   1         1  1\n",
      "MineCraft             0         1  0\n",
      "|a|:2.23606797749979, |b|:2.449489742783178\n",
      "0.5477225575051661\n"
     ]
    }
   ],
   "source": [
    "def compute_boolean_cosine_distance(name1: str, name2:str):\n",
    "    name1_data = convert_to_boolean_vector(name1,data)\n",
    "    name2_data = convert_to_boolean_vector(name2,data)\n",
    "    data1 = name1_data.map(lambda x: 1 if x else 0)\n",
    "    data2 = name2_data.map(lambda x: 1 if x else 0)\n",
    "    print(pd.concat([data1, data2, (data1 * data2).rename(\"*\")],axis=1))\n",
    "    print(f\"|a|:{np.sqrt(data2.sum())}, |b|:{np.sqrt(data1.sum())}\")\n",
    "    return (data1 * data2).sum()/(np.sqrt(data2.sum())* np.sqrt(data1.sum()))\n",
    "    \n",
    "print(compute_boolean_cosine_distance(\"firechicken\",\"dadvador\"))"
   ]
  }
 ],
 "metadata": {
  "kernelspec": {
   "display_name": "venv",
   "language": "python",
   "name": "python3"
  },
  "language_info": {
   "codemirror_mode": {
    "name": "ipython",
    "version": 3
   },
   "file_extension": ".py",
   "mimetype": "text/x-python",
   "name": "python",
   "nbconvert_exporter": "python",
   "pygments_lexer": "ipython3",
   "version": "3.8.13"
  },
  "orig_nbformat": 4
 },
 "nbformat": 4,
 "nbformat_minor": 2
}
